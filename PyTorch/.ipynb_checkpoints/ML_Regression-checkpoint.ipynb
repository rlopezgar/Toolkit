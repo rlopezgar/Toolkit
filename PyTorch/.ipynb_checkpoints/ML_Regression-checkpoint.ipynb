{
 "cells": [
  {
   "cell_type": "markdown",
   "id": "f0d5cd3c-3e7c-4f5a-a027-6d329d8fc549",
   "metadata": {},
   "source": [
    "# Regression"
   ]
  },
  {
   "cell_type": "markdown",
   "id": "d117ad4d-0e5a-4eb1-9593-d45711ff37a2",
   "metadata": {},
   "source": [
    "## Content\n",
    "* Linear Regression\n",
    "    * Simple Linear Regression\n",
    "    * Multiple Linear Regression\n",
    "    * Multple Input/Output Regression"
   ]
  },
  {
   "cell_type": "markdown",
   "id": "ebb3c0e0-4500-436c-9ce4-709db6168503",
   "metadata": {},
   "source": [
    "Se ocuparán las siguientes librerías."
   ]
  },
  {
   "cell_type": "code",
   "execution_count": 1,
   "id": "4b721f05-4dd4-40e9-9269-758561350cda",
   "metadata": {},
   "outputs": [],
   "source": [
    "import numpy as np\n",
    "import pandas as pd\n",
    "import torch\n",
    "import seaborn as sns\n",
    "import matplotlib.pyplot as plt\n",
    "%matplotlib inline "
   ]
  },
  {
   "cell_type": "markdown",
   "id": "a85e65f6-e5e1-4f64-841a-339c1380605f",
   "metadata": {},
   "source": [
    "## Linear Regression\n",
    "When working with PyTorch we'll always estimate the parameters of a model by a minimizing the cost of a loss function. For linear regression, mean squared error (`nn.MSELoss`) is tipically used.\n",
    "\n",
    "**Simple Linear Regression**  \n",
    "Consider a sample of $n$ elements and 1 fauture $(x_1, y_1),...,(x_n,y_n)$ $(x_1,...,x_n \\in\\mathbb{R},y\\in\\mathbb{R}^n)$ and the simple linear model given by:\n",
    "$$ \\hat{y} = wx + b$$  \n",
    "We'd like to find the parameter values $w\\in\\mathbb{R}$, $b\\in\\mathbb{R}$ that minimice the following cost function (MSE criterion):\n",
    "$$ l(x;w,b) = ||y-\\hat{y}||^2_2$$\n",
    "\n",
    "**Multiple Linear Regression**  \n",
    "Consider a sample of n elements and m features $(x_1, y_1),...,(x_n,y_n)$ $(x_1,...,x_n\\in\\mathbb{R}^m, y\\in\\mathbb{R}^n)$ and the multiple linear model given by :\n",
    "$$\\hat{y} = w_1x_1 + w_2x_2 + ... + w_mx_m + b$$\n",
    "We'd like to find the parameter values $w\\in\\mathbb{R}^m$, $b\\in\\mathbb{R}$ that minimice the following cost function (MSE criterion):\n",
    "$$ l(x;w,b) = ||y-\\hat{y}||^2_2$$\n",
    "\n",
    "**Mutiple Input/Output Linear Regression**  \n",
    "Consider $k$ samples of n elements and m features $(x_1, y_1),...,(x_n,y_n)$ $(x_1,...,x_n\\in\\mathbb{R}^m, $$y\\in\\mathbb{R}^n)$ and the multiple input/output linear model given by:\n",
    "$$\\hat{y}_1 = b_{1,0} + w_{1,1}x_1 + w_{1,2}x_2 + w_{1,3}x_3 + ... + w_{1,m}x_m$$\n",
    "$$\\hat{y}_2 = b_{2,0} + w_{2,1}x_1 + w_{2,2}x_2 + w_{2,3}x_3 + ... + w_{2,m} x_m$$\n",
    "$$.$$\n",
    "$$.$$\n",
    "$$.$$\n",
    "$$\\hat{y}_k = b_{k,0} + w_{k,1}x_1 + w_{k,2}x_2 + w_{k,3}x_3 + ... + w_{k,m}x_m$$\n",
    "We'd like to find the parameter values within $w$, $b$ that minimice the following cost function (MSE criterion):\n",
    "$$ l(x;w,b) = ||Y - \\hat{Y}||_F^2$$\n",
    "\n",
    "In order to create a linear regression model with certain input_size and output_size, use one of the following codes: \n",
    "  \n",
    "**nn**    \n",
    "`import torch.nn as nn`  \n",
    "`model = nn.Lienar(in_features = input_size, out_features = output_size)`  \n",
    "  \n",
    "**nn custom**  \n",
    "`import torch.nn as nn`  \n",
    "`class LR(nn.module):`  \n",
    "`   def __init__(self, input_size, output_size):`  \n",
    "`       super(LR, self).__innit__()`  \n",
    "`       self.linear = nn.Linear(in_size, out_size)`  \n",
    "` `  \n",
    "`    def forward:`  \n",
    "`        out = self.linear(x)`  \n",
    "`        return out`  \n",
    "` `  \n",
    "`model = LR(in_size = in_size, out_size = out_size)`  \n",
    "\n",
    "\n",
    "In order to train a linear regression model, no matter if it's from nn.module or a custom one, follow the next steps:\n",
    "  \n",
    "0. Import required tools\n",
    "1. Create a Dataset object.\n",
    "2. Create model object.\n",
    "3. Crete a objects for training (training function, criterion object, DataLoader object, optimizer).\n",
    "4. Train model."
   ]
  },
  {
   "cell_type": "markdown",
   "id": "dbd53348-5f2d-4591-bbf3-a7a1b81ea803",
   "metadata": {},
   "source": [
    "### Simple Linear Regression"
   ]
  },
  {
   "cell_type": "markdown",
   "id": "d1515f42-fb0e-4290-899d-82c55dd9bb57",
   "metadata": {},
   "source": [
    "In order to train the model, we'll make some toy data that reprresents a line with some noise. In this case $\\hat{y} = x - 1 + \\epsilon$."
   ]
  },
  {
   "cell_type": "code",
   "execution_count": 2,
   "id": "89e28b09-e93a-4d91-aea3-7a41da9ef699",
   "metadata": {},
   "outputs": [],
   "source": [
    "## Import required tools\n",
    "from torch.utils.data import Dataset, DataLoader\n",
    "from torch import nn, optim"
   ]
  },
  {
   "cell_type": "code",
   "execution_count": 3,
   "id": "ca39dcd1-382a-457e-9384-de5d28025499",
   "metadata": {},
   "outputs": [
    {
     "name": "stderr",
     "output_type": "stream",
     "text": [
      "<>:25: SyntaxWarning: invalid escape sequence '\\h'\n",
      "<>:25: SyntaxWarning: invalid escape sequence '\\h'\n",
      "C:\\Users\\MXKRDL01\\AppData\\Local\\Temp\\ipykernel_12700\\18450023.py:25: SyntaxWarning: invalid escape sequence '\\h'\n",
      "  plt.plot(data_set.x.numpy(), data_set.y_hat.numpy(), 'rx', label = '$\\hat{y}$')\n"
     ]
    },
    {
     "data": {
      "text/plain": [
       "<matplotlib.legend.Legend at 0x193c39c7650>"
      ]
     },
     "execution_count": 3,
     "metadata": {},
     "output_type": "execute_result"
    },
    {
     "data": {
      "image/png": "[encoded data removed]",
      "text/plain": [
       "<Figure size 640x480 with 1 Axes>"
      ]
     },
     "metadata": {},
     "output_type": "display_data"
    }
   ],
   "source": [
    "## 1. Create a Dataset object\n",
    "\n",
    "# Create dataset class\n",
    "class Data(Dataset):\n",
    "    \n",
    "    # Constructor\n",
    "    def __init__(self):\n",
    "        self.x = torch.arange(-3, 3, 0.1).view(-1, 1)\n",
    "        self.y = 1 * self.x - 1\n",
    "        self.y_hat = self.y + 0.1 * torch.randn(self.x.size())\n",
    "        self.len = self.x.shape[0]\n",
    "        \n",
    "    # Getter\n",
    "    def __getitem__(self,index):    \n",
    "        return self.x[index],self.y[index]\n",
    "    \n",
    "    # Get Length\n",
    "    def __len__(self):\n",
    "        return self.len\n",
    "\n",
    "# Create dataset object\n",
    "data_set = Data()\n",
    "\n",
    "# Plot the data\n",
    "plt.plot(data_set.x.numpy(), data_set.y_hat.numpy(), 'rx', label = '$\\hat{y}$')\n",
    "plt.plot(data_set.x.numpy(), data_set.y.numpy(), label = '$y$' )\n",
    "plt.xlabel('x')\n",
    "plt.ylabel('y')\n",
    "plt.legend()"
   ]
  },
  {
   "cell_type": "code",
   "execution_count": 5,
   "id": "007e26e1-36e0-43b8-b2ff-035bd21ff2a8",
   "metadata": {},
   "outputs": [
    {
     "data": {
      "text/plain": [
       "OrderedDict([('linear.weight', tensor([[0.7057]])),\n",
       "             ('linear.bias', tensor([0.5063]))])"
      ]
     },
     "execution_count": 5,
     "metadata": {},
     "output_type": "execute_result"
    }
   ],
   "source": [
    "## 2. Create a model object \n",
    "\n",
    "# Model class\n",
    "class linear_regression(nn.Module):\n",
    "    \n",
    "    # Constructor\n",
    "    def __init__(self, input_size, output_size):\n",
    "        super(linear_regression, self).__init__()\n",
    "        self.linear = nn.Linear(input_size, output_size)\n",
    "        \n",
    "    # Prediction\n",
    "    def forward(self, x):\n",
    "        yhat = self.linear(x)\n",
    "        return yhat\n",
    "        \n",
    "# Model object\n",
    "model = linear_regression(1,1)\n",
    "\n",
    "# View parameters\n",
    "model.state_dict()"
   ]
  },
  {
   "cell_type": "code",
   "execution_count": 6,
   "id": "5e625b2f-3c0f-455d-a01f-94ac3042a6d7",
   "metadata": {},
   "outputs": [],
   "source": [
    "## 3. Create training objects\n",
    "\n",
    "# Define training function\n",
    "# Trainer function\n",
    "def train_model(criterion, train_loader, optimizer, epochs):    \n",
    "    LOSS = []\n",
    "    loss_epoch = 0\n",
    "    for epoch in range(epochs):\n",
    "        for x,y in train_loader:\n",
    "            yhat = model(x)\n",
    "            loss = criterion(yhat, y)\n",
    "            loss_epoch = loss_epoch + loss\n",
    "            optimizer.zero_grad()\n",
    "            loss.backward()\n",
    "            optimizer.step()\n",
    "        LOSS.append(loss_epoch.item())\n",
    "        loss_epoch = 0\n",
    "    return LOSS \n",
    "\n",
    "# Criterion function\n",
    "criterion = nn.MSELoss()\n",
    "\n",
    "# Dataloader object\n",
    "train_loader = DataLoader(dataset = data_set, batch_size = 1)\n",
    "\n",
    "# Optimizer object\n",
    "optimizer = optim.SGD(model.parameters(), lr = 0.1)"
   ]
  },
  {
   "cell_type": "code",
   "execution_count": 7,
   "id": "ed94473b-45a3-48a5-942e-6c53fb89a2f6",
   "metadata": {},
   "outputs": [
    {
     "data": {
      "text/plain": [
       "Text(0, 0.5, 'Cost')"
      ]
     },
     "execution_count": 7,
     "metadata": {},
     "output_type": "execute_result"
    },
    {
     "data": {
      "image/png": "[encoded data removed]",
      "text/plain": [
       "<Figure size 640x480 with 1 Axes>"
      ]
     },
     "metadata": {},
     "output_type": "display_data"
    }
   ],
   "source": [
    "## 4. Train model\n",
    "LOSS = train_model(criterion, train_loader, optimizer, epochs = 100)\n",
    "\n",
    "# View Loss\n",
    "plt.plot(LOSS)\n",
    "plt.xlabel(\"Epochs\")\n",
    "plt.ylabel(\"Cost\")"
   ]
  },
  {
   "cell_type": "code",
   "execution_count": 8,
   "id": "4dcd33a0-a0da-4e57-87ee-e451087f4755",
   "metadata": {},
   "outputs": [
    {
     "data": {
      "text/plain": [
       "OrderedDict([('linear.weight', tensor([[1.]])),\n",
       "             ('linear.bias', tensor([-1.0000]))])"
      ]
     },
     "execution_count": 8,
     "metadata": {},
     "output_type": "execute_result"
    }
   ],
   "source": [
    "# View parameters\n",
    "model.state_dict()"
   ]
  },
  {
   "cell_type": "code",
   "execution_count": 10,
   "id": "9fc56284-4149-457c-928d-eb77de65a207",
   "metadata": {},
   "outputs": [
    {
     "name": "stderr",
     "output_type": "stream",
     "text": [
      "<>:5: SyntaxWarning: invalid escape sequence '\\h'\n",
      "<>:5: SyntaxWarning: invalid escape sequence '\\h'\n",
      "C:\\Users\\MXKRDL01\\AppData\\Local\\Temp\\ipykernel_9500\\1738158253.py:5: SyntaxWarning: invalid escape sequence '\\h'\n",
      "  plt.plot(x,y_hat, 'rx', label = '$\\hat{y}$')\n"
     ]
    },
    {
     "data": {
      "text/plain": [
       "<matplotlib.legend.Legend at 0x20238bfa300>"
      ]
     },
     "execution_count": 10,
     "metadata": {},
     "output_type": "execute_result"
    },
    {
     "data": {
      "image/png": "[encoded data removed]",
      "text/plain": [
       "<Figure size 640x480 with 1 Axes>"
      ]
     },
     "metadata": {},
     "output_type": "display_data"
    }
   ],
   "source": [
    "# Make predictions\n",
    "x = data_set.x\n",
    "y = data_set.y\n",
    "y_hat = model(data_set.x).detach().numpy()\n",
    "plt.plot(x,y_hat, 'rx', label = '$\\hat{y}$')\n",
    "plt.plot(x,y, label = '$y$')\n",
    "plt.legend()"
   ]
  },
  {
   "cell_type": "markdown",
   "id": "f1fb2d4e-d99d-4fb2-9066-a84f5ad6f270",
   "metadata": {},
   "source": [
    "### Multiple Linear Regression"
   ]
  },
  {
   "cell_type": "markdown",
   "id": "f63f00dc-c106-46fb-8db7-85f2261021ca",
   "metadata": {},
   "source": [
    "In order to train the model, we'll make some toy data that reprresents a line with some noise. In this case $\\hat{y} = x_1 + x_2 + 1 + \\epsilon$."
   ]
  },
  {
   "cell_type": "code",
   "execution_count": 2,
   "id": "c9247a1a-2148-4fc2-9f53-57c15c2302a1",
   "metadata": {},
   "outputs": [],
   "source": [
    "## 0. Import required tools\n",
    "from torch.utils.data import Dataset, DataLoader\n",
    "from torch import nn,optim"
   ]
  },
  {
   "cell_type": "code",
   "execution_count": 3,
   "id": "bb8d870e-59c5-4601-aaaa-5c1df8b76a6f",
   "metadata": {},
   "outputs": [],
   "source": [
    "## 1. Create a Dataset object\n",
    "\n",
    "# Create Dataset subclass\n",
    "class Data(Dataset):\n",
    "    \n",
    "    # Constructor\n",
    "    def __init__(self):\n",
    "        self.x = torch.zeros(20, 2)\n",
    "        self.x[:, 0] = torch.arange(-1, 1, 0.1)\n",
    "        self.x[:, 1] = torch.arange(-1, 1, 0.1)\n",
    "        self.w = torch.tensor([[1.0], [1.0]])\n",
    "        self.b = 1\n",
    "        self.f = torch.mm(self.x, self.w) + self.b    \n",
    "        self.y = self.f + 0.1 * torch.randn((self.x.shape[0],1))\n",
    "        self.len = self.x.shape[0]\n",
    "\n",
    "    # Getter\n",
    "    def __getitem__(self, index):          \n",
    "        return self.x[index], self.y[index]\n",
    "    \n",
    "    # Get Length\n",
    "    def __len__(self):\n",
    "        return self.len\n",
    "\n",
    "# Create Dataset object\n",
    "data_set = Data()"
   ]
  },
  {
   "cell_type": "code",
   "execution_count": 4,
   "id": "3d0f7e5f-ddd4-4e33-8ce6-a452ace9f0eb",
   "metadata": {},
   "outputs": [
    {
     "data": {
      "text/plain": [
       "OrderedDict([('linear.weight', tensor([[0.0280, 0.1297]])),\n",
       "             ('linear.bias', tensor([0.1971]))])"
      ]
     },
     "execution_count": 4,
     "metadata": {},
     "output_type": "execute_result"
    }
   ],
   "source": [
    "## 2. Create a model onject\n",
    "\n",
    "# Model class\n",
    "class linear_regression(nn.Module):\n",
    "    \n",
    "    # Constructor\n",
    "    def __init__(self, input_size, output_size):\n",
    "        super(linear_regression, self).__init__()\n",
    "        self.linear = nn.Linear(input_size, output_size)\n",
    "        \n",
    "    # Prediction\n",
    "    def forward(self, x):\n",
    "        yhat = self.linear(x)\n",
    "        return yhat\n",
    "\n",
    "# Model object\n",
    "model = linear_regression(2,1)\n",
    "\n",
    "# View initial parameters\n",
    "model.state_dict()"
   ]
  },
  {
   "cell_type": "code",
   "execution_count": 5,
   "id": "d0d3901a-0007-43b2-85b1-dd3ef89f5f93",
   "metadata": {},
   "outputs": [],
   "source": [
    "## Create objects for training\n",
    "\n",
    "# Training function\n",
    "def train_model(criterion, train_loader, optimizer, epochs):    \n",
    "    LOSS = []\n",
    "    loss_epoch = 0\n",
    "    for epoch in range(epochs):\n",
    "        for x,y in train_loader:\n",
    "            yhat = model(x)\n",
    "            loss = criterion(yhat, y)\n",
    "            loss_epoch = loss_epoch + loss\n",
    "            optimizer.zero_grad()\n",
    "            loss.backward()\n",
    "            optimizer.step()\n",
    "        LOSS.append(loss_epoch.item())\n",
    "        loss_epoch = 0\n",
    "    return LOSS\n",
    "\n",
    "# Criterion object\n",
    "criterion = nn.MSELoss()\n",
    "\n",
    "# Dataloader object \n",
    "train_loader = DataLoader(dataset = data_set, batch_size = 1)\n",
    "\n",
    "# Optimizer object\n",
    "optimizer = optim.SGD(model.parameters(), lr = 0.1)"
   ]
  },
  {
   "cell_type": "code",
   "execution_count": 6,
   "id": "5b4e09b3-ec10-4c18-a464-4f8cb7a64fd1",
   "metadata": {},
   "outputs": [
    {
     "data": {
      "text/plain": [
       "Text(0, 0.5, 'Cost')"
      ]
     },
     "execution_count": 6,
     "metadata": {},
     "output_type": "execute_result"
    },
    {
     "data": {
      "image/png": "[encoded data removed]",
      "text/plain": [
       "<Figure size 640x480 with 1 Axes>"
      ]
     },
     "metadata": {},
     "output_type": "display_data"
    }
   ],
   "source": [
    "## 4. Train the model\n",
    "# Train model\n",
    "LOSS = train_model(criterion, train_loader, optimizer, 100)\n",
    "\n",
    "# View Loss\n",
    "plt.plot(LOSS)\n",
    "plt.xlabel(\"Epochs\")\n",
    "plt.ylabel(\"Cost\")"
   ]
  },
  {
   "cell_type": "code",
   "execution_count": 7,
   "id": "9224cb78-6a2c-439c-9281-347786ea6c7d",
   "metadata": {},
   "outputs": [
    {
     "name": "stdout",
     "output_type": "stream",
     "text": [
      "OrderedDict({'linear.weight': tensor([[0.9619, 1.0636]]), 'linear.bias': tensor([0.9781])})\n"
     ]
    }
   ],
   "source": [
    "# Get parameters\n",
    "print(model.state_dict())"
   ]
  },
  {
   "cell_type": "code",
   "execution_count": 8,
   "id": "d6cd19ef-f664-4d03-bcc0-82c6507a1b7e",
   "metadata": {},
   "outputs": [
    {
     "data": {
      "text/plain": [
       "tensor([[4.0671]], grad_fn=<AddmmBackward0>)"
      ]
     },
     "execution_count": 8,
     "metadata": {},
     "output_type": "execute_result"
    }
   ],
   "source": [
    "# Make prediction \n",
    "x = torch.tensor([[1.0,2.0]])\n",
    "yhat = model(x)\n",
    "yhat"
   ]
  },
  {
   "cell_type": "markdown",
   "id": "94fe67dc-2a9f-435b-866c-f5bbf6a4548a",
   "metadata": {},
   "source": [
    "### Multiple Input/Output Linear Regression"
   ]
  },
  {
   "cell_type": "markdown",
   "id": "f4afdfe7-c672-49da-a929-df6c164fbddd",
   "metadata": {},
   "source": [
    "In order to train the model, we'll make some toy data that reprresents a line with some noise. In this case $\\hat{y_1} = x_1 - x_2 + 1 + \\epsilon$ and $\\hat{y_2} = x_1 + 3x_2 - 1 + \\epsilon$."
   ]
  },
  {
   "cell_type": "code",
   "execution_count": 2,
   "id": "2d034b05-11aa-4564-b398-0bb10f41bc66",
   "metadata": {},
   "outputs": [],
   "source": [
    "## 0. Import required tools\n",
    "from torch.utils.data import Dataset, DataLoader\n",
    "from torch import nn,optim"
   ]
  },
  {
   "cell_type": "code",
   "execution_count": 27,
   "id": "cab306ce-3b72-4e5d-b629-fd2dec250a3e",
   "metadata": {},
   "outputs": [],
   "source": [
    "## 1. Create a Dataset object\n",
    "\n",
    "# Create Dataset class\n",
    "class Data(Dataset):\n",
    "    def __init__(self):\n",
    "            self.x=torch.zeros(20,2)\n",
    "            self.x[:,0]=torch.arange(-1,1,0.1)\n",
    "            self.x[:,1]=torch.arange(-1,1,0.1)\n",
    "            self.w=torch.tensor([ [1.0,-1.0],[1.0,3.0]])\n",
    "            self.b=torch.tensor([[1.0,-1.0]])\n",
    "            self.f=torch.mm(self.x,self.w)+self.b\n",
    "            self.y=self.f+0.001*torch.randn((self.x.shape[0],1))\n",
    "            self.len=self.x.shape[0]\n",
    "\n",
    "    def __getitem__(self,index):\n",
    "\n",
    "        return self.x[index],self.y[index]\n",
    "    \n",
    "    def __len__(self):\n",
    "        return self.len\n",
    "\n",
    "# Create Dataset object\n",
    "data_set = Data()"
   ]
  },
  {
   "cell_type": "code",
   "execution_count": 38,
   "id": "bf5d44b0-98aa-446d-ae17-27046e48ad91",
   "metadata": {},
   "outputs": [
    {
     "data": {
      "text/plain": [
       "<bound method Module.state_dict of linear_regression(\n",
       "  (linear): Linear(in_features=2, out_features=2, bias=True)\n",
       ")>"
      ]
     },
     "execution_count": 38,
     "metadata": {},
     "output_type": "execute_result"
    }
   ],
   "source": [
    "## 3. Create a model object\n",
    "\n",
    "# Model class\n",
    "class linear_regression(nn.Module):\n",
    "    \n",
    "    # Constructor\n",
    "    def __init__(self, input_size, output_size):\n",
    "        super(linear_regression, self).__init__()\n",
    "        self.linear = nn.Linear(input_size, output_size)\n",
    "        \n",
    "    # Prediction\n",
    "    def forward(self, x):\n",
    "        yhat = self.linear(x)\n",
    "        return yhat\n",
    "\n",
    "# Model object\n",
    "model = linear_regression(2,2)\n",
    "\n",
    "# View initial parameters\n",
    "model.state_dict"
   ]
  },
  {
   "cell_type": "code",
   "execution_count": 39,
   "id": "48afb6da-2135-4282-ab5b-678a593e9523",
   "metadata": {},
   "outputs": [],
   "source": [
    "## 3. Create objects for training\n",
    "\n",
    "# Training function\n",
    "def train_model(criterion, train_loader, optimizer, epochs):    \n",
    "    LOSS = []\n",
    "    loss_epoch = 0\n",
    "    for epoch in range(epochs):\n",
    "        for x,y in train_loader:\n",
    "            yhat = model(x)\n",
    "            loss = criterion(yhat, y)\n",
    "            loss_epoch = loss_epoch + loss\n",
    "            optimizer.zero_grad()\n",
    "            loss.backward()\n",
    "            optimizer.step()\n",
    "        LOSS.append(loss_epoch.item())\n",
    "        loss_epoch = 0\n",
    "    return LOSS\n",
    "\n",
    "# Criterion object\n",
    "criterion = nn.MSELoss()\n",
    "\n",
    "# DataLoader object\n",
    "train_loader = DataLoader(dataset = data_set, batch_size = 5)\n",
    "\n",
    "# Optimizer object\n",
    "optimizer = optim.SGD(model.parameters(), lr = 0.1)"
   ]
  },
  {
   "cell_type": "code",
   "execution_count": 40,
   "id": "b0b3ae44-f6ab-4bc9-bcac-bc4127306058",
   "metadata": {},
   "outputs": [
    {
     "data": {
      "text/plain": [
       "Text(0, 0.5, 'Cost')"
      ]
     },
     "execution_count": 40,
     "metadata": {},
     "output_type": "execute_result"
    },
    {
     "data": {
      "image/png": "[encoded data removed]",
      "text/plain": [
       "<Figure size 640x480 with 1 Axes>"
      ]
     },
     "metadata": {},
     "output_type": "display_data"
    }
   ],
   "source": [
    "## 4. Train the model\n",
    "# Train model\n",
    "LOSS = train_model(criterion, train_loader, optimizer, epochs = 100)\n",
    "\n",
    "# View Loss\n",
    "plt.plot(LOSS)\n",
    "plt.xlabel(\"Epochs\")\n",
    "plt.ylabel(\"Cost\")"
   ]
  },
  {
   "cell_type": "code",
   "execution_count": 41,
   "id": "8341417f-e219-4b05-a695-11fcfdae3106",
   "metadata": {},
   "outputs": [
    {
     "data": {
      "text/plain": [
       "OrderedDict([('linear.weight',\n",
       "              tensor([[1.0564, 0.9430],\n",
       "                      [0.9277, 1.0717]])),\n",
       "             ('linear.bias', tensor([ 0.9996, -1.0004]))])"
      ]
     },
     "execution_count": 41,
     "metadata": {},
     "output_type": "execute_result"
    }
   ],
   "source": [
    "# Get parameters\n",
    "model.state_dict()"
   ]
  },
  {
   "cell_type": "code",
   "execution_count": 42,
   "id": "45342b5d-7fb5-42a4-9c60-f311ad1fb176",
   "metadata": {},
   "outputs": [
    {
     "data": {
      "text/plain": [
       "tensor([[3.9420, 2.0707],\n",
       "        [4.1687, 1.7826]], grad_fn=<AddmmBackward0>)"
      ]
     },
     "execution_count": 42,
     "metadata": {},
     "output_type": "execute_result"
    }
   ],
   "source": [
    "# Make prediction \n",
    "x = torch.tensor([[1.0,2.0], [3.0, 0.0]])\n",
    "yhat = model(x)\n",
    "yhat"
   ]
  },
  {
   "cell_type": "code",
   "execution_count": null,
   "id": "63ab076b-9901-4a57-aa79-0d110c42b5b5",
   "metadata": {},
   "outputs": [],
   "source": []
  },
  {
   "cell_type": "code",
   "execution_count": null,
   "id": "83d9664d-cba6-4831-8e3d-74fa932133da",
   "metadata": {},
   "outputs": [],
   "source": []
  },
  {
   "cell_type": "code",
   "execution_count": null,
   "id": "80cb5290-48ee-471c-84ac-8cc4ccc90216",
   "metadata": {},
   "outputs": [],
   "source": []
  },
  {
   "cell_type": "code",
   "execution_count": null,
   "id": "8fe79b07-2e80-4449-b3b2-b2b93d8b1545",
   "metadata": {},
   "outputs": [],
   "source": []
  }
 ],
 "metadata": {
  "kernelspec": {
   "display_name": "Python 3 (ipykernel)",
   "language": "python",
   "name": "python3"
  },
  "language_info": {
   "codemirror_mode": {
    "name": "ipython",
    "version": 3
   },
   "file_extension": ".py",
   "mimetype": "text/x-python",
   "name": "python",
   "nbconvert_exporter": "python",
   "pygments_lexer": "ipython3",
   "version": "3.8.17"
  }
 },
 "nbformat": 4,
 "nbformat_minor": 5
}
