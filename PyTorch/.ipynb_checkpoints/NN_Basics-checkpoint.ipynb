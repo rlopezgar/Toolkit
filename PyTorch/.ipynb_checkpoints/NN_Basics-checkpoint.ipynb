{
 "cells": [
  {
   "cell_type": "markdown",
   "id": "fba31f7c-3535-4988-a3c9-d053a61f9703",
   "metadata": {},
   "source": [
    "# Neural Networks Basics"
   ]
  },
  {
   "cell_type": "markdown",
   "id": "b8014bb4-eb10-4393-8b2b-b675a20ebd72",
   "metadata": {},
   "source": [
    "## Content\n",
    "* Definition\n",
    "* Backpropagation\n",
    "* Activation Functions"
   ]
  },
  {
   "cell_type": "markdown",
   "id": "784c135b-bdab-4177-9963-d48d6a6faa08",
   "metadata": {},
   "source": [
    "Required tools"
   ]
  },
  {
   "cell_type": "code",
   "execution_count": 1,
   "id": "c49d6a6d-84e6-4aa5-ba71-6fab8c1ca08f",
   "metadata": {},
   "outputs": [],
   "source": [
    "import numpy as np\n",
    "import pandas as pd\n",
    "import torch\n",
    "from torch import nn\n",
    "import seaborn as sns\n",
    "import matplotlib.pyplot as plt\n",
    "%matplotlib inline "
   ]
  },
  {
   "cell_type": "markdown",
   "id": "54fdcb8c-7c46-427a-9a10-28230f668dd8",
   "metadata": {},
   "source": [
    "Required config"
   ]
  },
  {
   "cell_type": "code",
   "execution_count": 2,
   "id": "8435110a-1252-4462-9db1-b288437a8a32",
   "metadata": {},
   "outputs": [
    {
     "data": {
      "text/plain": [
       "<torch._C.Generator at 0x7fc137d88e50>"
      ]
     },
     "execution_count": 2,
     "metadata": {},
     "output_type": "execute_result"
    }
   ],
   "source": [
    "torch.manual_seed(0)"
   ]
  },
  {
   "cell_type": "markdown",
   "id": "fab66668-fa73-4121-9257-3fa20000bcca",
   "metadata": {},
   "source": [
    "## Definition\n",
    "A neural network is a function that can be used to approximate most functions using a set of parameters."
   ]
  },
  {
   "cell_type": "markdown",
   "id": "87e91ec5-7614-40e3-9721-928eba925fd3",
   "metadata": {},
   "source": [
    "## Backpropagation"
   ]
  },
  {
   "cell_type": "markdown",
   "id": "731099ad-680e-4a13-b2f9-bd48e63009f5",
   "metadata": {},
   "source": [
    "\n",
    "In this video, we're going to discuss back propagation.\n",
    "In particular, we'll do a toy example of back propagation, and we'll discuss the vanishing gradient.\n",
    "We will cover: a toy example of back propagation, and we'll discuss the vanishingmgradient.\n",
    "There's a lot of math in this section, the details are not important\n",
    "all you should take away is: back propagation reduces a number of computations\n",
    "involved in calculating the gradient; and the problem of the sigmoid function i.e., the vanishing gradient.\n",
    "A neural network is a function of another function. The function “z”, is applied to “X”\n",
    "and then the function “a”, is applied to the function “z”. To help illustrate the process we're going to use these set of gears.\n",
    "And we have the gear X, and the gear X rotates at a certain rate, and the gear X affects the gear “A”.\n",
    "But there's also an intermediate gear and we'll denote it by a “Z”\n",
    "So it turns out that the rate of “A” is affected by “Z”, and then by “X”.\n",
    "So the derivative “A” with respect to X,\n",
    "is the derivative of X with respect to Z.\n",
    "Multiplied by the derivative of a with respect to Z. And we call this the chain rule.\n",
    "Let's take a look at this simple toy example of a neural network with one hidden layer and one output layer.\n",
    "We have the cost, let's look at one sample. We will write the output yhat interims of the activation.\n",
    "We have some training data and would like to perform gradient descent to determine the parameters.\n",
    "We need the values of the gradient to perform gradient descent on these two terms.\n",
    "So let's calculate the derivative or gradient.\n",
    "We have a loss function lets just use a squared error in this case.\n",
    "The derivative of the output layer with respect to our first parameter in the output layer.\n",
    "is the derivative of the loss function with respect to the activation on the output layer.\n",
    "Then we have to take the derivative of the activation with respect to the linear input z superscript 2.\n",
    "Then we’ll have to take the derivative of z superscript 2 with respect to our parameter.\n",
    "We now have the derivative of the weight in our output layer.\n",
    "Things get a little more complicated when we want to calculate the derivative of the parameter in the hidden layer.\n",
    "As before we have the derivative of the loss function with respect to the activation on the output layer.\n",
    "Then we have to take the derivative of the activation with respect to the linear input z superscript 2.\n",
    "But instead of taking the derivative with respect to the first weight,\n",
    "we take the derivative of z superscript 2 with respect to the activation of the hidden layer.\n",
    "We then differentiate the activation of the hidden layer with the linear input z superscript 2.\n",
    "Finally we differentiate the z superscript 2 with respect to our final weight and we get the final expression.\n",
    "Back propagation uses the derivative of the first parameter in the output layer,\n",
    "to help us calculate the parameter of the next layer.\n",
    "Here's our two equations we are not interested in the actual equations; we’re just trying to understand the concept.\n",
    "Let's represent similar terms with colors,\n",
    "you can see these two blue terms are present in the output layer and in the hidden layer.\n",
    "We just replace the two blue terms with this red term.\n",
    "We can obtain a computational saving by using the red term from the first equation in the second equation\n",
    "Let's see what happens when we have a deeper network, with more layers, lets calculate the gradient of all the terms.\n",
    "Let's use colors instead of equations. We have the derivative of the output layer\n",
    "and the subsequent hidden layers with respect to the weights.\n",
    "We can represent the blue terms with the light blue term,\n",
    "we can then use this term in the gradient for the parameter in the preceding layer.\n",
    "We then repeat the process for the next two terms, replacing them with a lighter orange.\n",
    "we then use these terms in the gradient for the weight in the deeper hidden layer.\n",
    "Repeating the process for the final layer.\n",
    "In the final layer we have the following terms in our gradient,\n",
    "we can save these terms. Then use them to determine the final gradient.\n",
    "This problem gets much more difficult as we add more layers and neurons, fortunately\n",
    "Pytorch takes care of it all for you using the backwards method.\n",
    "The main problem with building deeper networks is the Vanishing gradient.\n",
    "Consider the following network, let's try to understand the vanishing gradient problem.\n",
    "Let's look at the gradient of the last term.\n",
    "If you look at the expression for the parameter it is a product of many gradients.\n",
    "If you look at the gradient of the activation they are all less than one for any given input\n",
    "As a result if any of the inputs are too large\n",
    "the gradient will be near zero,\n",
    "or the product of these small gradients will be almost zero.\n",
    "Therefore, as we add more layers the gradient will get smaller and smaller.\n",
    "As a result we cannot update the parameter value. To overcome this problem\n",
    "we can change the activation functions or we can learn optimization methods that can help reduce this effect.\n",
    "We will cover these methods in the next video."
   ]
  },
  {
   "cell_type": "markdown",
   "id": "72d02399-2f6a-407b-b4fe-ac88ed240997",
   "metadata": {},
   "source": [
    "What is the reasion for back-propogation\n",
    "\n",
    "There are too many redundant computations\n",
    "\n",
    "\n",
    "True or False? If the derivative of all the sigmoid functions are approximately zero, therefore, when we appply the update equation for gradient descent nothing will happen.\n",
    "true. put the ecuation in orther for it to be evident"
   ]
  },
  {
   "cell_type": "markdown",
   "id": "81d1d0d5-1ef5-40e2-ab4e-6f26f8362085",
   "metadata": {},
   "source": [
    "## Activation Functions"
   ]
  },
  {
   "cell_type": "markdown",
   "id": "9149aa54-63b0-4d52-beff-2d0b8adc13c4",
   "metadata": {},
   "source": [
    "\n",
    "In this video we will cover the commonly used activation functions that are used in neural networks.\n",
    "We will introduce: Sigmoid, Tanh and Relu activation functions.\n",
    "and how to implement these activation functions in PyTorch.\n",
    "The first activation function is the sigmoid function. Here is the mathematical formula for the sigmoid function.\n",
    "It has an upper-bound of 1 and a lower bound of 0.\n",
    "One of the main drawback with using the sigmoid activation function is the vanishing gradient.\n",
    "Let's take the derivative of the sigmoid function. When z is negative 10 the derivative of the sigmoid function is 0.\n",
    "When z is set to zero, the derivative of the sigmoid function is 0.25\n",
    "when z is set to 2.5, the derivative of the sigmoid function is 0.07.\n",
    "If you recall from back propagation the derivative of loss with respect to the weight\n",
    "is given by the following mathematical function.\n",
    "The graph here shows the sigmoid function in blue and its derivative in orange.\n",
    "As the product includes the derivative of a bunch of sigmoid functions,\n",
    "this will contribute to the problem of the vanishing gradient,\n",
    "because the product of numbers less than one will tend to go towards zero.\n",
    "The tanh function is another popular activation function.\n",
    "the upper-bound is 1, the lower bound is -1.\n",
    "The tanh function is zero centered as a result it has better performance,\n",
    "see the following paper for details.\n",
    "The following function shows the derivative of the Tanh function in orange and the tanh function in blue.\n",
    "You can see that except when z equals to 0, all the values of the derivative of tanh is less than 1,\n",
    "so the tanh function also suffers from the vanishing gradient problem as well.\n",
    "Our final activation function is the rectified linear unit function or relu function in short.\n",
    "The value of the relu function is 0 when its input is less then zero.\n",
    "If the input z is larger than 0 the input of the function will equal its output.\n",
    "If the input z equals 5, the output equals 5.\n",
    "If the input z equals 10, the output equals 10 otherwise it will equal zero.\n",
    "We will see the gradient as one as well as the input is grater than zero.\n",
    "But when the function is less than zero the derivative is zero.\n",
    "Since the derivative of the relu function is 1 for an input greater than zero,\n",
    "the relu activation function provides a partial solution to the vanishing gradient problem.\n",
    "We can compare all the activation functions in the following plot.\n",
    "Let's implement the sigmoid, tanh, and relu activation function in PyTorch.\n",
    "You can implement the sigmoid function by calling it during the forward pass, taking the linear function as the input.\n",
    "Net_Tanh is our model that implements the tanh activation function.\n",
    "In this case the tanh function is called during the forward pass, taking the linear function as the input.\n",
    "Finally “net relu’ is our model that implements the relu activation function.\n",
    "The relu function is called during the forward pass, taking the linear function as the input.\n",
    "Now we will learn how to construct the neural network model with the tanh and relu activation function\n",
    "using the nn.sequential module. We use the n n dot Tanh object\n",
    "in the.Sequential constructor. This process is similar for the relu,\n",
    "see the lab for examples.\n",
    "Using the same method to load and train the data as we did in multiclass we get the following result.\n",
    "When examining the loss with respect to iteration,\n",
    "we are able to achieve significantly better performance using the relu\n",
    "and tanh activation functions than with the sigmoid activation function.\n",
    "Again when examining the validation accuracy with\n",
    "respect to the number of epochs, we are able to achieve significantly better\n",
    "performance using the relu and tanh activation function than with the sigmoid activation function."
   ]
  },
  {
   "cell_type": "markdown",
   "id": "12a30c62-c2c5-44cf-b5ca-37083f659f5e",
   "metadata": {},
   "source": [
    "**Sigmoid activation function**  \n",
    "$$f(x) = \\frac{1}{1+e^{-x}}$$\n",
    "\n",
    "Use cases:  \n",
    "*\n",
    "*\n",
    "\n",
    "Don't use cases:  \n",
    "* What is the problem with the tanh and sigmoid activation function?\n",
    "derivative near zro in several regions\n",
    "*"
   ]
  },
  {
   "cell_type": "code",
   "execution_count": 38,
   "id": "4e3c12cc-a660-49c7-a9f0-b104fdc35adc",
   "metadata": {},
   "outputs": [
    {
     "data": {
      "image/png": "[encoded data removed]",
      "text/plain": [
       "<Figure size 640x480 with 1 Axes>"
      ]
     },
     "metadata": {},
     "output_type": "display_data"
    }
   ],
   "source": [
    "# Plot sigmoid function and its derivative  \n",
    "x = torch.linspace(-10, 10, 100, dtype = float, requires_grad = True)\n",
    "y = torch.sigmoid(x)\n",
    "y_prime = torch.autograd.grad(outputs = y, inputs = x, grad_outputs = torch.ones_like(y))[0]\n",
    "plt.plot(x.detach().numpy(), y.detach().numpy(), label = 'Sigmoid')\n",
    "plt.plot(x.detach().numpy(), y_prime.numpy(), label = 'Sigmoid derivative')\n",
    "plt.legend()\n",
    "plt.show()"
   ]
  },
  {
   "cell_type": "markdown",
   "id": "082e809b-4e51-4381-87e1-845d6dba9f62",
   "metadata": {},
   "source": [
    "**Hiperbolic Tangent Activation Function (TanH)**  \n",
    "$$f(x) = \\frac{e^x-e^{-x}}{e^x+e^{-x}}$$\n",
    "\n",
    "Use cases:  \n",
    "*\n",
    "*\n",
    "\n",
    "Don't use cases:  \n",
    "* What is the problem with the tanh and sigmoid activation function?\n",
    "derivative near zro in several regions\n",
    "*"
   ]
  },
  {
   "cell_type": "code",
   "execution_count": 44,
   "id": "ef2b2782-ff82-45ce-a531-b5a11e81976e",
   "metadata": {},
   "outputs": [
    {
     "data": {
      "image/png": "[encoded data removed]",
      "text/plain": [
       "<Figure size 640x480 with 1 Axes>"
      ]
     },
     "metadata": {},
     "output_type": "display_data"
    }
   ],
   "source": [
    "# Plot tanh function and its derivative  \n",
    "x = torch.linspace(-10, 10, 100, dtype = float, requires_grad = True)\n",
    "y = torch.tanh(x)\n",
    "y_prime = torch.autograd.grad(outputs = y, inputs = x, grad_outputs = torch.ones_like(y))[0]\n",
    "plt.plot(x.detach().numpy(), y.detach().numpy(), label = 'TanH')\n",
    "plt.plot(x.detach().numpy(), y_prime.numpy(), label = 'TanH derivative')\n",
    "plt.legend()\n",
    "plt.show()"
   ]
  },
  {
   "cell_type": "markdown",
   "id": "c99321be-931b-4f78-a829-e4f1ffaf1deb",
   "metadata": {},
   "source": [
    "**Rextified Lienar Unit Activation Function (ReLU)**  \n",
    "$$f(x) = \\max(0, x)$$\n",
    "\n",
    "Use cases:  \n",
    "* Usually, what activation function would you use if yu had more than 10 hidden layers?\n",
    "Relu\n",
    "*\n",
    "\n",
    "Don't use cases:  \n",
    "*\n",
    "*"
   ]
  },
  {
   "cell_type": "code",
   "execution_count": 43,
   "id": "4d1497bb-3b81-4b9a-a420-4a7e1bca6bb0",
   "metadata": {},
   "outputs": [
    {
     "data": {
      "image/png": "[encoded data removed]",
      "text/plain": [
       "<Figure size 640x480 with 1 Axes>"
      ]
     },
     "metadata": {},
     "output_type": "display_data"
    }
   ],
   "source": [
    "# Plot relu function and its derivative  \n",
    "x = torch.linspace(-10, 10, 100, dtype = float, requires_grad = True)\n",
    "y = torch.relu(x)\n",
    "y_prime = torch.autograd.grad(outputs = y, inputs = x, grad_outputs = torch.ones_like(y))[0]\n",
    "plt.plot(x.detach().numpy(), y.detach().numpy(), label = 'ReLU')\n",
    "plt.plot(x.detach().numpy(), y_prime.numpy(), label = 'ReLU derivative')\n",
    "plt.legend()\n",
    "plt.show()"
   ]
  },
  {
   "cell_type": "markdown",
   "id": "2a2d4247-9b4e-4256-87d4-9825bc761e40",
   "metadata": {},
   "source": []
  },
  {
   "cell_type": "markdown",
   "id": "46b48461-af69-478e-b6e4-1b3140a4ce82",
   "metadata": {},
   "source": [
    "### Multiclass classification for different activation functions (sigmoid, tanh, relu)."
   ]
  },
  {
   "cell_type": "code",
   "execution_count": 43,
   "id": "04ad2d9a-fc5b-46d8-b56e-5e48c45b8f0a",
   "metadata": {},
   "outputs": [],
   "source": [
    "## 0. Import required tools\n",
    "import torchvision.datasets as dsets\n",
    "import torchvision.transforms as transforms\n",
    "from torch import nn,optim, sigmoid\n",
    "from torch.utils.data import Dataset, DataLoader"
   ]
  },
  {
   "cell_type": "code",
   "execution_count": 44,
   "id": "d2e98195-9f4b-4c36-a986-7822040f7d76",
   "metadata": {},
   "outputs": [
    {
     "name": "stdout",
     "output_type": "stream",
     "text": [
      "Dataset MNIST\n",
      "    Number of datapoints: 60000\n",
      "    Root location: /Users/RamsesLg/Desktop/Espacio_de_trabajo/Guía_DS/Python/Data\n",
      "    Split: Train\n",
      "    StandardTransform\n",
      "Transform: ToTensor()\n",
      "<class 'torchvision.datasets.mnist.MNIST'>\n",
      "Dataset MNIST\n",
      "    Number of datapoints: 10000\n",
      "    Root location: /Users/RamsesLg/Desktop/Espacio_de_trabajo/Guía_DS/Python/Data\n",
      "    Split: Test\n",
      "    StandardTransform\n",
      "Transform: ToTensor()\n",
      "<class 'torchvision.datasets.mnist.MNIST'>\n"
     ]
    }
   ],
   "source": [
    "## 1. Create Dataset objects\n",
    "# Load training Dataset\n",
    "train_dataset = dsets.MNIST(root='/Users/RamsesLg/Desktop/Espacio_de_trabajo/Guía_DS/Python/Data', train=True, download=True, transform=transforms.ToTensor())\n",
    "# View training Dataset\n",
    "print(train_dataset)\n",
    "print(type(train_dataset))\n",
    "\n",
    "# Load validation dataset\n",
    "validation_dataset = dsets.MNIST(root='/Users/RamsesLg/Desktop/Espacio_de_trabajo/Guía_DS/Python/Data', train=False, download=True, transform=transforms.ToTensor())\n",
    "# View validation Dataset\n",
    "print(validation_dataset)\n",
    "print(type(validation_dataset))"
   ]
  },
  {
   "cell_type": "code",
   "execution_count": 45,
   "id": "9fe19894-630c-4062-8f9a-64f1e638e5ac",
   "metadata": {},
   "outputs": [],
   "source": [
    "## 2. Create model for sigmoid activation function\n",
    "\n",
    "# Model class\n",
    "class Net(nn.Module):\n",
    "    \n",
    "    # Constructor\n",
    "    def __init__(self, D_in, H, D_out):\n",
    "        super(Net, self).__init__()\n",
    "        self.linear1 = nn.Linear(D_in, H)\n",
    "        self.linear2 = nn.Linear(H, D_out)\n",
    "\n",
    "    # Prediction    \n",
    "    def forward(self, x):\n",
    "        x = torch.sigmoid(self.linear1(x))  \n",
    "        x = self.linear2(x)\n",
    "        return x\n",
    "\n",
    "# Model object\n"
   ]
  },
  {
   "cell_type": "code",
   "execution_count": null,
   "id": "403d2c7f-a250-4cbc-b5a7-8baa67c6fbcc",
   "metadata": {},
   "outputs": [],
   "source": [
    "## 2. Create model for tanh activation function\n",
    "\n",
    "# model subclass\n",
    "\n",
    "class NetTanh(nn.Module):\n",
    "    \n",
    "    # Constructor\n",
    "    def __init__(self, D_in, H, D_out):\n",
    "        super(NetTanh, self).__init__()\n",
    "        self.linear1 = nn.Linear(D_in, H)\n",
    "        self.linear2 = nn.Linear(H, D_out)\n",
    "     \n",
    "    # Prediction\n",
    "    def forward(self, x):\n",
    "        x = torch.tanh(self.linear1(x))  \n",
    "        x = self.linear2(x)\n",
    "        return x"
   ]
  },
  {
   "cell_type": "code",
   "execution_count": 12,
   "id": "aca114dd-2060-40ee-bd0c-92c3466bea71",
   "metadata": {},
   "outputs": [],
   "source": [
    "## 2. Create model for relu activation function\n",
    "\n",
    "class NetRelu(nn.Module):\n",
    "    \n",
    "    # Constructor\n",
    "    def __init__(self, D_in, H, D_out):\n",
    "        super(NetRelu, self).__init__()\n",
    "        self.linear1 = nn.Linear(D_in, H)\n",
    "        self.linear2 = nn.Linear(H, D_out)\n",
    "    \n",
    "    # Prediction\n",
    "    def forward(self, x):\n",
    "        x = torch.relu(self.linear1(x))  \n",
    "        x = self.linear2(x)\n",
    "        return x"
   ]
  },
  {
   "cell_type": "code",
   "execution_count": 13,
   "id": "6e43cb0e-5732-4adc-9e29-375698251c0b",
   "metadata": {},
   "outputs": [],
   "source": [
    "## 3.  Define the function for training the model\n",
    "\n",
    "def train(model, criterion, train_loader, validation_loader, optimizer, epochs = 100):\n",
    "    i = 0\n",
    "    useful_stuff = {'training_loss':[], 'validation_accuracy':[]}  \n",
    "\n",
    "    for epoch in range(epochs):\n",
    "        for i, (x, y) in enumerate(train_loader):\n",
    "            optimizer.zero_grad()\n",
    "            z = model(x.view(-1, 28 * 28))\n",
    "            loss = criterion(z, y)\n",
    "            loss.backward()\n",
    "            optimizer.step()\n",
    "            useful_stuff['training_loss'].append(loss.item())\n",
    "            \n",
    "        correct = 0\n",
    "        for x, y in validation_loader:\n",
    "            z = model(x.view(-1, 28 * 28))\n",
    "            _, label=torch.max(z, 1)\n",
    "            correct += (label == y).sum().item()\n",
    "        accuracy = 100 * (correct / len(validation_dataset))\n",
    "        useful_stuff['validation_accuracy'].append(accuracy)\n",
    "        \n",
    "    return useful_stuff"
   ]
  },
  {
   "cell_type": "code",
   "execution_count": 14,
   "id": "4327600d-0876-443e-9beb-1dda5eec722d",
   "metadata": {},
   "outputs": [],
   "source": [
    "##  Train a model with sigmoid function\n",
    "\n",
    "# model object\n",
    "model = Net(28*28, 100 , 10)\n",
    "\n",
    "# Create crietrion, optimizer and dataloaders\n",
    "criterion = nn.CrossEntropyLoss()\n",
    "train_loader = torch.utils.data.DataLoader(dataset=train_dataset, batch_size=2000, shuffle=True)\n",
    "validation_loader = torch.utils.data.DataLoader(dataset=validation_dataset, batch_size=5000, shuffle=False)\n",
    "optimizer = torch.optim.SGD(model.parameters(), lr=0.01)\n",
    "learning_rate = 0.01\n",
    "optimizer = torch.optim.SGD(model.parameters(), lr=learning_rate)\n",
    "\n",
    "# Train model\n",
    "training_results = train(model, criterion, train_loader, validation_loader, optimizer, epochs= 10)"
   ]
  },
  {
   "cell_type": "code",
   "execution_count": null,
   "id": "24689201-6bd4-4182-b926-f073933d583d",
   "metadata": {},
   "outputs": [],
   "source": [
    "##  Train a model with Tanh function\n",
    "\n",
    "# model object\n",
    "model_Tanh = NetTanh(Net(28*28, 100 , 10)\n",
    "\n",
    "# Create crietrion, optimizer and dataloaders\n",
    "criterion = nn.CrossEntropyLoss()\n",
    "train_loader = torch.utils.data.DataLoader(dataset=train_dataset, batch_size=2000, shuffle=True)\n",
    "validation_loader = torch.utils.data.DataLoader(dataset=validation_dataset, batch_size=5000, shuffle=False)\n",
    "optimizer = torch.optim.SGD(model.parameters(), lr=0.01)\n",
    "\n",
    "# Train model\n",
    "training_results_tanch = train(model_Tanh, criterion, train_loader, validation_loader, optimizer, epochs=100)"
   ]
  },
  {
   "cell_type": "code",
   "execution_count": null,
   "id": "0ce9091e-55da-4b97-9cdd-ef087bb429bf",
   "metadata": {},
   "outputs": [],
   "source": [
    "## Train a model with Relu function\n",
    "\n",
    "# Model object\n",
    "modelRelu = NetRelu(28*28, 100 , 10)\n",
    "\n",
    "# Create crietrion, optimizer and dataloaders\n",
    "criterion = nn.CrossEntropyLoss()\n",
    "train_loader = torch.utils.data.DataLoader(dataset=train_dataset, batch_size=2000, shuffle=True)\n",
    "validation_loader = torch.utils.data.DataLoader(dataset=validation_dataset, batch_size=5000, shuffle=False)\n",
    "optimizer = torch.optim.SGD(model.parameters(), lr=0.01)\n",
    "\n",
    "# Trian model\n",
    "training_results_relu = train(modelRelu,criterion, train_loader, validation_loader, optimizer, epochs=30)"
   ]
  },
  {
   "cell_type": "code",
   "execution_count": null,
   "id": "e90698cc-af6a-4eca-bca4-b02a7abee3ed",
   "metadata": {},
   "outputs": [],
   "source": [
    "# Compare the training loss\n",
    "\n",
    "plt.plot(training_results_tanch['training_loss'], label='tanh')\n",
    "plt.plot(training_results['training_loss'], label='sigmoid')\n",
    "plt.plot(training_results_relu['training_loss'], label='relu')\n",
    "plt.ylabel('loss')\n",
    "plt.title('training loss iterations')\n",
    "plt.legend()\n",
    "plt.show()"
   ]
  },
  {
   "cell_type": "code",
   "execution_count": null,
   "id": "82e42947-a7fe-4ad9-a259-cd576a17bf65",
   "metadata": {},
   "outputs": [],
   "source": [
    "# Compare the validation loss\n",
    "\n",
    "plt.plot(training_results_tanch['validation_accuracy'], label='tanh')\n",
    "plt.plot(training_results['validation_accuracy'], label='sigmoid')\n",
    "plt.plot(training_results_relu['validation_accuracy'], label='relu') \n",
    "plt.ylabel('validation accuracy')\n",
    "plt.xlabel('epochs ')   \n",
    "plt.legend()\n",
    "plt.show()"
   ]
  },
  {
   "cell_type": "code",
   "execution_count": null,
   "id": "bc2cf609-0c0f-4573-9e61-536b08ce5170",
   "metadata": {},
   "outputs": [],
   "source": [
    "# 6. Make predictions\n",
    "z = model(train_dataset[4][0].view(-1, 28 * 28))\n",
    "print(z)\n",
    "_, label = torch.max(z, 1)\n",
    "print(label)"
   ]
  },
  {
   "cell_type": "code",
   "execution_count": null,
   "id": "3ff4da39-dc1f-4619-84ee-7a90abbe6361",
   "metadata": {},
   "outputs": [],
   "source": []
  },
  {
   "cell_type": "code",
   "execution_count": null,
   "id": "0a5c2b01-a6ce-4b20-93f8-cf08966b09b1",
   "metadata": {},
   "outputs": [],
   "source": []
  },
  {
   "cell_type": "markdown",
   "id": "b4e79c9f-3723-413a-9bb8-3b7b36944b6e",
   "metadata": {},
   "source": []
  },
  {
   "cell_type": "code",
   "execution_count": null,
   "id": "e60daef4-ecfa-4c62-9d23-96580c997507",
   "metadata": {},
   "outputs": [],
   "source": []
  },
  {
   "cell_type": "code",
   "execution_count": null,
   "id": "aeec4131-ee77-4a80-b424-43c258f4c7b1",
   "metadata": {},
   "outputs": [],
   "source": []
  },
  {
   "cell_type": "code",
   "execution_count": null,
   "id": "0c27cc7f-90ce-4871-b118-1ba26440a86f",
   "metadata": {},
   "outputs": [],
   "source": []
  },
  {
   "cell_type": "code",
   "execution_count": null,
   "id": "e4c5866d-8eea-4a3e-a853-484e2bd82316",
   "metadata": {},
   "outputs": [],
   "source": []
  },
  {
   "cell_type": "code",
   "execution_count": null,
   "id": "1c76dbd4-6764-49ee-9769-13622084629e",
   "metadata": {},
   "outputs": [],
   "source": []
  },
  {
   "cell_type": "code",
   "execution_count": null,
   "id": "7f0d86cd-7d33-451d-ad94-9c3f2537a3a8",
   "metadata": {},
   "outputs": [],
   "source": []
  },
  {
   "cell_type": "code",
   "execution_count": null,
   "id": "59196ba4-59d9-4fc0-9103-bd0542b68023",
   "metadata": {},
   "outputs": [],
   "source": []
  },
  {
   "cell_type": "code",
   "execution_count": null,
   "id": "a3d1c1bc-3e08-456c-8a19-e4cf5058eae7",
   "metadata": {},
   "outputs": [],
   "source": []
  },
  {
   "cell_type": "code",
   "execution_count": null,
   "id": "d0bb3e71-bae6-4395-a3aa-3d7001ab4514",
   "metadata": {},
   "outputs": [],
   "source": []
  }
 ],
 "metadata": {
  "kernelspec": {
   "display_name": "Python 3 (ipykernel)",
   "language": "python",
   "name": "python3"
  },
  "language_info": {
   "codemirror_mode": {
    "name": "ipython",
    "version": 3
   },
   "file_extension": ".py",
   "mimetype": "text/x-python",
   "name": "python",
   "nbconvert_exporter": "python",
   "pygments_lexer": "ipython3",
   "version": "3.8.17"
  }
 },
 "nbformat": 4,
 "nbformat_minor": 5
}
