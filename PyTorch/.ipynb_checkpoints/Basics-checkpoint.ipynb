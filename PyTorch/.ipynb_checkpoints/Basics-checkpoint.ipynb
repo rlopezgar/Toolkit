{
 "cells": [
  {
   "cell_type": "markdown",
   "id": "f98f0225-c998-4e4e-bc80-18279845de0b",
   "metadata": {},
   "source": [
    "# PyTorch Basics"
   ]
  },
  {
   "cell_type": "markdown",
   "id": "c901dfce-5df3-4e20-a4b4-649cbbcc561d",
   "metadata": {},
   "source": [
    "## Content\n",
    "* Elements\n",
    "* Tensors\n",
    "    * Creation\n",
    "    * Data Types\n",
    "    * Some methods, functions, and operations\n",
    "* Differentiation\n",
    "    * Derivatives\n",
    "    * Partial derivatives\n",
    "* Datasets and DataLoaders\n",
    "    * Creation\n",
    "    * Transformation\n",
    "    * Compose\n",
    "    * Datasets to load numeric files\n",
    "    * Datasets to load image files\n",
    "* Loss Functions\n",
    "    * MSE and MAE\n",
    "    * PyTorch criterions (torch.nn)\n",
    "* Optimization Methods\n",
    "    * Gradient Descent\n",
    "    * PyTorch Optimizer (torch.optim)\n",
    "* Standard Modeling Process"
   ]
  },
  {
   "cell_type": "markdown",
   "id": "2196396f-8081-4e55-bbee-dfcdcb862487",
   "metadata": {},
   "source": [
    "## Elements"
   ]
  },
  {
   "cell_type": "markdown",
   "id": "59595712-db8e-4200-b7fe-107a9b833174",
   "metadata": {},
   "source": [
    "PyTorch is an optimized tensor library for deep learning using GPUs and CPUs."
   ]
  },
  {
   "cell_type": "markdown",
   "id": "6810b91f-de94-47ea-b74e-fe101a52d003",
   "metadata": {},
   "source": [
    "In order to import PyTorch"
   ]
  },
  {
   "cell_type": "code",
   "execution_count": 12,
   "id": "61c9bed2-0478-43a1-8ca5-17a561989459",
   "metadata": {},
   "outputs": [],
   "source": [
    "import torch"
   ]
  },
  {
   "cell_type": "markdown",
   "id": "1af27e1a-b258-48bf-9f5b-f35bb51f9668",
   "metadata": {},
   "source": [
    "In order to see PyTorch version"
   ]
  },
  {
   "cell_type": "code",
   "execution_count": 13,
   "id": "2e834ff0-5bac-45ac-a69f-0fd6c46b19e9",
   "metadata": {},
   "outputs": [
    {
     "data": {
      "text/plain": [
       "'2.2.1'"
      ]
     },
     "execution_count": 13,
     "metadata": {},
     "output_type": "execute_result"
    }
   ],
   "source": [
    "torch.__version__"
   ]
  },
  {
   "cell_type": "markdown",
   "id": "71802fe9-8e71-44db-8dc2-fbc67a6e03a6",
   "metadata": {},
   "source": [
    "We'll import some other libraries that might me requiered. "
   ]
  },
  {
   "cell_type": "code",
   "execution_count": 11,
   "id": "3df6f537-bd2f-4d64-9902-dda20c0dffe3",
   "metadata": {},
   "outputs": [],
   "source": [
    "import numpy as np \n",
    "import scipy as sp\n",
    "import pandas as pd\n",
    "import seaborn as sns\n",
    "import matplotlib.pyplot as plt\n",
    "%matplotlib inline "
   ]
  },
  {
   "cell_type": "markdown",
   "id": "a4a4294d-801f-4f60-94e2-dd9d509d4e0b",
   "metadata": {},
   "source": [
    "The variability of results comes from optimzation methods finding different optima on different runs. The majority of the randomness comes from the random initialization of weights, different learning rates and different shuffling of the dataloader. We can control the random number generator by setting it’s seed."
   ]
  },
  {
   "cell_type": "code",
   "execution_count": 4,
   "id": "cdcb279c-c0d1-4af8-ac4e-63c009666ded",
   "metadata": {},
   "outputs": [
    {
     "data": {
      "text/plain": [
       "<torch._C.Generator at 0x7f98c5733510>"
      ]
     },
     "execution_count": 4,
     "metadata": {},
     "output_type": "execute_result"
    }
   ],
   "source": [
    "torch.manual_seed(1)"
   ]
  },
  {
   "cell_type": "markdown",
   "id": "c574b95f-f4e5-42d4-bcc4-f55ea4af006a",
   "metadata": {},
   "source": [
    "## Tensors\n",
    "A Pytorch tensor is a data structure that is a generalization for numbers and dimensional arrays in Python. \n",
    "  \n",
    "Tensors are arrays that are the building blocks of a neural network. In Pytorch, neural networks are composed of Pytorch tensors. For the neural network, the input x will be a tensor, the output y will be a tensor. The network will be comprised of a set of parameters which are also tensors. \n",
    "  \n",
    "A PyTorch Tensor contains elements of a single data type. The tensor type is the type of the tensor and it refers to the data type it stores. It could be:\n",
    "\n",
    "| Data type                | dtype                         | type               |\n",
    "| :---                     | :---                          | :---\n",
    "| 32-bit folating point    | torch.float32 or torch.float  | torch.FloatTesor   |\n",
    "| 64-bit folating point    | torch.float64 or torch.double | torch.DoubleTensor |\n",
    "| 16-bit folating point    | torch.float16 or torch.half   | torch.HalfTensor   |\n",
    "| 8-bit integer (unsigned) | torch.unit8                   | torch.ByteTensor   |\n",
    "| 8-bit integer (signed)   | torch.int8                    | torch.CharTensor   |\n",
    "| 32-bit integer (signed)  | torch.int32 or torch.int      | torch.IntTensor    |\n",
    "| 64-bit integer (signed)  | torch.int64 or torch.long     | torch.LongTensor   |\n",
    "\n",
    "Anyway, the Python object type it's still going to be `torch.Tensor`."
   ]
  },
  {
   "cell_type": "markdown",
   "id": "cb9eab2a-0ecc-4fa6-ae56-21c4ea0dc945",
   "metadata": {},
   "source": [
    "### Creation"
   ]
  },
  {
   "cell_type": "markdown",
   "id": "426d8a59-387d-424e-b094-7e7c0ad6f2b5",
   "metadata": {},
   "source": [
    "From a constant  \n",
    "This allows us to create 0d tensors"
   ]
  },
  {
   "cell_type": "code",
   "execution_count": 94,
   "id": "fd88185a-b583-4607-a05e-4f06085b9a7e",
   "metadata": {},
   "outputs": [
    {
     "data": {
      "text/plain": [
       "tensor(2.7183, dtype=torch.float64)"
      ]
     },
     "execution_count": 94,
     "metadata": {},
     "output_type": "execute_result"
    }
   ],
   "source": [
    "# In order to create a 0d tensor from a constant\n",
    "constant = np.e\n",
    "tensor_0d = torch.tensor(constant, dtype = float)\n",
    "tensor_0d"
   ]
  },
  {
   "cell_type": "code",
   "execution_count": 92,
   "id": "1240e44e-1689-42ad-ae0f-b5205eabafbe",
   "metadata": {},
   "outputs": [
    {
     "data": {
      "text/plain": [
       "2.7182817459106445"
      ]
     },
     "execution_count": 92,
     "metadata": {},
     "output_type": "execute_result"
    }
   ],
   "source": [
    "# In order to create a constant from a 0d tensor\n",
    "constant = tensor_0d.item()\n",
    "constant"
   ]
  },
  {
   "cell_type": "markdown",
   "id": "c44b2a11-3baa-47bf-8f49-d629ee63a39a",
   "metadata": {},
   "source": [
    "From a list  \n",
    "This allows us to create 0d, 1d, 2d tensors"
   ]
  },
  {
   "cell_type": "code",
   "execution_count": 93,
   "id": "dccfe0a1-fc9b-4c92-b3cf-3f44c36c26d1",
   "metadata": {},
   "outputs": [
    {
     "data": {
      "text/plain": [
       "tensor([1., 2., 3., 4., 5.], dtype=torch.float64)"
      ]
     },
     "execution_count": 93,
     "metadata": {},
     "output_type": "execute_result"
    }
   ],
   "source": [
    "# In order to create a 1d tensor from a list with data type dtype\n",
    "list = [1,2,3,4,5]\n",
    "tensor_1d = torch.tensor(list, dtype = float)\n",
    "tensor_1d"
   ]
  },
  {
   "cell_type": "code",
   "execution_count": 17,
   "id": "d338b523-e662-4691-afc9-7bd142736741",
   "metadata": {},
   "outputs": [
    {
     "data": {
      "text/plain": [
       "tensor([[ 0.,  1.,  2.,  3.],\n",
       "        [ 4.,  5.,  6.,  7.],\n",
       "        [ 8.,  9., 10., 11.]], dtype=torch.float64)"
      ]
     },
     "execution_count": 17,
     "metadata": {},
     "output_type": "execute_result"
    }
   ],
   "source": [
    "# In order to create a 1d tensor from a list with data type dtype\n",
    "list = [[0,1,2,3],[4,5,6,7],[8,9,10,11]]\n",
    "tensor_2d = torch.tensor(list, dtype = float)\n",
    "tensor_2d"
   ]
  },
  {
   "cell_type": "code",
   "execution_count": 87,
   "id": "d3de7ee8-1fb4-4933-a740-6f9b3a512b01",
   "metadata": {},
   "outputs": [
    {
     "data": {
      "text/plain": [
       "[1, 2, 3, 4, 5]"
      ]
     },
     "execution_count": 87,
     "metadata": {},
     "output_type": "execute_result"
    }
   ],
   "source": [
    "# In order to create a list from a 1d tensor\n",
    "list = tensor_1d.tolist()\n",
    "list"
   ]
  },
  {
   "cell_type": "code",
   "execution_count": 18,
   "id": "cee317ee-3d33-44cb-9f63-82b2873b85ad",
   "metadata": {},
   "outputs": [
    {
     "data": {
      "text/plain": [
       "[[0.0, 1.0, 2.0, 3.0], [4.0, 5.0, 6.0, 7.0], [8.0, 9.0, 10.0, 11.0]]"
      ]
     },
     "execution_count": 18,
     "metadata": {},
     "output_type": "execute_result"
    }
   ],
   "source": [
    "# In order to create a list from a 2d tensor\n",
    "list = tensor_2d.tolist()\n",
    "list"
   ]
  },
  {
   "cell_type": "markdown",
   "id": "a8b74393-81a7-43bf-9edb-d18ff8eaa92e",
   "metadata": {},
   "source": [
    "From a NumPy ndarray or matrix  \n",
    "This allows us to create 0d, 1d, 2d tensors."
   ]
  },
  {
   "cell_type": "code",
   "execution_count": 28,
   "id": "33836a5c-82da-43b2-bd72-5e0776046b0b",
   "metadata": {},
   "outputs": [
    {
     "data": {
      "text/plain": [
       "tensor([1., 2., 3., 4., 5.], dtype=torch.float64)"
      ]
     },
     "execution_count": 28,
     "metadata": {},
     "output_type": "execute_result"
    }
   ],
   "source": [
    "# In order to crate a 1D tensor from a numpy vector with data type dtype\n",
    "numpy_vector = np.array([1,2,3,4,5])\n",
    "tensor_1d = torch.tensor(numpy_vector, dtype = float)\n",
    "tensor_1d"
   ]
  },
  {
   "cell_type": "code",
   "execution_count": 29,
   "id": "5cc12801-10a6-426f-bb6d-00b983586668",
   "metadata": {},
   "outputs": [
    {
     "data": {
      "text/plain": [
       "tensor([[ 0.,  1.,  2.,  3.],\n",
       "        [ 4.,  5.,  6.,  7.],\n",
       "        [ 8.,  9., 10., 11.]], dtype=torch.float64)"
      ]
     },
     "execution_count": 29,
     "metadata": {},
     "output_type": "execute_result"
    }
   ],
   "source": [
    "# In order to create a 2D tensor from a np.matrix with data type dtype\n",
    "numpy_matrix = np.arange(12).reshape((3,4))\n",
    "tensor_2d = torch.tensor(numpy_matrix, dtype = float)\n",
    "tensor_2d"
   ]
  },
  {
   "cell_type": "code",
   "execution_count": 35,
   "id": "7d92b415-9b28-4808-8835-0bea91490204",
   "metadata": {},
   "outputs": [
    {
     "data": {
      "text/plain": [
       "numpy.ndarray"
      ]
     },
     "execution_count": 35,
     "metadata": {},
     "output_type": "execute_result"
    }
   ],
   "source": [
    "# In order to create a numpy ndarrray from a 1d tensor\n",
    "numpy_vector = tensor_1d.numpy()\n",
    "numpy_vector"
   ]
  },
  {
   "cell_type": "code",
   "execution_count": 36,
   "id": "300d0e5f-ee96-437e-80ad-88816c4bdef2",
   "metadata": {},
   "outputs": [
    {
     "data": {
      "text/plain": [
       "numpy.ndarray"
      ]
     },
     "execution_count": 36,
     "metadata": {},
     "output_type": "execute_result"
    }
   ],
   "source": [
    "# In order to create a numpy matrix from a 2d tensor\n",
    "numpy_matrix = tensor_2d.numpy()\n",
    "type(numpy_matrix)"
   ]
  },
  {
   "cell_type": "markdown",
   "id": "e5d87738-3920-4a5b-bcdf-6f48801b2a46",
   "metadata": {},
   "source": [
    "From Pandas series or DataFrames  \n",
    "This allows us to create 0d, 1d, 2d tensors"
   ]
  },
  {
   "cell_type": "code",
   "execution_count": 93,
   "id": "f77d09b3-c3bc-478b-b385-09cad14a24c4",
   "metadata": {},
   "outputs": [
    {
     "data": {
      "text/plain": [
       "tensor([1., 2., 3., 4., 5.], dtype=torch.float64)"
      ]
     },
     "execution_count": 93,
     "metadata": {},
     "output_type": "execute_result"
    }
   ],
   "source": [
    "# In order to create a 1d tensor from a pandas series\n",
    "pandas_series = pd.Series([1,2,3,4,5], dtype = float)\n",
    "tensor_1d = torch.from_numpy(pandas_series.values)\n",
    "tensor_1d"
   ]
  },
  {
   "cell_type": "code",
   "execution_count": 43,
   "id": "99835ae3-9f5e-4f34-afeb-79b0d36bbe78",
   "metadata": {},
   "outputs": [
    {
     "data": {
      "text/plain": [
       "tensor([[ 0,  1,  2,  3],\n",
       "        [ 4,  5,  6,  7],\n",
       "        [ 8,  9, 10, 11]])"
      ]
     },
     "execution_count": 43,
     "metadata": {},
     "output_type": "execute_result"
    }
   ],
   "source": [
    "# In order to create a 2d tensor from a pandas DataFrame\n",
    "pandas_df = pd.DataFrame([[0,1,2,3], [4,5,6,7], [8,9,10,11]])\n",
    "tensor_2d = torch.from_numpy(pandas_df.values)\n",
    "tensor_2d"
   ]
  },
  {
   "cell_type": "markdown",
   "id": "10f693a5-5433-4e4f-91fa-a3f438f04af7",
   "metadata": {},
   "source": [
    "Some useful tensors"
   ]
  },
  {
   "cell_type": "code",
   "execution_count": 7,
   "id": "59c8e87e-19f0-47d8-840b-635165f57a6a",
   "metadata": {},
   "outputs": [
    {
     "data": {
      "text/plain": [
       "tensor([ 1.,  2.,  3.,  4.,  5.,  6.,  7.,  8.,  9., 10.])"
      ]
     },
     "execution_count": 7,
     "metadata": {},
     "output_type": "execute_result"
    }
   ],
   "source": [
    "# In order to create a 1d tensor with a linspace from x_i to x_f with n elements in a 1d tensor\n",
    "# Use torch.linspace(x_i, x_f, steps = n)\n",
    "tensor_ls = torch.linspace(1, 10, steps = 10)\n",
    "tensor_ls"
   ]
  },
  {
   "cell_type": "code",
   "execution_count": 90,
   "id": "5e310472-09a1-4f48-b393-3ff370711265",
   "metadata": {},
   "outputs": [
    {
     "data": {
      "text/plain": [
       "tensor([[1., 0.],\n",
       "        [0., 1.]])"
      ]
     },
     "execution_count": 90,
     "metadata": {},
     "output_type": "execute_result"
    }
   ],
   "source": [
    "# In order to create a  2d identity tensor of nxn\n",
    "# Use torch.eye(n)\n",
    "torch.eye(2)"
   ]
  },
  {
   "cell_type": "code",
   "execution_count": 76,
   "id": "0cb6d0c6-5948-4d5f-ab76-76bc26601771",
   "metadata": {},
   "outputs": [
    {
     "data": {
      "text/plain": [
       "tensor([[0., 0.],\n",
       "        [0., 0.]])"
      ]
     },
     "execution_count": 76,
     "metadata": {},
     "output_type": "execute_result"
    }
   ],
   "source": [
    "# In order to create a zeros m-dimensional tensor of n_1 x n_2 x ... x n_m\n",
    "# Use torch.zeros((n_1, n_2, ..., n_m))\n",
    "torch.zeros((2,2))"
   ]
  },
  {
   "cell_type": "code",
   "execution_count": 77,
   "id": "30ac2df3-3b01-4aa7-b42f-293b53f6b00d",
   "metadata": {},
   "outputs": [
    {
     "data": {
      "text/plain": [
       "tensor([[1., 1.],\n",
       "        [1., 1.]])"
      ]
     },
     "execution_count": 77,
     "metadata": {},
     "output_type": "execute_result"
    }
   ],
   "source": [
    "# In order to create a ones m-dimensional tensor of n_1 x n_2 x ... x n_m\n",
    "# Use torch.zeros((n_1, n_2, ..., n_m))\n",
    "torch.ones((2,2))"
   ]
  },
  {
   "cell_type": "code",
   "execution_count": 86,
   "id": "799d2b6c-939d-4290-a937-f1c6897541ae",
   "metadata": {},
   "outputs": [
    {
     "data": {
      "text/plain": [
       "tensor([[0., 0.],\n",
       "        [0., 0.]])"
      ]
     },
     "execution_count": 86,
     "metadata": {},
     "output_type": "execute_result"
    }
   ],
   "source": [
    "# In order to create a randomly iniciated m-dimensional tensor of n_1 x n_2 x ... x n_m\n",
    "# Use torch.empty((n_1, n_2, ..., n_m))\n",
    "torch.empty((2,2))"
   ]
  },
  {
   "cell_type": "markdown",
   "id": "69455b04-6cf9-4995-a381-6f607835ed98",
   "metadata": {},
   "source": [
    "### Data Types"
   ]
  },
  {
   "cell_type": "code",
   "execution_count": 100,
   "id": "bcbd1c68-c10d-4c2f-8bcb-103cb9396cf3",
   "metadata": {},
   "outputs": [
    {
     "data": {
      "text/plain": [
       "torch.float64"
      ]
     },
     "execution_count": 100,
     "metadata": {},
     "output_type": "execute_result"
    }
   ],
   "source": [
    "# In order to see the data type in a tensor\n",
    "tensor_2d.dtype"
   ]
  },
  {
   "cell_type": "code",
   "execution_count": 101,
   "id": "1406d1cf-a287-4a45-a644-74041ff3f567",
   "metadata": {},
   "outputs": [
    {
     "data": {
      "text/plain": [
       "'torch.DoubleTensor'"
      ]
     },
     "execution_count": 101,
     "metadata": {},
     "output_type": "execute_result"
    }
   ],
   "source": [
    "# In order to see the tensor type\n",
    "tensor_2d.type()"
   ]
  },
  {
   "cell_type": "code",
   "execution_count": 102,
   "id": "bd9ad72f-d615-4ae3-8d14-afb29a964064",
   "metadata": {},
   "outputs": [
    {
     "data": {
      "text/plain": [
       "torch.Tensor"
      ]
     },
     "execution_count": 102,
     "metadata": {},
     "output_type": "execute_result"
    }
   ],
   "source": [
    "# In order to see the Python object type of a tensor\n",
    "type(tensor_2d)"
   ]
  },
  {
   "cell_type": "code",
   "execution_count": 103,
   "id": "72d5cf91-e725-4237-b342-cefb88bb4d26",
   "metadata": {},
   "outputs": [
    {
     "data": {
      "text/plain": [
       "torch.float32"
      ]
     },
     "execution_count": 103,
     "metadata": {},
     "output_type": "execute_result"
    }
   ],
   "source": [
    "# In order to change a data type of a tensor to float\n",
    "tensor_1d = torch.tensor([1,2,3,4,5], dtype = int)\n",
    "tensor_1d = tensor.type(torch.FloatTensor)\n",
    "tensor.dtype"
   ]
  },
  {
   "cell_type": "markdown",
   "id": "0238d346-4b5b-46ac-8e1c-4124264c5f0a",
   "metadata": {},
   "source": [
    "### Some methods, functions, and operations"
   ]
  },
  {
   "cell_type": "markdown",
   "id": "c3679199-d90e-4ab9-82ff-b9a2ce6c1a6f",
   "metadata": {},
   "source": [
    "#### Some methods"
   ]
  },
  {
   "cell_type": "code",
   "execution_count": 45,
   "id": "c7fd8cb7-fa65-4628-bd7f-ce6c5a8add5d",
   "metadata": {},
   "outputs": [
    {
     "data": {
      "text/plain": [
       "2"
      ]
     },
     "execution_count": 45,
     "metadata": {},
     "output_type": "execute_result"
    }
   ],
   "source": [
    "# In order to get tensors dimension\n",
    "tensor_2d.ndimension()"
   ]
  },
  {
   "cell_type": "code",
   "execution_count": 21,
   "id": "74a1fe31-2a7e-48de-9a36-883d86641c2f",
   "metadata": {},
   "outputs": [
    {
     "data": {
      "text/plain": [
       "torch.Size([3, 4])"
      ]
     },
     "execution_count": 21,
     "metadata": {},
     "output_type": "execute_result"
    }
   ],
   "source": [
    "# In order to get tensors shapes\n",
    "tensor_2d.shape\n",
    "# Alternativeley you may use the following code\n",
    "# tensor_2d.size()"
   ]
  },
  {
   "cell_type": "code",
   "execution_count": 22,
   "id": "489adf23-54ba-4f5a-b0c3-5ef845f78596",
   "metadata": {},
   "outputs": [
    {
     "data": {
      "text/plain": [
       "12"
      ]
     },
     "execution_count": 22,
     "metadata": {},
     "output_type": "execute_result"
    }
   ],
   "source": [
    "# In order to get tensors number of elements\n",
    "tensor_2d.numel()"
   ]
  },
  {
   "cell_type": "code",
   "execution_count": 57,
   "id": "a853e413-ae37-4c3c-a7a9-3f65fea3b803",
   "metadata": {},
   "outputs": [
    {
     "data": {
      "text/plain": [
       "tensor([[1.],\n",
       "        [2.],\n",
       "        [3.],\n",
       "        [4.],\n",
       "        [5.]])"
      ]
     },
     "execution_count": 57,
     "metadata": {},
     "output_type": "execute_result"
    }
   ],
   "source": [
    "# In order to add one dimension\n",
    "# Make sure the arguments if the method make sense\n",
    "tensor_1d_2d = tensor_1d.view(5,1)\n",
    "tensor_1d_2d"
   ]
  },
  {
   "cell_type": "code",
   "execution_count": 58,
   "id": "cd2d0b44-2644-4c7e-908b-3f31681fbfd3",
   "metadata": {},
   "outputs": [
    {
     "data": {
      "text/plain": [
       "tensor([1., 2., 3., 4., 5.])"
      ]
     },
     "execution_count": 58,
     "metadata": {},
     "output_type": "execute_result"
    }
   ],
   "source": [
    "# In order to remove one dimension\n",
    "# Make sure the arguments if the method make sense\n",
    "tensor_2d_1d = tensor_1d_2d.view(5)\n",
    "tensor_2d_1d"
   ]
  },
  {
   "cell_type": "code",
   "execution_count": 54,
   "id": "e99c4670-4dca-477a-96b6-6736876c6502",
   "metadata": {},
   "outputs": [
    {
     "data": {
      "text/plain": [
       "tensor([1., 2., 3., 4., 5.])"
      ]
     },
     "execution_count": 54,
     "metadata": {},
     "output_type": "execute_result"
    }
   ],
   "source": [
    "# In order to get the element from a 0d tensor\n",
    "tensor_0d.item()\n",
    "# You can also use this to asign new values"
   ]
  },
  {
   "cell_type": "code",
   "execution_count": 104,
   "id": "d4ba83c0-3c87-40cc-8208-dd2b05264c07",
   "metadata": {},
   "outputs": [
    {
     "data": {
      "text/plain": [
       "1.0"
      ]
     },
     "execution_count": 104,
     "metadata": {},
     "output_type": "execute_result"
    }
   ],
   "source": [
    "# In order to get i-th element from a 1d tensor\n",
    "tensor_1d[0].item()\n",
    "# You can also use this to asign new values"
   ]
  },
  {
   "cell_type": "code",
   "execution_count": 105,
   "id": "747ad4da-dfa3-40ad-adac-374d52ef516f",
   "metadata": {},
   "outputs": [
    {
     "data": {
      "text/plain": [
       "0.0"
      ]
     },
     "execution_count": 105,
     "metadata": {},
     "output_type": "execute_result"
    }
   ],
   "source": [
    "# In order to get i,j-th element from a 2d tensor\n",
    "tensor_2d[0,0].item()\n",
    "# You can also use this to asign new values"
   ]
  },
  {
   "cell_type": "code",
   "execution_count": 107,
   "id": "c4169829-e2a3-4084-a191-93d3e12c61b6",
   "metadata": {},
   "outputs": [
    {
     "data": {
      "text/plain": [
       "tensor([1., 2.])"
      ]
     },
     "execution_count": 107,
     "metadata": {},
     "output_type": "execute_result"
    }
   ],
   "source": [
    "# In order to get from the i-th to the j-eth element from a 1d tensor\n",
    "tensor_1d[0:2]\n",
    "# You can also use this to asign new values"
   ]
  },
  {
   "cell_type": "code",
   "execution_count": 109,
   "id": "848c439d-26ee-472e-8234-9efc91383e01",
   "metadata": {},
   "outputs": [
    {
     "data": {
      "text/plain": [
       "tensor([[0., 1.],\n",
       "        [4., 5.]], dtype=torch.float64)"
      ]
     },
     "execution_count": 109,
     "metadata": {},
     "output_type": "execute_result"
    }
   ],
   "source": [
    "# In order to get from the i,j submatrix from a 2d tensor\n",
    "tensor_2d[0:2,0:2]\n",
    "# You can also use this to asign new values"
   ]
  },
  {
   "cell_type": "markdown",
   "id": "6dae9e4b-a92e-42db-a4f8-845bd2390132",
   "metadata": {},
   "source": [
    "#### Some functions\n",
    "In order to apply some funtion to a tensor, use the following code as required.  \n",
    "`tensor.max()` : Gets $max(\\vec{x})$.  \n",
    "`tensor.min()` : Gets $min(\\vec{x})$.  \n",
    "`tensor.mean()` : Gets $\\bar{\\vec{x}}$.  \n",
    "`tensor.std()` : Gets $std(\\vec{x})$.  \n",
    "`tensor.cos()` : Gets $cos(\\vec{x})$.  \n",
    "`tensor.tan()` : Gets $tan(\\vec{x})$.  \n",
    "`tensor.round()` : Gets integer for each element of $x$. It'll go to he ceiling for decimal parts greater than $.5$ and it'll go to the floor for decimal parts lower or equal to $0.5$.  \n",
    "`tensor.floor()` : Gets the floor for each element of $\\vec{x}$.  \n",
    "`tensor.ceil()` : Gets the ceiling for each elementof $\\vec{x}$.  \n",
    "`tensor.exp()` : Gets $e^{\\vec{x}}$.  \n",
    "`tensor.log()` : Gets $ln(\\vec{x})$.  \n",
    "`tensor.sqrt()`: Gets $\\sqrt{\\vec{x}}$.  \n",
    "`tensor.abs()` : Gets $|\\vec{x}|$.  \n"
   ]
  },
  {
   "cell_type": "markdown",
   "id": "536f01e0-925c-4a8a-bb51-f8d01ba1f2a1",
   "metadata": {},
   "source": [
    "#### Some operations"
   ]
  },
  {
   "cell_type": "markdown",
   "id": "9b02f22a-d890-494a-837b-c3ce840edaac",
   "metadata": {},
   "source": [
    "One dimensional tensors"
   ]
  },
  {
   "cell_type": "code",
   "execution_count": 10,
   "id": "0c3cd24e-f296-4b24-8544-65257ff5fdf6",
   "metadata": {},
   "outputs": [],
   "source": [
    "# We'll use x,y t1d tensors in order to exemplify\n",
    "x = torch.tensor([1,0], dtype = float)\n",
    "y = torch.tensor([0,1], dtype = float)"
   ]
  },
  {
   "cell_type": "code",
   "execution_count": 15,
   "id": "7b00b0c4-9c90-4a29-bde7-59822bc1be59",
   "metadata": {},
   "outputs": [
    {
     "name": "stdout",
     "output_type": "stream",
     "text": [
      "tensor([1., 1.], dtype=torch.float64)\n",
      "tensor([ 1., -1.], dtype=torch.float64)\n",
      "tensor([2., 1.], dtype=torch.float64)\n",
      "tensor([ 0., -1.], dtype=torch.float64)\n",
      "tensor([0., 0.], dtype=torch.float64)\n",
      "tensor([2., 0.], dtype=torch.float64)\n",
      "tensor(0., dtype=torch.float64)\n"
     ]
    }
   ],
   "source": [
    "# Adition\n",
    "print(x + y)\n",
    "# Subtraction\n",
    "print(x - y)\n",
    "# Scalar adition \n",
    "print(x + 1)\n",
    "# Scalar substraction\n",
    "print(x - 1)\n",
    "# Elementwise product \n",
    "print(x * y)\n",
    "# Sclalar product\n",
    "print(2 * x)\n",
    "# Dot product\n",
    "print(torch.dot(x,y))"
   ]
  },
  {
   "cell_type": "markdown",
   "id": "331e206f-723d-401f-8402-48be00bfd26c",
   "metadata": {},
   "source": [
    "Two dimensional tensor"
   ]
  },
  {
   "cell_type": "code",
   "execution_count": 44,
   "id": "84cff46d-2855-4f12-956f-ea7865089083",
   "metadata": {},
   "outputs": [],
   "source": [
    "# We'll use x,y t1d tensors in order to exemplify\n",
    "x = torch.tensor([[1,2], [-1,1]])\n",
    "y = torch.tensor([[1,0], [-1,1]])"
   ]
  },
  {
   "cell_type": "code",
   "execution_count": 46,
   "id": "055e3723-4e79-4a36-88ba-bd473b85bccc",
   "metadata": {},
   "outputs": [
    {
     "name": "stdout",
     "output_type": "stream",
     "text": [
      "tensor([[ 2,  2],\n",
      "        [-2,  2]])\n",
      "tensor([[0, 2],\n",
      "        [0, 0]])\n",
      "tensor([[2, 3],\n",
      "        [0, 2]])\n",
      "tensor([[ 0,  1],\n",
      "        [-2,  0]])\n",
      "tensor([[1, 0],\n",
      "        [1, 1]])\n",
      "tensor([[ 2,  4],\n",
      "        [-2,  2]])\n",
      "tensor([[-1,  2],\n",
      "        [-2,  1]])\n"
     ]
    }
   ],
   "source": [
    "# Adition\n",
    "print(x + y)\n",
    "# Subtraction\n",
    "print(x - y)\n",
    "# Scalar adition \n",
    "print(x + 1)\n",
    "# Scalar substraction\n",
    "print(x - 1)\n",
    "# Elementwise product \n",
    "print(x * y)\n",
    "# Sclalar prodcut\n",
    "print(2 * x)\n",
    "# Matrix product\n",
    "print(torch.mm(x,y))"
   ]
  },
  {
   "cell_type": "markdown",
   "id": "bf103b8e-f4a5-4aa4-97b6-f94ee55ec419",
   "metadata": {},
   "source": [
    "## Differentiation"
   ]
  },
  {
   "cell_type": "markdown",
   "id": "7dc096da-a7ba-4863-99ae-114c1f682f6b",
   "metadata": {},
   "source": [
    "#### Derivatives\n",
    "Let $f:\\mathbb{R}\\rightarrow \\mathbb{R}$ given by $f = f(x)$ be a function. In order to calculate $f^{'}(x)$ and evaluate it on $x_0$ we use the following code:  \n",
    "`# Create a float tensor x with the value where the derivative it's going to be evaluated`  \n",
    "`x = torch.tensor(x_0, dtype = float, requires_grad = True)`   \n",
    "`# Create a f tensor as a function that depends of x`    \n",
    "`f = f(x)`    \n",
    "`# Get f's derivative`  \n",
    "`f.backward()`  \n",
    "`# Evaluate x_0 on f's derivative`  \n",
    "`x.grad()`  \n",
    "In order to calculate $f^{'}(x)$ and evaluate it $k$ different points $x_1,...x_n$ we use the following code:   \n",
    "`# Create x float tensor with the k values where the derivative it's going to be evaluated.`  \n",
    "`x = torch.tensor([x_1,...,x_k], dtype = float, requires_grad = True)`  \n",
    "`# Create a F tensor as a function that depends of x`  \n",
    "`F = f(x)`  \n",
    "`Use the sum trick.`  \n",
    "`f = sum(F)`  \n",
    "`# Get f's gradient`  \n",
    "`f.backward()`  \n",
    "`# Evaluate x_1,...,x_k on f's derivative`  \n",
    "`x.grad()`  "
   ]
  },
  {
   "cell_type": "code",
   "execution_count": 61,
   "id": "3ecfeb3c-6904-4764-88d6-94e9bf7b78af",
   "metadata": {},
   "outputs": [
    {
     "data": {
      "text/plain": [
       "tensor(4., dtype=torch.float64)"
      ]
     },
     "execution_count": 61,
     "metadata": {},
     "output_type": "execute_result"
    }
   ],
   "source": [
    "# Evaluate the derivative of f(x) = x^2 on x_0 = 2\n",
    "x = torch.tensor(2, dtype = float, requires_grad = True)\n",
    "f = x**2\n",
    "f.backward()\n",
    "x.grad"
   ]
  },
  {
   "cell_type": "code",
   "execution_count": 62,
   "id": "61b9533b-f422-45f8-b8cf-09c0dc636dfa",
   "metadata": {},
   "outputs": [
    {
     "data": {
      "text/plain": [
       "tensor([2., 4., 6., 8.], dtype=torch.float64)"
      ]
     },
     "execution_count": 62,
     "metadata": {},
     "output_type": "execute_result"
    }
   ],
   "source": [
    "# Evaluate the derivative of f(x) = x^2 on x_1 = 1, x_2 = 2, x_3 = 3, and x_4 = 4\n",
    "x = torch.tensor([1,2,3,4], dtype = float, requires_grad = True)\n",
    "F = x**2\n",
    "f = torch.sum(F)\n",
    "f.backward()\n",
    "x.grad"
   ]
  },
  {
   "cell_type": "markdown",
   "id": "19b0442a-7cd2-465c-84ff-c3d6cce8ca44",
   "metadata": {},
   "source": [
    "### Partial derivatives\n",
    "Let $f:\\mathbb{R}^n\\rightarrow \\mathbb{R}$ given by $f = f(x_1,...,x_n)$ be a function. In order to calculate $\\nabla f(x)$ and evaluate it on $x_{0,i}$ $(1\\leq i \\leq n)$ where $\\bar{x_0} = (x_{0,1},...,x_{0,n})$   we use the following code:  \n",
    "`# Create x_1, x_2, ... x_n  float tensors ith the value where the derivative it's going to be evaluated.`  \n",
    "`x_1 = torch.tensor(x_01, dtype = float, requires_grad = True)`  \n",
    "`x_2 = torch.tensor(x_02, dtype = float, requires_grad = True)`  \n",
    "`.`  \n",
    "`.`  \n",
    "`.`  \n",
    "`x_n = torch.tensor(x_0n, dtype = float, requires_grad = True)`  \n",
    "`# Create a f tensor as a function that depends of x_1,...,x_n.`  \n",
    "`f = f(x_1,...,x_n)`  \n",
    "`# Get f's gradient`  \n",
    "`f.backward()`  \n",
    "`# # Evaluate x_0i on f's partial derivative respect to x_i (1<= i <= n).`  \n",
    "`x_i.grad()`  "
   ]
  },
  {
   "cell_type": "code",
   "execution_count": 63,
   "id": "0d239cd9-53fa-4b21-a95d-e1938ebfba1d",
   "metadata": {},
   "outputs": [
    {
     "name": "stdout",
     "output_type": "stream",
     "text": [
      "tensor(4., dtype=torch.float64)\n",
      "tensor(2., dtype=torch.float64)\n"
     ]
    }
   ],
   "source": [
    "# Evaluate the derivative of f(x) = x_1^2 + x_2^2  on x_01 = 2 and on x_02 = 1\n",
    "x_1 = torch.tensor(2, dtype = float, requires_grad = True)\n",
    "x_2 = torch.tensor(1, dtype = float, requires_grad = True)\n",
    "f = x_1**2 + x_2**2\n",
    "f.backward()\n",
    "print(x_1.grad)\n",
    "print(x_2.grad)"
   ]
  },
  {
   "cell_type": "markdown",
   "id": "4ae8f917-f4f3-47be-bd70-5c4056230aed",
   "metadata": {},
   "source": [
    "## Datasets and DataLoaders\n",
    "PyTorch datasets provide efficient data loading, data augmentation, flexibility, and shuffling capabilities, making it a popular choice for deep learning practitioners.  \n",
    "  \n",
    "Code for processing data samples can get messy and hard to maintain; we ideally want our dataset code to be decoupled from our model training code for better readability and modularity. PyTorch provides two data primitives: `torch.utils.data.DataLoader` and `torch.utils.data.Dataset` that allow you to use pre-loaded datasets as well as your own data. `Dataset` stores the samples and their corresponding labels, and `DataLoader` wraps an iterable around the Dataset to enable easy access to the samples.\n",
    "  \n",
    "It's useful for applying transfroms to the data and then intereting trough it while training a model.\n",
    "  \n",
    "In order to create a numeric table Dataset subclass with samples col_1, col_2, ..., col_m and certeain length which may be transformed, use the following code:  \n",
    "\n",
    "`from torch.utils.data import Dataset`  \n",
    "`class Data(Dataset):`  \n",
    "` `  \n",
    "`    # Constructor with defult values`  \n",
    "`    def __init__(self, length , transform = None):`  \n",
    "`        self.len = length`  \n",
    "`        self.col_1 = torch.tensor(col_1)`  \n",
    "`        self.col_2 = torch.tensor(col_2)`  \n",
    "`        .`  \n",
    "`        .`  \n",
    "`        .`  \n",
    "`        self.col_m = torch.tensor(col_m)`  \n",
    "`        self.transform = transform`  \n",
    "` `  \n",
    "`    # Getter`  \n",
    "`    def __getitem__(self, index):`  \n",
    "`        sample = self.col_1[index], self.col_2[index], ..., self.col_m[index]`  \n",
    "`        if self.transform:`  \n",
    "`            sample = self.transform(sample)`  \n",
    "`        return sample`  \n",
    "` `  \n",
    "`    # Get Length`  \n",
    "`    def __len__(self):`  \n",
    "`      return self.len`  \n",
    "`data = Data(length)`  \n",
    "  \n",
    "You may put some other parameters more than length with their respective getters.\n",
    "  \n",
    "In order to create DataLoader object from an object data from a Dataset subclass, given the case that you are using gradient descent in order to optimize a loss function and have a batch_size $bs$, use the following code:\n",
    "  \n",
    "`from torch.utils.data import Dataset`  \n",
    "`datal = Dataloader(dataset = data, batch_size = bs)`\n",
    "\n",
    "The use of DataLoaders is described on Optimization Methods. "
   ]
  },
  {
   "cell_type": "code",
   "execution_count": 3,
   "id": "bedcc199-bfbd-4baa-a906-f939dcda3f0f",
   "metadata": {},
   "outputs": [],
   "source": [
    "# Make a subclass toy_data\n",
    "from torch.utils.data import Dataset\n",
    "class toy_data(Dataset):\n",
    "    \n",
    "    # Constructor with defult values \n",
    "    def __init__(self, length , transform = None):\n",
    "        self.len = length\n",
    "        self.x = 2 * torch.ones(length, 2)\n",
    "        self.y = torch.ones(length, 1)\n",
    "        self.transform = transform\n",
    "     \n",
    "    # Getter\n",
    "    def __getitem__(self, index):\n",
    "        sample = self.x[index], self.y[index]\n",
    "        if self.transform:\n",
    "            sample = self.transform(sample)     \n",
    "        return sample\n",
    "    \n",
    "    # Get Length\n",
    "    def __len__(self):\n",
    "        return self.len\n",
    "# This suubclass can make a data object that consists on two columns x,y with length number of elements.\n",
    "# The column x is constant with the tensor (2,2)\n",
    "# The column y is constant with the tensor (1)"
   ]
  },
  {
   "cell_type": "code",
   "execution_count": 100,
   "id": "8d66a5af-b9ae-4a15-8690-79d78604f07d",
   "metadata": {},
   "outputs": [],
   "source": [
    "# Create an object from toy_data class\n",
    "data = toy_data(length = 10)"
   ]
  },
  {
   "cell_type": "code",
   "execution_count": 173,
   "id": "e1f1cd2e-7f73-40ed-b9f7-70e22af8b0dc",
   "metadata": {},
   "outputs": [
    {
     "data": {
      "text/plain": [
       "60"
      ]
     },
     "execution_count": 173,
     "metadata": {},
     "output_type": "execute_result"
    }
   ],
   "source": [
    "# Get Dataset object sample size\n",
    "data.len"
   ]
  },
  {
   "cell_type": "code",
   "execution_count": 102,
   "id": "765fe4cb-783a-4a32-93f3-32d53c3fd6fe",
   "metadata": {},
   "outputs": [
    {
     "name": "stdout",
     "output_type": "stream",
     "text": [
      " x: tensor([2., 2.]) y: tensor([1.])\n",
      " x: tensor([2., 2.]) y: tensor([1.])\n",
      " x: tensor([2., 2.]) y: tensor([1.])\n",
      " x: tensor([2., 2.]) y: tensor([1.])\n",
      " x: tensor([2., 2.]) y: tensor([1.])\n",
      " x: tensor([2., 2.]) y: tensor([1.])\n",
      " x: tensor([2., 2.]) y: tensor([1.])\n",
      " x: tensor([2., 2.]) y: tensor([1.])\n",
      " x: tensor([2., 2.]) y: tensor([1.])\n",
      " x: tensor([2., 2.]) y: tensor([1.])\n"
     ]
    }
   ],
   "source": [
    "# View the elements in data\n",
    "for x,y in data:\n",
    "    print(' x:', x, 'y:', y)"
   ]
  },
  {
   "cell_type": "code",
   "execution_count": 103,
   "id": "155c804b-2bdc-453b-a78d-cd7c4ae5dbd0",
   "metadata": {},
   "outputs": [
    {
     "data": {
      "text/plain": [
       "tensor([[2., 2.],\n",
       "        [2., 2.],\n",
       "        [2., 2.],\n",
       "        [2., 2.],\n",
       "        [2., 2.],\n",
       "        [2., 2.],\n",
       "        [2., 2.],\n",
       "        [2., 2.],\n",
       "        [2., 2.],\n",
       "        [2., 2.]])"
      ]
     },
     "execution_count": 103,
     "metadata": {},
     "output_type": "execute_result"
    }
   ],
   "source": [
    "# Get the j-th column\n",
    "data[:][0]"
   ]
  },
  {
   "cell_type": "code",
   "execution_count": 104,
   "id": "6af8fe99-c2ff-4250-b32b-ecd168776057",
   "metadata": {},
   "outputs": [
    {
     "data": {
      "text/plain": [
       "(tensor([2., 2.]), tensor([1.]))"
      ]
     },
     "execution_count": 104,
     "metadata": {},
     "output_type": "execute_result"
    }
   ],
   "source": [
    "# Get the i-th row\n",
    "data[1][:]"
   ]
  },
  {
   "cell_type": "code",
   "execution_count": 105,
   "id": "227562e3-e35d-4a25-b724-f92934b37024",
   "metadata": {},
   "outputs": [
    {
     "data": {
      "text/plain": [
       "tensor([1.])"
      ]
     },
     "execution_count": 105,
     "metadata": {},
     "output_type": "execute_result"
    }
   ],
   "source": [
    "# Get the ij-th element\n",
    "data[0][1]"
   ]
  },
  {
   "cell_type": "code",
   "execution_count": null,
   "id": "67832aab-36da-45ba-b2f8-7e1deeeb0eee",
   "metadata": {},
   "outputs": [],
   "source": []
  },
  {
   "cell_type": "code",
   "execution_count": 39,
   "id": "d97ac5cf-0a54-4a60-b725-a1a666a3fc5d",
   "metadata": {},
   "outputs": [
    {
     "name": "stdout",
     "output_type": "stream",
     "text": [
      "tensor([5.0000, 5.4000, 3.9000, 1.7000, 0.4000], dtype=torch.float64)\n",
      "tensor([0.], dtype=torch.float64)\n",
      "(tensor([5.0000, 5.4000, 3.9000, 1.7000, 0.4000], dtype=torch.float64), tensor([0.], dtype=torch.float64))\n"
     ]
    }
   ],
   "source": [
    "#### Tabular Dataset class\n",
    "\n",
    "## Import required tools \n",
    "from torch.utils.data import Dataset\n",
    "\n",
    "## Make Dataset class\n",
    "class TabularDataset(Dataset):\n",
    "    \n",
    "    def __init__(self, x, y, transform = None):\n",
    "        '''\n",
    "        Parameters\n",
    "        x : feature matrix \n",
    "        y : labels\n",
    "        transform : function to transform the data\n",
    "        '''\n",
    "        self.x = torch.tensor(x, dtype = float)\n",
    "        self.y = torch.tensor(y, dtype = float)\n",
    "        self.transform = transform\n",
    "\n",
    "    def __getitem__(self, index):\n",
    "        sample = self.x[index], self.y[index]\n",
    "        if self.transform:\n",
    "            sample = self.transform(sample)     \n",
    "        return sample\n",
    "   \n",
    "    def __len__(self):\n",
    "        return len(self.y)\n",
    "\n",
    "## Load some data\n",
    "from sklearn.datasets import load_iris\n",
    "iris = pd.read_csv('Data/iris.csv')\n",
    "x = iris.drop(columns = ['target']).values\n",
    "y = iris[['target']].values\n",
    "\n",
    "## Put the Data into the class\n",
    "iris_dataset = TabularDataset(x = x, y = y)\n",
    "\n",
    "## See a few elements\n",
    "# Sixth feature row\n",
    "print(iris_dataset[5][0])\n",
    "# Sixth label row\n",
    "print(iris_dataset[5][1])\n",
    "# Sixth full row\n",
    "print(iris_dataset[5])"
   ]
  },
  {
   "cell_type": "code",
   "execution_count": 73,
   "id": "b3bf5d64-daa3-4b99-b8c7-7a03c152c2f1",
   "metadata": {},
   "outputs": [
    {
     "ename": "ValueError",
     "evalue": "pic should be 2/3 dimensional. Got 1 dimensions.",
     "output_type": "error",
     "traceback": [
      "\u001b[0;31m---------------------------------------------------------------------------\u001b[0m",
      "\u001b[0;31mValueError\u001b[0m                                Traceback (most recent call last)",
      "Cell \u001b[0;32mIn[73], line 27\u001b[0m\n\u001b[1;32m     24\u001b[0m iris_dataset \u001b[38;5;241m=\u001b[39m TabularDataset(data_file \u001b[38;5;241m=\u001b[39m \u001b[38;5;124m'\u001b[39m\u001b[38;5;124mData/iris.csv\u001b[39m\u001b[38;5;124m'\u001b[39m, target_column \u001b[38;5;241m=\u001b[39m \u001b[38;5;124m'\u001b[39m\u001b[38;5;124mtarget\u001b[39m\u001b[38;5;124m'\u001b[39m)\n\u001b[1;32m     25\u001b[0m \u001b[38;5;66;03m## See a few elements\u001b[39;00m\n\u001b[1;32m     26\u001b[0m \u001b[38;5;66;03m# Sixth feature row\u001b[39;00m\n\u001b[0;32m---> 27\u001b[0m \u001b[38;5;28mprint\u001b[39m(\u001b[43miris_dataset\u001b[49m\u001b[43m[\u001b[49m\u001b[38;5;241;43m5\u001b[39;49m\u001b[43m]\u001b[49m[\u001b[38;5;241m0\u001b[39m])\n\u001b[1;32m     28\u001b[0m \u001b[38;5;66;03m# Sixth label row\u001b[39;00m\n\u001b[1;32m     29\u001b[0m \u001b[38;5;28mprint\u001b[39m(iris_dataset[\u001b[38;5;241m5\u001b[39m][\u001b[38;5;241m1\u001b[39m])\n",
      "Cell \u001b[0;32mIn[73], line 18\u001b[0m, in \u001b[0;36mTabularDataset.__getitem__\u001b[0;34m(self, index)\u001b[0m\n\u001b[1;32m     16\u001b[0m target \u001b[38;5;241m=\u001b[39m \u001b[38;5;28mself\u001b[39m\u001b[38;5;241m.\u001b[39mdata\u001b[38;5;241m.\u001b[39miloc[index][\u001b[38;5;28mself\u001b[39m\u001b[38;5;241m.\u001b[39mtarget_column]\n\u001b[1;32m     17\u001b[0m \u001b[38;5;28;01mif\u001b[39;00m \u001b[38;5;28mself\u001b[39m\u001b[38;5;241m.\u001b[39mtransform:\n\u001b[0;32m---> 18\u001b[0m     features \u001b[38;5;241m=\u001b[39m \u001b[38;5;28;43mself\u001b[39;49m\u001b[38;5;241;43m.\u001b[39;49m\u001b[43mtransform\u001b[49m\u001b[43m(\u001b[49m\u001b[43mfeatures\u001b[49m\u001b[43m)\u001b[49m     \n\u001b[1;32m     19\u001b[0m     target \u001b[38;5;241m=\u001b[39m \u001b[38;5;28mself\u001b[39m\u001b[38;5;241m.\u001b[39mtransform(target)\n\u001b[1;32m     21\u001b[0m \u001b[38;5;28;01mreturn\u001b[39;00m features, target\n",
      "File \u001b[0;32m~/Library/jupyterlab-desktop/jlab_server/lib/python3.8/site-packages/torchvision/transforms/transforms.py:137\u001b[0m, in \u001b[0;36mToTensor.__call__\u001b[0;34m(self, pic)\u001b[0m\n\u001b[1;32m    129\u001b[0m \u001b[38;5;28;01mdef\u001b[39;00m \u001b[38;5;21m__call__\u001b[39m(\u001b[38;5;28mself\u001b[39m, pic):\n\u001b[1;32m    130\u001b[0m \u001b[38;5;250m    \u001b[39m\u001b[38;5;124;03m\"\"\"\u001b[39;00m\n\u001b[1;32m    131\u001b[0m \u001b[38;5;124;03m    Args:\u001b[39;00m\n\u001b[1;32m    132\u001b[0m \u001b[38;5;124;03m        pic (PIL Image or numpy.ndarray): Image to be converted to tensor.\u001b[39;00m\n\u001b[0;32m   (...)\u001b[0m\n\u001b[1;32m    135\u001b[0m \u001b[38;5;124;03m        Tensor: Converted image.\u001b[39;00m\n\u001b[1;32m    136\u001b[0m \u001b[38;5;124;03m    \"\"\"\u001b[39;00m\n\u001b[0;32m--> 137\u001b[0m     \u001b[38;5;28;01mreturn\u001b[39;00m \u001b[43mF\u001b[49m\u001b[38;5;241;43m.\u001b[39;49m\u001b[43mto_tensor\u001b[49m\u001b[43m(\u001b[49m\u001b[43mpic\u001b[49m\u001b[43m)\u001b[49m\n",
      "File \u001b[0;32m~/Library/jupyterlab-desktop/jlab_server/lib/python3.8/site-packages/torchvision/transforms/functional.py:144\u001b[0m, in \u001b[0;36mto_tensor\u001b[0;34m(pic)\u001b[0m\n\u001b[1;32m    141\u001b[0m     \u001b[38;5;28;01mraise\u001b[39;00m \u001b[38;5;167;01mTypeError\u001b[39;00m(\u001b[38;5;124mf\u001b[39m\u001b[38;5;124m\"\u001b[39m\u001b[38;5;124mpic should be PIL Image or ndarray. Got \u001b[39m\u001b[38;5;132;01m{\u001b[39;00m\u001b[38;5;28mtype\u001b[39m(pic)\u001b[38;5;132;01m}\u001b[39;00m\u001b[38;5;124m\"\u001b[39m)\n\u001b[1;32m    143\u001b[0m \u001b[38;5;28;01mif\u001b[39;00m _is_numpy(pic) \u001b[38;5;129;01mand\u001b[39;00m \u001b[38;5;129;01mnot\u001b[39;00m _is_numpy_image(pic):\n\u001b[0;32m--> 144\u001b[0m     \u001b[38;5;28;01mraise\u001b[39;00m \u001b[38;5;167;01mValueError\u001b[39;00m(\u001b[38;5;124mf\u001b[39m\u001b[38;5;124m\"\u001b[39m\u001b[38;5;124mpic should be 2/3 dimensional. Got \u001b[39m\u001b[38;5;132;01m{\u001b[39;00mpic\u001b[38;5;241m.\u001b[39mndim\u001b[38;5;132;01m}\u001b[39;00m\u001b[38;5;124m dimensions.\u001b[39m\u001b[38;5;124m\"\u001b[39m)\n\u001b[1;32m    146\u001b[0m default_float_dtype \u001b[38;5;241m=\u001b[39m torch\u001b[38;5;241m.\u001b[39mget_default_dtype()\n\u001b[1;32m    148\u001b[0m \u001b[38;5;28;01mif\u001b[39;00m \u001b[38;5;28misinstance\u001b[39m(pic, np\u001b[38;5;241m.\u001b[39mndarray):\n\u001b[1;32m    149\u001b[0m     \u001b[38;5;66;03m# handle numpy array\u001b[39;00m\n",
      "\u001b[0;31mValueError\u001b[0m: pic should be 2/3 dimensional. Got 1 dimensions."
     ]
    }
   ],
   "source": [
    "import pandas as pd\n",
    "import torch\n",
    "from torch.utils.data import Dataset\n",
    "\n",
    "class TabularDataset(Dataset):\n",
    "    def __init__(self, data_file, target_column, transform = transforms.ToTensor()):\n",
    "        self.data = pd.read_csv(data_file)\n",
    "        self.target_column = target_column\n",
    "        self.transform = transform\n",
    "\n",
    "    def __len__(self):\n",
    "        return len(self.data)\n",
    "\n",
    "    def __getitem__(self, index):\n",
    "        features = self.data.iloc[index, :].drop(self.target_column).values\n",
    "        target = self.data.iloc[index][self.target_column]\n",
    "        if self.transform:\n",
    "            features = self.transform(features)     \n",
    "            target = self.transform(target)\n",
    "\n",
    "        return features, target\n",
    "\n",
    "## Put the Data into the class\n",
    "iris_dataset = TabularDataset(data_file = 'Data/iris.csv', target_column = 'target')\n",
    "## See a few elements\n",
    "# Sixth feature row\n",
    "print(iris_dataset[5][0])\n",
    "# Sixth label row\n",
    "print(iris_dataset[5][1])\n",
    "# Sixth full row\n",
    "print(iris_dataset[5])"
   ]
  },
  {
   "cell_type": "markdown",
   "id": "bd0080e4-537e-4ac8-914d-87d2016fc01b",
   "metadata": {},
   "source": [
    "### Transforms\n",
    "It's about a class that applies transforms a Dataset subclass object.\n",
    "\n",
    "In order to create a transform class with parameters par_1, par_2, ..., par_k in order to transform Dataset with samples col_1, col_2, ..., col_m with functions f_1,f_2, ..., f_l that depends on some samples and some parameters use the following code:\n",
    "\n",
    "`class transform_custom(object):`  \n",
    "` `  \n",
    "`    # Constructor`  \n",
    "`    def __init__(self, par_1, par_2,...,par_k):`  \n",
    "`        self.par_1 = par_1`  \n",
    "`        self.par_2 = par_2`  \n",
    "`        .`  \n",
    "`        .`  \n",
    "`        .`  \n",
    "`        self.par_k = par_k`  \n",
    "` `  \n",
    "`    # Executor`  \n",
    "`    def __call__(self, sample):`  \n",
    "`       col_1 = sample[0]`  \n",
    "`        col_2 = sample[1]`  \n",
    "`        .`  \n",
    "`        .`  \n",
    "`        .`  \n",
    "`        col_m = sample[m-1]`  \n",
    "`        col_i = f_1(samples, parameters)`  \n",
    "`        .`  \n",
    "`        .`  \n",
    "`        .`  \n",
    "`        col_j = f_l(samples, parameters)`  \n",
    "`        sample = col_1, col_2, ..., col_m`  \n",
    "`        return sample`  \n",
    "\n",
    "In order to create an object from some Dataset subclass data and apply the transfromation tranformation_custom to it use the following code:  \n",
    "`trans_custom = transfromation_custom(par_1, par_2, ..., par_k)`  \n",
    "`trans_data = data(length, transform = transform_custom)`  "
   ]
  },
  {
   "cell_type": "code",
   "execution_count": 4,
   "id": "056da52e-2770-4f4d-b7f9-7be33515bc20",
   "metadata": {},
   "outputs": [],
   "source": [
    "# Create tranform class \n",
    "class add(object):\n",
    "    \n",
    "    # Constructor\n",
    "    def __init__(self, n):\n",
    "        self.n = n\n",
    "    \n",
    "    # Executor\n",
    "    def __call__(self, sample):\n",
    "        x = sample[0]\n",
    "        y = sample[1]\n",
    "        x = x + self.n\n",
    "        y = y + self.n\n",
    "        sample = x, y\n",
    "        return sample\n",
    "# The add transform x into x + n and y into y + n "
   ]
  },
  {
   "cell_type": "code",
   "execution_count": 5,
   "id": "76fc6657-e1b9-41cb-8780-cb53e76621fc",
   "metadata": {},
   "outputs": [],
   "source": [
    "# Create an object from first transformer class with it's corresponding parameters\n",
    "trans = add(n = 1)"
   ]
  },
  {
   "cell_type": "code",
   "execution_count": 13,
   "id": "09d9e5e6-30f8-4587-8083-1ade585d691a",
   "metadata": {},
   "outputs": [],
   "source": [
    "# Apply one transformation to a data object\n",
    "data_trans = toy_data(length = 10, transform = trans)"
   ]
  },
  {
   "cell_type": "code",
   "execution_count": 14,
   "id": "922d1ffb-8efc-48ff-ace2-8d994b37d740",
   "metadata": {},
   "outputs": [
    {
     "name": "stdout",
     "output_type": "stream",
     "text": [
      " x: tensor([3., 3.]) y: tensor([2.])\n",
      " x: tensor([3., 3.]) y: tensor([2.])\n",
      " x: tensor([3., 3.]) y: tensor([2.])\n",
      " x: tensor([3., 3.]) y: tensor([2.])\n",
      " x: tensor([3., 3.]) y: tensor([2.])\n",
      " x: tensor([3., 3.]) y: tensor([2.])\n",
      " x: tensor([3., 3.]) y: tensor([2.])\n",
      " x: tensor([3., 3.]) y: tensor([2.])\n",
      " x: tensor([3., 3.]) y: tensor([2.])\n",
      " x: tensor([3., 3.]) y: tensor([2.])\n"
     ]
    }
   ],
   "source": [
    "# View transformed data\n",
    "for x,y in data_trans:\n",
    "    print(' x:', x, 'y:', y)"
   ]
  },
  {
   "cell_type": "markdown",
   "id": "c6731588-e069-4dea-8e64-e74da2b169b8",
   "metadata": {},
   "source": [
    "### Pre-Built Transfroms"
   ]
  },
  {
   "cell_type": "markdown",
   "id": "5f103da8-4e1b-483e-ac87-93d6a5e042a5",
   "metadata": {},
   "source": [
    "Numerical transforms"
   ]
  },
  {
   "cell_type": "code",
   "execution_count": null,
   "id": "2996e863-aa65-48d0-9da2-aa9e90accc71",
   "metadata": {},
   "outputs": [],
   "source": []
  },
  {
   "cell_type": "code",
   "execution_count": null,
   "id": "8955383f-9b1e-49f9-93fc-c7273d5c864b",
   "metadata": {},
   "outputs": [],
   "source": []
  },
  {
   "cell_type": "code",
   "execution_count": null,
   "id": "c659e183-5857-4ed1-b12d-72918123664f",
   "metadata": {},
   "outputs": [],
   "source": []
  },
  {
   "cell_type": "markdown",
   "id": "b91cf1e8-0f77-45b3-a27b-c648acc64da0",
   "metadata": {},
   "source": [
    "Torchvision Transforms"
   ]
  },
  {
   "cell_type": "code",
   "execution_count": null,
   "id": "e070d475-8f2b-499a-b178-73153202919e",
   "metadata": {},
   "outputs": [],
   "source": [
    "# Importar las herramientas requeridas\n",
    "import torchvision\n",
    "import torchvision.transforms as transforms"
   ]
  },
  {
   "cell_type": "code",
   "execution_count": null,
   "id": "bc7679f3-d961-4c67-a3ba-f3a98617395f",
   "metadata": {},
   "outputs": [],
   "source": [
    "# Convert image to tensor \n",
    "transforms.ToTensor()"
   ]
  },
  {
   "cell_type": "code",
   "execution_count": null,
   "id": "9b9a9771-9e69-4543-b192-ebaec6eba230",
   "metadata": {},
   "outputs": [],
   "source": [
    "# Crop image by n\n",
    "transforms.CenterCrop(20)"
   ]
  },
  {
   "cell_type": "markdown",
   "id": "3dda17dd-bd5c-465d-a134-68b9b5968090",
   "metadata": {},
   "source": [
    "### Compose \n",
    "It's about a buit-on method that allows us to apply several transformation objects to a data object.\n",
    "\n",
    "In order to create an object from some Dataset subclass data and apply in such order the transfromations tranformation_custom_1, ..., transformation_custom_n that rely on some parameters, use the following code:  \n",
    "`import torchvision`  \n",
    "`from torchvision import transforms`  \n",
    "`trans_compose = transforms.Compose([transformation_custom_1(parameters), ..., transformartion_custom_n(parameters)])`  \n",
    "`trans_compose_data = data_(length, transform = trans_compose)`  "
   ]
  },
  {
   "cell_type": "code",
   "execution_count": 15,
   "id": "e4433a4e-3e73-458f-a0d4-a96a029e6a74",
   "metadata": {},
   "outputs": [],
   "source": [
    "# First tranformer class \n",
    "class add(object):\n",
    "    \n",
    "    # Constructor\n",
    "    def __init__(self, n):\n",
    "        self.n = n\n",
    "    \n",
    "    # Executor\n",
    "    def __call__(self, sample):\n",
    "        x = sample[0]\n",
    "        y = sample[1]\n",
    "        x = x + self.n\n",
    "        y = y + self.n\n",
    "        sample = x, y\n",
    "        return sample\n",
    "# The add transform x into x + n and y into y + n "
   ]
  },
  {
   "cell_type": "code",
   "execution_count": 16,
   "id": "75bc7090-52a6-4493-a80b-99a593818280",
   "metadata": {},
   "outputs": [],
   "source": [
    "# Second tranformer class \n",
    "class mult(object):\n",
    "    \n",
    "    # Constructor\n",
    "    def __init__(self, m):\n",
    "        self.m = m\n",
    "    \n",
    "    # Executor\n",
    "    def __call__(self, sample):\n",
    "        x = sample[0]\n",
    "        y = sample[1]\n",
    "        x = x * self.m\n",
    "        y = y * self.m\n",
    "        sample = x, y\n",
    "        return sample\n",
    "# The add transform x into x * m and y into y * m"
   ]
  },
  {
   "cell_type": "code",
   "execution_count": 17,
   "id": "5349a6b4-25ce-4f33-8378-d72ecd691a79",
   "metadata": {},
   "outputs": [],
   "source": [
    "# Combine several transfromations in one object\n",
    "import torchvision\n",
    "from torchvision import transforms\n",
    "trans_compose = transforms.Compose([add(n = 1), mult(m = 2)])"
   ]
  },
  {
   "cell_type": "code",
   "execution_count": 18,
   "id": "91d97b3e-3770-4ef7-9815-8c484994cf80",
   "metadata": {},
   "outputs": [],
   "source": [
    "# Apply one composed transformation to a data object\n",
    "data_trans_compose = toy_data(length = 10, transform = trans_compose)"
   ]
  },
  {
   "cell_type": "code",
   "execution_count": 19,
   "id": "ccc4b028-6858-4e4d-a557-8593fa2b442e",
   "metadata": {},
   "outputs": [
    {
     "name": "stdout",
     "output_type": "stream",
     "text": [
      " x: tensor([6., 6.]) y: tensor([4.])\n",
      " x: tensor([6., 6.]) y: tensor([4.])\n",
      " x: tensor([6., 6.]) y: tensor([4.])\n",
      " x: tensor([6., 6.]) y: tensor([4.])\n",
      " x: tensor([6., 6.]) y: tensor([4.])\n",
      " x: tensor([6., 6.]) y: tensor([4.])\n",
      " x: tensor([6., 6.]) y: tensor([4.])\n",
      " x: tensor([6., 6.]) y: tensor([4.])\n",
      " x: tensor([6., 6.]) y: tensor([4.])\n",
      " x: tensor([6., 6.]) y: tensor([4.])\n"
     ]
    }
   ],
   "source": [
    "# View transformed data\n",
    "for x,y in data_trans_compose:\n",
    "    print(' x:', x, 'y:', y)"
   ]
  },
  {
   "cell_type": "markdown",
   "id": "f8faaae5-79ce-48ae-93de-cf364d08af3a",
   "metadata": {},
   "source": [
    "## Loss Functions\n",
    "**Loss Function and Cost**  \n",
    "In order to estimate the parameters of a desired model, we'll have to solve a optimization problem on a particular function called **loss function**. The loss function tries to express the model error by considering the predicted values versus the ground truth by essentially finding the distance from the model estimate from the actual value we are trying to predict. Sometimes it takes the mean squared error and some others the total error. The actual value that the functions takes it's called **cost**. So we're looking forward to get the parameters such that the loss function and it's cost is minimum. \n",
    "  \n",
    "For example, consider a function $f(x;\\beta)$ with parameters $\\beta = (\\beta_1,...,\\beta_k)$ which we need to estimate by fitting data, let's say $n$ elements of $m$ variables. Let $x_i = (x_{i,1}, x_{i,2},...,x_{i,m}, y_{i})$ $1\\leq i \\leq n$ be one of these elements. The cost function would be $l(\\beta) = \\frac{1}{n}\\sum_{i=1}^{n}(y_i - f(x_i;\\beta))^2)$ if we take the average and $l(\\beta) = \\sum_{i=1}^{n}(y_i - f(x_i;\\beta))^2)$ if we take the total.  \n",
    "\n",
    "**nn.module Loss Functions**  \n",
    "Loss functions don't have to be coded from scartch. There are a lot built-in functions on torch nn.module. Some of these are the following:\n",
    "\n",
    "\n",
    "* `nn.L1Loss`: Creates a criterion that measures the mean absolute error (MAE) between each element in the input \n",
    "$x$ and target $y$.\n",
    "* `nn.MSELoss`: Creates a criterion that measures the mean squared error (squared L2 norm) between each element in the input $x$ and target $y$.\n",
    "* `nn.CrossEntropyLoss`: This criterion computes the cross entropy loss between input logits and target.\n",
    "* `nn.CTCLoss`: The Connectionist Temporal Classification loss.\n",
    "* `nn.NLLLoss`: The negative log likelihood loss.\n",
    "* `nn.PoissonNLLLoss`: Negative log likelihood loss with Poisson distribution of target.\n",
    "* `nn.GaussianNLLLos`s: Gaussian negative log likelihood loss.\n",
    "* `nn.KLDivLoss`: The Kullback-Leibler divergence loss.\n",
    "* `nn.BCELoss`: Creates a criterion that measures the Binary Cross Entropy between the target and the input probabilities.\n",
    "* `nn.BCEWithLogitsLoss`: This loss combines a Sigmoid layer and the BCELoss in one single class.\n",
    "* `nn.MarginRankingLoss`: Creates a criterion that measures the loss given inputs \n",
    "$x_1$, $x_2$, two 1D mini-batch or 0D Tensors, and a label 1D mini-batch or 0D Tensor $y$ (containing 1 or -1).\n",
    "* `nn.HingeEmbeddingLoss`: Measures the loss given an input tensor $x$ and a labels tensor $y$ (containing 1 or -1).\n",
    "* `nn.MultiLabelMarginLoss`: Creates a criterion that optimizes a multi-class multi-classification hinge loss (margin-based loss) between input \n",
    "$x$ (a 2D mini-batch Tensor) and output $y$ (which is a 2D Tensor of target class indices).\n",
    "* `nn.HuberLoss`: Creates a criterion that uses a squared term if the absolute element-wise error falls below delta and a delta-scaled L1 term otherwise.\n",
    "* `nn.SmoothL1Loss`: Creates a criterion that uses a squared term if the absolute element-wise error falls below beta and an L1 term otherwise.\n",
    "* `nn.SoftMarginLoss`: Creates a criterion that optimizes a two-class classification logistic loss between input tensor \n",
    "$x$ and target tensor $y$(containing 1 or -1).\n",
    "* `nn.MultiLabelSoftMarginLoss`: Creates a criterion that optimizes a multi-label one-versus-all loss based on max-entropy, between input $x$ and target $y$ of size $(N,C)$.\n",
    "* `nn.CosineEmbeddingLoss`: Creates a criterion that measures the loss given input tensors\n",
    "$x_1$, $x_2$ and a Tensor label y with values 1 or -1.\n",
    "* `nn.MultiMarginLoss`: Creates a criterion that optimizes a multi-class classification hinge loss (margin-based loss) between input $x$ (a 2D mini-batch Tensor) and output \n",
    "$y$ (which is a 1D tensor of target class indices, \n",
    "$0\\leq y \\leq x.size(1)−1).\n",
    "* `nn.TripletMarginLoss`: Creates a criterion that measures the triplet loss given an input tensors \n",
    "$x_1, x_2, x_3$ and a margin with a value greater than $0$.\n",
    "* `nn.TripletMarginWithDistanceLoss`: Creates a criterion that measures the triplet loss given input tensors $a,p,n$ (representing anchor, positive, and negative examples, respectively), and a nonnegative, real-valued function (\"distance function\") used to compute the relationship between the anchor and positive example (\"positive distance\") and the anchor and negative example (\"negative distance\").\n",
    "\n",
    "In order to use one of these, let's call it 'nn.CRIT' where 'CRIT' is the criterion function, use the following sintax:  \n",
    "`from torch import nn`  \n",
    "`criterion = nn.CRIT()`\n"
   ]
  },
  {
   "cell_type": "markdown",
   "id": "a55ab667-05e0-436e-8008-f09beef71292",
   "metadata": {},
   "source": [
    "## Optimization methods\n",
    "\n",
    "**Gradient Descent**  \n",
    "There are several ways to solve a uncunstrained optimization problem. Nevertheless, a popular method in machine learning for approaching this is **gradient descent** and some of it's variations. In it's simplest form, it works as follows.  \n",
    "  \n",
    "Consider a function $f:\\mathbb{R}^n\\rightarrow \\mathbb{R}$ such that $f\\in\\mathcal{C}^{1}(\\mathbb{R}^n)$ and $f$ has a lower bound. Let $x_0\\in\\mathbb{R}^n$ such that $\\nabla f(x_0)\\not = 0$. A vector $p\\in\\mathbb{R}^n - \\{\\bar{0}\\}$ it's called a descent direction when $\\nabla f(x)^{t}p<0$. It's possible to proof that there exists some $\\alpha\\in\\mathbb{R}^{+}$ such that $f(x+\\alpha p) < f(x)$. This means that if we go in direction $p$ with a step of a wise-chosen $\\alpha$, we'll eventualy find a local minimum. We'd like to go in the direction where $f$ descends the fastest; it's possible to proof that this direction is given by $p^{*} = -\\frac{\\nabla f(x)}{||\\nabla f(x)||_2}$, so we'll go on this way. $\\alpha$ will be treated as a hyperparameter.  \n",
    "Well, here we go.  \n",
    "1. Randomly initialize $x_0$ and choose $\\alpha$.\n",
    "2. Let $x_k = x_0 - \\alpha\\frac{df}{dx}(x_{k-1})$ for $k > 0$.\n",
    "This algortithm may generate a succesion of $x_0,x_1,x_2...$ such that $f(x_0)<f(x_1)<f(x_2)<...$ that converges to a local minumum. The wisdom about selecting the appropiate $\\alpha$ it's on the fact that that if it's too big we might miss the minimum, but if it's too small we might take too long to reach the minimum. This may be solved heuristically by picking a method for stoping the algorithm iterations:\n",
    "* Select a fixed number of iterations, then stop. \n",
    "* If the loss function starts increasing, then stop.\n",
    "   \n",
    "All the samples in the training set are called a batch. As we use all the samples, we refer to call gradient descent by batch gradient descent.\n",
    "\n",
    "In order to estimate the parameters $w,b$ of a simple liner regression model $\\hat{y} = wx + b + \\epsilon$ using gradient descent, given a tensor $x$ of $n$ samples with it's respectuve values in a tensor $y$ with a number of epochs epochs and a learning rate lr use the following code and with initial values w_0 and b_0: \n",
    "  \n",
    "`# Define froward fuction`  \n",
    "`def forward(x):`  \n",
    "`    return w*x + b`  \n",
    "` `  \n",
    "`# Define MSE loss function`  \n",
    "`def criterion(yhat, y):`  \n",
    "`    return torch.mean((y - yhat)**2)`  \n",
    "` `  \n",
    "`# Define training function with Batch Gradient Descent`  \n",
    "`def train_model_BGD(epochs, lr):`  \n",
    "`    '''`  \n",
    "`    epochs: Epochs to execute. As we are making Batch Gradient Descent, we'll make 1 iteration in order to complete one epoch.`  \n",
    "`    lr: Learning rate`  \n",
    "`    '''`  \n",
    "`    # Define an empty dictionary in order to store cost per epoch`  \n",
    "`    cost = {}`  \n",
    "`    # Do gradient descent in order to estimate parameters`  \n",
    "`    for epoch in range(epochs):`  \n",
    "`       yhat = forward(x)`  \n",
    "`        loss = criterion(yhat, y)`  \n",
    "`        loss.backward()`  \n",
    "`        w.data = w.data - lr * w.grad.data`  \n",
    "`        b.data = b.data - lr * b.grad.data`  \n",
    "`        w.grad.data.zero_()`  \n",
    "`        b.grad.data.zero_()`  \n",
    "`        # Create a list with the cost per iteration`  \n",
    "`        cost[epoch] = loss.item()`  \n",
    "`    plt.plot( list(cost.keys()), list(cost.values()) )`  \n",
    "`    plt.xlabel('Epoch Number')`  \n",
    "`    plt.ylabel('Cost')`  \n",
    "`    plt.xticks(range(epochs))`  \n",
    "`    print( 'w: ', w, 'b: ',b)`  \n",
    "` `  \n",
    "`# Initialice parameters`  \n",
    "`w = torch.tensor(w_0, requires_grad = True)`  \n",
    "`b = torch.tensor(b_0, requires_grad = True)`  \n",
    "` `  \n",
    "`# Train model`  \n",
    "`train_model_BGD(iter, lr)`  \n",
    "  \n",
    "You may optimize the train_model_SGD function with a dataloader. Supose you have object data from a Dataset subclass of lenght $n$ instead of just two tensors. Use the following code:\n",
    "  \n",
    "`from torch.utils.data import Dataset, DataLoader`  \n",
    "`data = Data()`  \n",
    "`# batch_size = n as we are doing BGD`  \n",
    "`trainloader = Dataloader(dataset = data, batch_size = n )`  \n",
    "`# Define an empty dictionary in order to store cost per epoch`   \n",
    "`cost = {}`  \n",
    "`# Do gradient descent in order to estimate parameters`  \n",
    "`for epoch in range(epochs):`  \n",
    "`    for x,y in trainloader:`  \n",
    "`        yhat = forward(x)`  \n",
    "`        loss = criterion(yhat, y)`  \n",
    "`        loss.backward()`  \n",
    "`        w.data = w.data - lr * w.grad.data`  \n",
    "`        b.data = b.data - lr * b.grad.data`  \n",
    "`        w.grad.data.zero_()`  \n",
    "`        b.grad.data.zero_()`  \n",
    "`        cost[epoch] = loss.item()`  \n",
    "\n",
    "  \n",
    "**Stochastic Gradient Descent**  \n",
    "In gradient descent we use all the elements of the sample and solve one optimization problem in order to go through all the data (epoch). Nevertheless, it's possible to minimice the loss function  sample by sample randomly taken and solve $n$ optimization problems in order to go through all the data (epoch) minimice the sum or average cost. This is the way it works on **stochastic gradient descent**. We use this when we have lots of data, so menay that it's not feasable to solve just one optimization problem. Since we are considering just one example at a time the cost will fluctuate over the training examples and it will not necessarily decrease. But in the long run, you will see the cost decreasing with fluctuations. Also because the cost is so fluctuating, it will never reach the minima but it will keep dancing around it.\n",
    "\n",
    "In order to estimate the parameters $w,b$ of a simple linear regression model $\\hat{y} = wx + b + \\epsilon$ using stochastic gradient descent, given an object data from a Dataset subclass of lenght $n$ for certain epochs and a learning rate lr, use the following code and with initial values w_0 and b_0: \n",
    "  \n",
    "`# Define froward fuction`  \n",
    "`def forward(x):`  \n",
    "`    return w*x + b`  \n",
    "` `  \n",
    "`# Define MSE loss function`  \n",
    "`def criterion(yhat, y):`  \n",
    "`    return torch.mean((y - yhat)**2)`  \n",
    "` `  \n",
    "`# Define training function with Stochstic Gradient Descent.`  \n",
    "`def train_model_SGD(epochs, lr):`  \n",
    "`    '''`  \n",
    "`    epochs: Epochs to execute. This we'll make epochs*n number of iterations where n is the data set number of samples in order to complete one epoch.`  \n",
    "`    lr: Learning rate`  \n",
    "`    '''`  \n",
    "`    # Define an empty dictionary in order to store cost per epoch`  \n",
    "`    cost = {}`  \n",
    "`    # Do gradient descent for batches in order to estimate parameters`  \n",
    "`    for epoch in range(epochs):`  \n",
    "`        for x,y in trainloader:`  \n",
    "`            yhat = forward(x)`  \n",
    "`            loss = criterion(yhat, y)`  \n",
    "`            loss.backward()`  \n",
    "`            w.data = w.data - lr * w.grad.data`  \n",
    "`            b.data = b.data - lr * b.grad.data`  \n",
    "`            w.grad.data.zero_()`  \n",
    "`            b.grad.data.zero_()`  \n",
    "`            cost[epoch] = loss.item()`  \n",
    "`    plt.plot( list(cost.keys()), list(cost.values()) )`  \n",
    "`    plt.xlabel('Epoch Number')`  \n",
    "`    plt.ylabel('Cost')`  \n",
    "`    plt.xticks(range(epochs))`  \n",
    "`    print( 'w: ', w, 'b: ',b)`  \n",
    "` `\n",
    "`dataset = Data(length = n)`  \n",
    "`# batch_size = 1 as we ares doing SGD`  \n",
    "`trainloader = DataLoader(dataset = dataset, batch_size = 1)`  \n",
    "` `  \n",
    "`# Initialice parameters`  \n",
    "`w = torch.tensor(-10.0, requires_grad = True)`  \n",
    "`b = torch.tensor(10.0, requires_grad = True)`  \n",
    "` `  \n",
    "`# Train model`  \n",
    "`train_model_SGD(10, 0.1)`  \n",
    "\n",
    "  \n",
    "**Mini Batch Gradient Descent**  \n",
    "In graient descent we use all of the elements of the sample solving one optimization problem in order to go through all the data (epoch) and in stochastic gradient descent we go sample by sample solving $n$ optimzation problems in order to go through all the data (epoch). Nevertheless, it's possible to consider a batch size $bs$ such that $1<bs<n$ and solve $\\frac{n}{bs}$ optimization problems in order in order to go through all the data (epoch) and minimice the sum or average cost. $bs$ will be treated as a hyperparameter. This is the way it works on **mini batch gradient descent**. It's computanionally expensive but less than stochastic gradient descent and makes it possible to solve the problem. Since we are considering just one example at a time the cost will fluctuate over the training examples and it will not necessarily decrease. But in the long run, you will see the cost decreasing with fluctuations. Also because the cost is so fluctuating, it will never reach the minima but it will keep dancing around it.\n",
    "\n",
    "In order to estimate the parameters $w,b$ of a simple linear regression model $\\hat{y} = wx + b + \\epsilon$ using mini-batch gradient descent, given an object data from a Dataset subclass of lenght $n$ for certain epochs and a learning rate lr, use the following code and with initial values w_0 and b_0: \n",
    "  \n",
    "`# Define froward fuction`  \n",
    "`def forward(x):`  \n",
    "`    return w*x + b`  \n",
    "` `  \n",
    "`# Define MSE loss function`  \n",
    "`def criterion(yhat, y):`  \n",
    "`    return torch.mean((y - yhat)**2)`  \n",
    "` `\n",
    "`# Define training function with Stochstic Gradient Descent`  \n",
    "`def train_model_MBGD(epochs, lr):`  \n",
    "`    '''`  \n",
    "`    epochs: Epochs to execute. This we'll make epochs*n number of iterations where n is the data set number of samples in order to complete one epoch.`  \n",
    "`    lr: Learning rate`  \n",
    "`    '''`  \n",
    "`    # Define an empty dictionary in order to store cost per epoch`  \n",
    "`    cost = {}`  \n",
    "`    # Do for batches gradient descent in order to estimate parameters`  \n",
    "`    for epoch in range(epochs):`  \n",
    "`        for x,y in trainloader:`  \n",
    "`            yhat = forward(x)`  \n",
    "`            loss = criterion(yhat, y)`  \n",
    "`            loss.backward()`  \n",
    "`            w.data = w.data - lr * w.grad.data`  \n",
    "`            b.data = b.data - lr * b.grad.data`  \n",
    "`            w.grad.data.zero_()`  \n",
    "`            b.grad.data.zero_()`  \n",
    "`            cost[epoch] = loss.item()`  \n",
    "`    plt.plot( list(cost.keys()), list(cost.values()) )`  \n",
    "`    plt.xlabel('Epoch Number')`  \n",
    "`    plt.ylabel('Cost')`  \n",
    "`    plt.xticks(range(epochs))`  \n",
    "`    print( 'w: ', w, 'b: ',b)`  \n",
    "` `  \n",
    "`dataset = Data(length = n)`  \n",
    "`# batch_size = 1 as we ares doing SGD`  \n",
    "`trainloader = DataLoader(dataset = dataset, batch_size = 1)`  \n",
    "` `  \n",
    "`# Initialice parameters`  \n",
    "`w = torch.tensor(-10.0, requires_grad = True)`  \n",
    "`b = torch.tensor(10.0, requires_grad = True)`  \n",
    "` `  \n",
    "`# Train model`  \n",
    "`train_model_SGD(10, 0.1)`  \n",
    "\n",
    "Actually you could indistictly use any trainig function as long  as you update the DataLoader object parameter batch_size:\n",
    "* $n$ for BGD\n",
    "* 1 for SGD\n",
    "* $bd$ for MBGD\n",
    "\n",
    "  \n",
    "**Epoch**  \n",
    "Each time we go through the data we call it an epoch. We might go several times through the data in order to train the mode because the parameters get updated per interation.\n",
    "  \n",
    "Supose we have a data set with $n$ samples of $m$ variables.\n",
    "* Batch Gradient Descent: As we use the enitre data set in order to optimize hte cost function, we do one iteration per epoch.\n",
    "* Stochastic Gradient Descent: As we use one sample of the data set, one by one, to optimize the cost function, we do $n$ iterations per epoch.\n",
    "* Mini Batch Gradient Descent: As we use $bs$ samples in order to optimize the cost function, we do $\\frac{n}{bs}$ iterations per epoch."
   ]
  },
  {
   "cell_type": "markdown",
   "id": "da1b1b47-efb1-401b-a1a1-5323adb5b28b",
   "metadata": {},
   "source": [
    "Let's train a simple linear regression model using **Batch Gradient Descent** with no DataLoader object but just two tensors. "
   ]
  },
  {
   "cell_type": "code",
   "execution_count": 154,
   "id": "01a1ba1b-3d3d-4dfa-be4a-cf47621ed532",
   "metadata": {},
   "outputs": [],
   "source": [
    "# Define froward fuction\n",
    "def forward(x):\n",
    "    return w*x + b \n",
    "\n",
    "# Define MSE loss function\n",
    "def criterion(yhat, y):\n",
    "    return torch.mean((y - yhat)**2)\n",
    "\n",
    "# Define training function with Batch Gradient Descent\n",
    "def train_model_BGD(epochs, lr):\n",
    "    '''\n",
    "    epochs: Epochs to execute. As we are making Batch Gradient Descent, we'll make 1 iteration in order to complete one epoch.\n",
    "    lr: Learning rate\n",
    "    '''\n",
    "    # Define an empty dictionary in order to store MSE per iteration\n",
    "    cost = {}\n",
    "    # Do gradient descent in order to estimate parameters\n",
    "    for epoch in range(epochs):\n",
    "        yhat = forward(x)\n",
    "        loss = criterion(yhat, y)\n",
    "        loss.backward()\n",
    "        w.data = w.data - lr * w.grad.data\n",
    "        b.data = b.data - lr * b.grad.data\n",
    "        w.grad.data.zero_()\n",
    "        b.grad.data.zero_()\n",
    "        # Create a list with the MSE per iteration\n",
    "        cost[epoch] = loss.item()\n",
    "    plt.plot( list(cost.keys()), list(cost.values()) )\n",
    "    plt.xlabel('Epoch Number')\n",
    "    plt.ylabel('Cost')\n",
    "    plt.xticks(range(epochs))\n",
    "    print( 'w: ', w, 'b: ',b)"
   ]
  },
  {
   "cell_type": "code",
   "execution_count": 155,
   "id": "32d7f477-924d-4a9d-b3fa-a4225c242cd0",
   "metadata": {},
   "outputs": [
    {
     "name": "stdout",
     "output_type": "stream",
     "text": [
      "w:  tensor(-3.0114, requires_grad=True) b:  tensor(4.8330, requires_grad=True)\n"
     ]
    },
    {
     "data": {
      "image/png": "[encoded data removed]",
      "text/plain": [
       "<Figure size 640x480 with 1 Axes>"
      ]
     },
     "metadata": {},
     "output_type": "display_data"
    }
   ],
   "source": [
    "# Create some toy data \n",
    "x = torch.arange(-3,3,0.1).view(-1,1)\n",
    "y = -3*x + 5\n",
    "y = y + 0.1*torch.randn(x.size())\n",
    "# Initialice parameters\n",
    "w = torch.tensor(-10.0, requires_grad = True)\n",
    "b = torch.tensor(-10.0, requires_grad = True)\n",
    "# Train model\n",
    "train_model_BGD(epochs = 20,  lr = 0.1)"
   ]
  },
  {
   "cell_type": "markdown",
   "id": "51819265-58bf-415b-b9cc-d31e716dcd49",
   "metadata": {},
   "source": [
    "Let's train a simple linear regression model using **Stochastic Gradient Descent** using a DataLoader object. "
   ]
  },
  {
   "cell_type": "code",
   "execution_count": 156,
   "id": "58fc46e6-7fd3-4d91-961b-0e111668e824",
   "metadata": {},
   "outputs": [],
   "source": [
    "# Define froward fuction\n",
    "def forward(x):\n",
    "    return w*x + b\n",
    "  \n",
    "# Define MSE loss function\n",
    "def criterion(yhat, y):\n",
    "    return torch.mean((y - yhat)**2)\n",
    "  \n",
    "# Define training function with Stochstic Gradient Descent\n",
    "def train_model_SGD(epochs, lr):\n",
    "    '''\n",
    "    epochs: Epochs to execute. This we'll make epochs*n number of iterations where n is the data set number of samples in order to complete one epoch.`  \n",
    "    lr: Learning rate`  \n",
    "    '''\n",
    "    # Define an empty dictionary in order to store cost per epoch\n",
    "    cost = {}\n",
    "    # Do gradient descent for batches in order to estimate parameters\n",
    "    for epoch in range(epochs):\n",
    "        for x,y in trainloader:\n",
    "            yhat = forward(x)\n",
    "            loss = criterion(yhat, y)\n",
    "            loss.backward()\n",
    "            w.data = w.data - lr * w.grad.data \n",
    "            b.data = b.data - lr * b.grad.data\n",
    "            w.grad.data.zero_()\n",
    "            b.grad.data.zero_()\n",
    "            cost[epoch] = loss.item()\n",
    "    plt.plot( list(cost.keys()), list(cost.values()) )\n",
    "    plt.xlabel('Epoch Number')\n",
    "    plt.ylabel('Cost') \n",
    "    plt.xticks(range(epochs))\n",
    "    print( 'w: ', w, 'b: ',b)"
   ]
  },
  {
   "cell_type": "code",
   "execution_count": 157,
   "id": "0acdc0e8-a036-42cd-a320-2755a3301a61",
   "metadata": {},
   "outputs": [],
   "source": [
    "# Create Dataset and DataLoader\n",
    "from torch.utils.data import Dataset, DataLoader\n",
    "class Data(Dataset):\n",
    "    \n",
    "    # Constructor\n",
    "    def __init__(self):\n",
    "        self.x = torch.arange(-3, 3, 0.1).view(-1, 1)\n",
    "        self.y = 1 * X - 1\n",
    "        self.len = self.x.shape[0]\n",
    "        \n",
    "    # Getter\n",
    "    def __getitem__(self, index):    \n",
    "        return self.x[index], self.y[index]\n",
    "    \n",
    "    # Get length\n",
    "    def __len__(self):\n",
    "        return self.len\n",
    "dataset = Data()\n",
    "# batch_size = 1 as we ares doing SGD\n",
    "trainloader = DataLoader(dataset = dataset, batch_size = 1)"
   ]
  },
  {
   "cell_type": "code",
   "execution_count": 158,
   "id": "74d34f41-cb20-4f66-bd68-1d3534f91f48",
   "metadata": {},
   "outputs": [
    {
     "name": "stdout",
     "output_type": "stream",
     "text": [
      "w:  tensor(0.9978, requires_grad=True) b:  tensor(-0.9937, requires_grad=True)\n"
     ]
    },
    {
     "data": {
      "image/png": "[encoded data removed]",
      "text/plain": [
       "<Figure size 640x480 with 1 Axes>"
      ]
     },
     "metadata": {},
     "output_type": "display_data"
    }
   ],
   "source": [
    "# Initialice parameters\n",
    "w = torch.tensor(-10.0, requires_grad = True)\n",
    "b = torch.tensor(10.0, requires_grad = True)\n",
    "  \n",
    "# Train model\n",
    "train_model_SGD(10, 0.1)"
   ]
  },
  {
   "cell_type": "markdown",
   "id": "7195ff8b-bb64-4825-aa71-edb5d8b26fa4",
   "metadata": {},
   "source": [
    "Let's train a simple linear regression model using **Mini Batch Gradient Descent** using a DataLoader object."
   ]
  },
  {
   "cell_type": "code",
   "execution_count": 159,
   "id": "d24147e2-3b1a-453a-9e35-0dcad2904054",
   "metadata": {},
   "outputs": [],
   "source": [
    "# Define froward fuction\n",
    "def forward(x):\n",
    "    return w*x + b\n",
    "  \n",
    "# Define MSE loss function\n",
    "def criterion(yhat, y):\n",
    "    return torch.mean((y - yhat)**2)\n",
    "  \n",
    "# Define training function with Stochstic Gradient Descent\n",
    "def train_model_MBGD(epochs, lr):\n",
    "    '''\n",
    "    epochs: Epochs to execute. This we'll make epochs*n number of iterations where n is the data set number of samples in order to complete one epoch.`  \n",
    "    lr: Learning rate`  \n",
    "    '''\n",
    "    # Define an empty dictionary in order to store cost per epoch\n",
    "    cost = {}\n",
    "    # Do for batches gradient descent in order to estimate parameters\n",
    "    for epoch in range(epochs):\n",
    "        for x,y in trainloader:\n",
    "            yhat = forward(x)\n",
    "            loss = criterion(yhat, y)\n",
    "            loss.backward()\n",
    "            w.data = w.data - lr * w.grad.data \n",
    "            b.data = b.data - lr * b.grad.data\n",
    "            w.grad.data.zero_()\n",
    "            b.grad.data.zero_()\n",
    "            cost[epoch] = loss.item()\n",
    "    plt.plot( list(cost.keys()), list(cost.values()) )\n",
    "    plt.xlabel('Epoch Number')\n",
    "    plt.ylabel('Cost') \n",
    "    plt.xticks(range(epochs))\n",
    "    print( 'w: ', w, 'b: ',b)"
   ]
  },
  {
   "cell_type": "code",
   "execution_count": 171,
   "id": "93de8a02-1aeb-4917-aa4a-6786a3cb5eb1",
   "metadata": {},
   "outputs": [],
   "source": [
    "# Create Dataset and DataLoader\n",
    "from torch.utils.data import Dataset, DataLoader\n",
    "class Data(Dataset):\n",
    "    \n",
    "    # Constructor\n",
    "    def __init__(self):\n",
    "        self.x = torch.arange(-3, 3, 0.1).view(-1, 1)\n",
    "        self.y = -1 * X - 1\n",
    "        self.len = self.x.shape[0]\n",
    "        \n",
    "    # Getter\n",
    "    def __getitem__(self, index):    \n",
    "        return self.x[index], self.y[index]\n",
    "    \n",
    "    # Get length\n",
    "    def __len__(self):\n",
    "        return self.len\n",
    "dataset = Data()\n",
    "# batch_size = bs as we are doing MBGD \n",
    "trainloader = DataLoader(dataset = dataset, batch_size = 10)"
   ]
  },
  {
   "cell_type": "code",
   "execution_count": 172,
   "id": "90a5d8b7-9d71-4206-b34f-c2a29c8fb340",
   "metadata": {},
   "outputs": [
    {
     "name": "stdout",
     "output_type": "stream",
     "text": [
      "w:  tensor(-2.9609, requires_grad=True) b:  tensor(-3.4042, requires_grad=True)\n"
     ]
    },
    {
     "data": {
      "image/png": "[encoded data removed]",
      "text/plain": [
       "<Figure size 640x480 with 1 Axes>"
      ]
     },
     "metadata": {},
     "output_type": "display_data"
    }
   ],
   "source": [
    "# Initialice parameters\n",
    "w = torch.tensor(-10.0, requires_grad = True)\n",
    "b = torch.tensor(10.0, requires_grad = True)\n",
    "# Train model\n",
    "train_model_SGD(10, 0.1)"
   ]
  },
  {
   "cell_type": "markdown",
   "id": "e317ca40-96fd-46da-9be6-40c045aadf65",
   "metadata": {},
   "source": [
    "**torch.optim module**  \n",
    "To use torch.optim you have to construct an optimizer object that will hold the current state and will update the parameters based on the computed gradients. Use the folowing syntax:  \n",
    "`optimizer = optim.ALG(model.parameters(), lr = lr)`  \n",
    "Where:  \n",
    "\n",
    "* `ALG` is the code word of the algorithm in order to execute. The following are available:\n",
    "    * `Adadelta`: Implements Adadelta algorithm.\n",
    "    * `Adagrad`: Implements Adagrad algorithm.\n",
    "    * `Adam`: Implements Adam algorithm.\n",
    "    * `AdamW`: Implements AdamW algorithm.\n",
    "    * `SparseAdam`: SparseAdam implements a masked version of the Adam algorithm suitable for sparse gradients.\n",
    "    * `Adamax`: Implements Adamax algorithm (a variant of Adam based on infinity norm).\n",
    "    * `ASGD`: Implements Averaged Stochastic Gradient Descent.\n",
    "    * `LBFGS`: Implements L-BFGS algorithm.\n",
    "    * `NAdam`: Implements NAdam algorithm.\n",
    "    * `RAdam`: Implements RAdam algorithm.\n",
    "    * `RMSprop`: Implements RMSprop algorithm.\n",
    "    * `Rprop`: Implements the resilient backpropagation algorithm.\n",
    "    * `SGD`: Implements stochastic gradient descent (optionally with momentum).\n",
    "* `model.parameters()` are the model parameters specified on a object model as an instanciated object of a nn.module class.\n",
    "* `lr` is the learning rate.\n",
    "There may be some algorithms that require more parameters.\n",
    "  \n",
    "The PyTorch Optimizer is one of the standard ways to perform the different varitions of gradient descent in PyTorch. In order to use it for a dataset subclass with $n$ elements and $m$ variables and it's respective DataLoader named trainloader wich specifies some batch_size, a subclass of the nn.module, a loss function criterion and and epochs_number of epochs use the following steps and code:\n",
    "\n",
    "1. Create a Dataset object\n",
    "2. Create a criterion from nn.module\n",
    "3. Crete a DataLoader object\n",
    "4. Create a model as an instanciated object of a nn.module class. \n",
    "5. Create an optimizer object from torch.optim as follows.\n",
    "`from torch import optim`\n",
    "`optimizer = optim.ALG(model.parameters(), lr = lr)`\n",
    "6. Train the model.\n",
    "`for epoch in range(epochs_number):`  \n",
    "`    for x,y in trainloader:`  \n",
    "`        yhat = model(x)`  \n",
    "`        loss = criterion(yhat, y)`  \n",
    "`        optimizer.zero_grad()`  \n",
    "`        loss.backward()`  \n",
    "`        optimizer.step()`  \n",
    "  \n",
    "In order to display and update the learnamble parameters of the optimizer use the following code:\n",
    "`optimizaer.state_dict()`"
   ]
  },
  {
   "cell_type": "markdown",
   "id": "bd322837-0f03-45fd-b5b9-2fd256006d01",
   "metadata": {},
   "source": [
    "## The standard modeling process\n",
    "0. Import required tools\n",
    "1. Create a dataset object.\n",
    "2. Create a criterion from nn.module\n",
    "3. Create a model as an instanciated object of a nn.module class. \n",
    "4. Crete a DataLoader object\n",
    "5. Create a model\n",
    "8. Create an optimizer object from optim\n",
    "9. Train the model\n",
    "10. Make evaluations\n",
    "11. Tune Hyperparameters\n",
    "12. Make predictions "
   ]
  },
  {
   "cell_type": "markdown",
   "id": "c31b350d-3da6-49d2-bd57-691e08045059",
   "metadata": {},
   "source": []
  },
  {
   "cell_type": "markdown",
   "id": "ed04151f-bb97-45e0-9fe8-a7099fa79824",
   "metadata": {},
   "source": []
  },
  {
   "cell_type": "code",
   "execution_count": null,
   "id": "a539b131-aef8-484f-939f-0b077999e24b",
   "metadata": {},
   "outputs": [],
   "source": []
  },
  {
   "cell_type": "code",
   "execution_count": null,
   "id": "308c7aa9-3ade-48b8-a371-1edcef6a613a",
   "metadata": {},
   "outputs": [],
   "source": []
  },
  {
   "cell_type": "code",
   "execution_count": null,
   "id": "25277520-3e08-4d4d-9737-1e77130c607d",
   "metadata": {},
   "outputs": [],
   "source": []
  },
  {
   "cell_type": "code",
   "execution_count": null,
   "id": "167e489b-e7a3-43cd-90d3-64d0d8f59a51",
   "metadata": {},
   "outputs": [],
   "source": []
  },
  {
   "cell_type": "code",
   "execution_count": null,
   "id": "a644f8be-6675-4212-a15c-5580ca261f49",
   "metadata": {},
   "outputs": [],
   "source": []
  },
  {
   "cell_type": "code",
   "execution_count": null,
   "id": "808b1210-416d-4d6f-8f0c-d2ef569497d7",
   "metadata": {},
   "outputs": [],
   "source": []
  },
  {
   "cell_type": "markdown",
   "id": "ca7714e5-edf1-445b-817f-32873e0c24bb",
   "metadata": {},
   "source": [
    "## Training, test and validation data sets\n",
    "\n",
    "In order to tune and evaluate the model  we'll split the dataset into a three parts:\n",
    "\n",
    "* Traning data  \n",
    "The part pf the dataset used in order to train the model. \n",
    "* Validation data  \n",
    "The part of teh dataset used in order to find the best hyperparameters.\n",
    "* Test data  \n",
    "The part of the data used in order to evaluate the model performance.\n",
    "\n",
    "The next steps have to be followed:\n",
    "1. Train a model with different hyperparameters with the training data.  \n",
    "2. Evaluate the validation data into the models.\n",
    "3. Select the model with minimum cost.\n",
    "4. See how the model with perform on real world application by evaluatingthe test data. WTF do I do with the test data then? Why can I just tune the hyperparameters with the test data and have just to splits?\n",
    "5. Train the model with all of the data. \n",
    "  \n",
    "In order to do so use the following code:\n",
    "\n",
    "\n",
    "\n"
   ]
  },
  {
   "cell_type": "markdown",
   "id": "a24f2eec-a98f-47a8-83d4-d0c5f5944e8c",
   "metadata": {},
   "source": [
    "In order to exemplify, we'll use the following dummy data."
   ]
  },
  {
   "cell_type": "code",
   "execution_count": 24,
   "id": "6ce4d7ed-e111-4ac1-be35-9272c98f6cda",
   "metadata": {},
   "outputs": [],
   "source": [
    "# Import required tools\n",
    "from torch import nn\n",
    "from torch.utils.data import Dataset, DataLoader\n",
    "from torch import optim"
   ]
  },
  {
   "cell_type": "code",
   "execution_count": 48,
   "id": "92094376-7eb2-40fa-a9dd-955e852345e2",
   "metadata": {},
   "outputs": [
    {
     "data": {
      "image/png": "[encoded data removed]",
      "text/plain": [
       "<Figure size 640x480 with 1 Axes>"
      ]
     },
     "metadata": {},
     "output_type": "display_data"
    }
   ],
   "source": [
    "## Create Datset object\n",
    "\n",
    "# Create Dataset subclass\n",
    "class Data(Dataset):\n",
    "    \n",
    "    # Constructor\n",
    "    def __init__(self, train = True):\n",
    "            self.x = torch.arange(-3, 3, 0.1).view(-1, 1)\n",
    "            self.f = -3 * self.x + 1\n",
    "            self.y = self.f + 0.1 * torch.randn(self.x.size())\n",
    "            self.len = self.x.shape[0]\n",
    "            # Outliers for validation data \n",
    "            if train == True:\n",
    "                self.y[0] = 0\n",
    "                self.y[50:55] = 20\n",
    "            else:\n",
    "                pass\n",
    "      \n",
    "    # Getter\n",
    "    def __getitem__(self, index):    \n",
    "        return self.x[index], self.y[index]\n",
    "    \n",
    "    # Get Length\n",
    "    def __len__(self):\n",
    "        return self.len\n",
    "# Create training data object\n",
    "train_data = Data(train = True)\n",
    "# Create validation data object\n",
    "val_data = Data(train = False)\n",
    "\n",
    "# Plot the data\n",
    "plt.plot(train_data.x.numpy(), train_data.y.numpy(), 'xr',label = \" training data \")\n",
    "plt.plot(train_data.x.numpy(), train_data.f.numpy(),label = \"$y = f(x)$\")\n",
    "plt.xlabel('x')\n",
    "plt.ylabel('y')\n",
    "plt.legend()\n",
    "plt.show()"
   ]
  },
  {
   "cell_type": "code",
   "execution_count": 49,
   "id": "6e09913c-111a-439e-925f-b9aeccb1707c",
   "metadata": {},
   "outputs": [],
   "source": [
    "## Create criterion loss function\n",
    "criterion = nn.MSELoss()"
   ]
  },
  {
   "cell_type": "code",
   "execution_count": 50,
   "id": "1efd3fe1-51cb-4414-acae-bf502065c1e6",
   "metadata": {},
   "outputs": [],
   "source": [
    "## Create nn.module custom class\n",
    "class linear_regression(nn.Module):\n",
    "    \n",
    "    # Constructor\n",
    "    def __init__(self, input_size, output_size):\n",
    "        super(linear_regression, self).__init__()\n",
    "        self.linear = nn.Linear(input_size, output_size)\n",
    "    \n",
    "    # Prediction function\n",
    "    def forward(self, x):\n",
    "        yhat = self.linear(x)\n",
    "        return yhat"
   ]
  },
  {
   "cell_type": "code",
   "execution_count": 51,
   "id": "a32a1e20-f232-4787-a92c-0eb6d69ba15f",
   "metadata": {},
   "outputs": [],
   "source": [
    "## Create Dataloader object\n",
    "trainloader = DataLoader(dataset = train_data, batch_size = 1)\n",
    "# batch_size = 1 as we're using SGD"
   ]
  },
  {
   "cell_type": "code",
   "execution_count": 52,
   "id": "a983b8cf-9a5f-4ce6-b716-a732a828d95e",
   "metadata": {},
   "outputs": [],
   "source": [
    "# Create learning rate Rate list, the error lists and models list\n",
    "learning_rates=[0.0001, 0.001, 0.01, 0.1]\n",
    "\n",
    "train_error=torch.zeros(len(learning_rates))\n",
    "validation_error=torch.zeros(len(learning_rates))\n",
    "\n",
    "models=[]"
   ]
  },
  {
   "cell_type": "code",
   "execution_count": 55,
   "id": "bbb88a50-78b6-46da-8812-dc6928e48bb7",
   "metadata": {},
   "outputs": [],
   "source": [
    "## Use the validation dataset in order to get the best learning rate\n",
    "# Define the train model function\n",
    "def train_model_with_lr (iter, lr_list):\n",
    "    \n",
    "    # iterate through different learning rates \n",
    "    for i, lr in enumerate(lr_list):\n",
    "        model = linear_regression(1, 1)\n",
    "        optimizer = optim.SGD(model.parameters(), lr = lr)\n",
    "        for epoch in range(iter):\n",
    "            for x, y in trainloader:\n",
    "                yhat = model(x)\n",
    "                loss = criterion(yhat, y)\n",
    "                optimizer.zero_grad()\n",
    "                loss.backward()\n",
    "                optimizer.step()\n",
    "                \n",
    "        # train data\n",
    "        Yhat = model(train_data.x)\n",
    "        train_loss = criterion(Yhat, train_data.y)\n",
    "        train_error[i] = train_loss.item()\n",
    "    \n",
    "        # validation data\n",
    "        Yhat = model(val_data.x)\n",
    "        val_loss = criterion(Yhat, val_data.y)\n",
    "        validation_error[i] = val_loss.item()\n",
    "        models.append(model)\n",
    "        \n",
    "# Train the model for several learning rates and store the results in the previiews inicialiced lists\n",
    "train_model_with_lr(10, learning_rates)"
   ]
  },
  {
   "cell_type": "code",
   "execution_count": 56,
   "id": "9ba1839a-fe8f-4606-8cbc-b6ece6590bd3",
   "metadata": {},
   "outputs": [
    {
     "data": {
      "image/png": "[encoded data removed]",
      "text/plain": [
       "<Figure size 640x480 with 1 Axes>"
      ]
     },
     "metadata": {},
     "output_type": "display_data"
    }
   ],
   "source": [
    "# Plot training loss and validation loss per learning rate\n",
    "plt.semilogx(np.array(learning_rates), train_error.numpy(), label = 'Training data total cost')\n",
    "plt.semilogx(np.array(learning_rates), validation_error.numpy(), label = 'Validation data total cost')\n",
    "plt.ylabel('Cost')\n",
    "plt.xlabel('Learning rate')\n",
    "plt.legend()\n",
    "plt.show()"
   ]
  },
  {
   "cell_type": "code",
   "execution_count": 58,
   "id": "8a8393c6-e2f3-40df-aa25-abe2e23c6191",
   "metadata": {},
   "outputs": [
    {
     "name": "stdout",
     "output_type": "stream",
     "text": [
      "0 [[1.250359 ]\n",
      " [1.236463 ]\n",
      " [1.2225668]]\n",
      "1 [[5.9228363]\n",
      " [5.8026257]\n",
      " [5.682415 ]]\n",
      "2 [[6.6657124]\n",
      " [6.530034 ]\n",
      " [6.394356 ]]\n",
      "3 [[14.05969  ]\n",
      " [13.6399555]\n",
      " [13.220217 ]]\n"
     ]
    },
    {
     "data": {
      "image/png": "[encoded data removed]",
      "text/plain": [
       "<Figure size 640x480 with 1 Axes>"
      ]
     },
     "metadata": {},
     "output_type": "display_data"
    }
   ],
   "source": [
    "# Plot the predictions\n",
    "\n",
    "i = 0\n",
    "for model, learning_rate in zip(models, learning_rates):\n",
    "    yhat = model(val_data.x)\n",
    "    plt.plot(val_data.x.numpy(), yhat.detach().numpy(), label = 'lr:' + str(learning_rate))\n",
    "    print(i, yhat.detach().numpy()[0:3])\n",
    "    i+=1\n",
    "plt.plot(val_data.x.numpy(), val_data.f.numpy(), 'or', label = 'validation data')\n",
    "plt.xlabel('x')\n",
    "plt.ylabel('y')\n",
    "plt.legend()\n",
    "plt.show()\n",
    "# Choose the larning rate that minimices the cost for validation data\n",
    "\n",
    "## Dummy example\n",
    "# In this case note that validation data \n",
    "# is actually the data corresponds exactly \n",
    "# with that generated from the function we're trying to estimate"
   ]
  },
  {
   "cell_type": "markdown",
   "id": "772039f8-ddbb-46c8-8f50-046d9b28775b",
   "metadata": {},
   "source": [
    "## Cross Validation\n",
    "The splits are done randomly and there might be some bias because the way this get done. So we usually proceed with cross validation. \n",
    " \n",
    "In order to do so use the following code:\n"
   ]
  },
  {
   "cell_type": "markdown",
   "id": "79d2d65b-1b5b-4d71-8ff5-946e85a55a90",
   "metadata": {},
   "source": [
    "## Save the model"
   ]
  },
  {
   "cell_type": "markdown",
   "id": "7abdbd0b-30b4-40c8-a2ee-300585956cbd",
   "metadata": {},
   "source": [
    "### Early Stopping\n",
    "Early stopping is used to prevent overfitting by deciding when to stop training the model. We'll train the model with the train data and calculate the cost for each epoch on the validtion data in order to evaluate it. Per epoch, the model will update it's parameters. If the actual model yield to a better cost respect to the validation set than the previous best, we'll save it. This might get a better result than training the model till the last epoch. \n",
    "  \n",
    "In order to perfrom early stopping, use the following code:  \n"
   ]
  },
  {
   "cell_type": "markdown",
   "id": "3d896c8b-c4e9-44a8-91bb-0873ab61eb6b",
   "metadata": {},
   "source": [
    "1. Create a dataset object.\n",
    "2. Create a criterion from nn\n",
    "3. Create a model as an instanciated object of a nn.module class\n",
    "4. Create an optimizer object from optim\n",
    "5. Crete a DataLoader object\n",
    "6. Train the model"
   ]
  },
  {
   "cell_type": "code",
   "execution_count": 17,
   "id": "26dc1790-90ab-4f78-a834-a698c558b15e",
   "metadata": {},
   "outputs": [],
   "source": [
    "## Import required tools\n",
    "from torch import nn\n",
    "from torch.utils.data import Dataset, DataLoader\n",
    "from torch import optim"
   ]
  },
  {
   "cell_type": "code",
   "execution_count": 18,
   "id": "d42c95f9-75fe-423f-bbc4-2e9ed4be1c48",
   "metadata": {},
   "outputs": [
    {
     "data": {
      "image/png": "[encoded data removed]",
      "text/plain": [
       "<Figure size 640x480 with 1 Axes>"
      ]
     },
     "metadata": {},
     "output_type": "display_data"
    }
   ],
   "source": [
    "## Create a dataset object\n",
    "\n",
    "# Create Dataset subclass\n",
    "class Data(Dataset):\n",
    "    \n",
    "    # Constructor\n",
    "    def __init__(self, train = True):\n",
    "        if train == True:\n",
    "            self.x = torch.arange(-3, 3, 0.1).view(-1, 1)\n",
    "            self.f = -3 * self.x + 1\n",
    "            self.y = self.f + 0.1 * torch.randn(self.x.size())\n",
    "            self.len = self.x.shape[0]\n",
    "            if train == True:\n",
    "                self.y[50:] = 20\n",
    "        else:\n",
    "            self.x = torch.arange(-3, 3, 0.1).view(-1, 1)\n",
    "            self.y = -3 * self.x + 1\n",
    "            self.len = self.x.shape[0]\n",
    "            \n",
    "    # Getter\n",
    "    def __getitem__(self, index):    \n",
    "        return self.x[index], self.y[index]\n",
    "    \n",
    "    # Get Length\n",
    "    def __len__(self):\n",
    "        return self.len\n",
    "\n",
    "# Create Dataset object with tain data\n",
    "train_data = Data(train = True)\n",
    "# Create Dataset object with validation data\n",
    "val_data = Data(train = False)\n",
    "\n",
    "# Plot data\n",
    "plt.plot(train_data.x.numpy(), train_data.y.numpy(), 'xr', label = 'training data')\n",
    "plt.plot(val_data.x.numpy(), val_data.y.numpy(), label = 'validation data')\n",
    "plt.legend()\n",
    "plt.xlabel('x')\n",
    "plt.ylabel('y')\n",
    "plt.show()\n",
    "\n"
   ]
  },
  {
   "cell_type": "code",
   "execution_count": 19,
   "id": "9247a2cb-8d37-4619-ae68-00dc52c1c03f",
   "metadata": {},
   "outputs": [],
   "source": [
    "## Create a criterion from nn.module\n",
    "criterion = nn.MSELoss()"
   ]
  },
  {
   "cell_type": "code",
   "execution_count": 20,
   "id": "17e190a6-9df5-4e65-9753-54b7889c4f25",
   "metadata": {},
   "outputs": [],
   "source": [
    "## Create a model as an instanciated object of a nn.module class\n",
    "\n",
    "# Create a custom model subclass\n",
    "class linear_regression(nn.Module):\n",
    "    \n",
    "    # Constructor\n",
    "    def __init__(self, input_size, output_size):\n",
    "        super(linear_regression, self).__init__()\n",
    "        self.linear = nn.Linear(input_size, output_size)\n",
    "    \n",
    "    # Predition\n",
    "    def forward(self, x):\n",
    "        yhat = self.linear(x)\n",
    "        return yhat\n",
    "\n",
    "# Create model object\n",
    "model = linear_regression(1, 1)"
   ]
  },
  {
   "cell_type": "code",
   "execution_count": 21,
   "id": "3a9bd1e0-6b90-4e35-916f-58c19c231911",
   "metadata": {},
   "outputs": [],
   "source": [
    "## Crete a DataLoader object\n",
    "trainloader = DataLoader(dataset = train_data, batch_size = 1)\n",
    "# batch_size = 1 as we'll use SGD"
   ]
  },
  {
   "cell_type": "code",
   "execution_count": 22,
   "id": "5fc109de-9046-4a8e-860d-c70eb823b8ba",
   "metadata": {},
   "outputs": [],
   "source": [
    "## Create an optimizer object from optim\n",
    "optimizer = optim.SGD(model.parameters(), lr = 0.01)"
   ]
  },
  {
   "cell_type": "code",
   "execution_count": 23,
   "id": "a8e5ca59-0e81-4fdb-a07b-67dc37be205d",
   "metadata": {},
   "outputs": [],
   "source": [
    "## Train the model\n",
    "\n",
    "model_saving_path = 'checkpoints/best_model.pt'\n",
    "LOSS_TRAIN = []\n",
    "LOSS_VAL = []\n",
    "n = 1\n",
    "min_loss = 1000\n",
    "\n",
    "def train_model_early_stopping(epochs, min_loss):\n",
    "    for epoch in range(epochs):\n",
    "        for x, y in trainloader:\n",
    "            yhat = model(x)\n",
    "            loss = criterion(yhat, y)\n",
    "            optimizer.zero_grad()\n",
    "            loss.backward()\n",
    "            optimizer.step()\n",
    "            # Get ost per batch\n",
    "            loss_train = criterion(model(train_data.x), train_data.y).item()\n",
    "            loss_val = criterion(model(val_data.x), val_data.y).item()\n",
    "            LOSS_TRAIN.append(loss_train)\n",
    "            LOSS_VAL.append(loss_val)\n",
    "            if loss_val < min_loss:\n",
    "                value = epoch\n",
    "                min_loss = loss_val\n",
    "                torch.save(model.state_dict(), model_saving_path)\n",
    "\n",
    "train_model_early_stopping(20, min_loss)"
   ]
  },
  {
   "cell_type": "code",
   "execution_count": 24,
   "id": "78f630ba-8da1-451a-ab1d-42de237b3b94",
   "metadata": {},
   "outputs": [
    {
     "data": {
      "image/png": "[encoded data removed]",
      "text/plain": [
       "<Figure size 640x480 with 1 Axes>"
      ]
     },
     "metadata": {},
     "output_type": "display_data"
    }
   ],
   "source": [
    "plt.plot(LOSS_TRAIN, label = 'training cost')\n",
    "plt.plot(LOSS_VAL, label = 'validation cost')\n",
    "plt.xlabel(\"Iterations \")\n",
    "plt.ylabel(\"Cost\")\n",
    "plt.legend(loc = 'upper right')\n",
    "plt.show()"
   ]
  },
  {
   "cell_type": "code",
   "execution_count": 25,
   "id": "28cc9278-9fc2-41ba-a934-3bf038e82232",
   "metadata": {},
   "outputs": [],
   "source": [
    "# Create fresh model regression object\n",
    "model_best = linear_regression(1,1)"
   ]
  },
  {
   "cell_type": "code",
   "execution_count": 26,
   "id": "8f43601a-7755-4942-a395-fe0e7806ce62",
   "metadata": {},
   "outputs": [
    {
     "data": {
      "text/plain": [
       "<All keys matched successfully>"
      ]
     },
     "execution_count": 26,
     "metadata": {},
     "output_type": "execute_result"
    }
   ],
   "source": [
    "# Assign the best saved model to the fresh model\n",
    "model_best.load_state_dict(torch.load(model_saving_path))"
   ]
  },
  {
   "cell_type": "code",
   "execution_count": 27,
   "id": "a821a36a-3206-4dab-ba43-9207ee3b62a3",
   "metadata": {},
   "outputs": [
    {
     "data": {
      "image/png": "[encoded data removed]",
      "text/plain": [
       "<Figure size 640x480 with 1 Axes>"
      ]
     },
     "metadata": {},
     "output_type": "display_data"
    }
   ],
   "source": [
    "plt.plot(model_best(val_data.x).data.numpy(), label = 'best model')\n",
    "plt.plot(model(val_data.x).data.numpy(), label = 'maximum iterations')\n",
    "plt.plot(val_data.y.numpy(), 'rx', label = 'validation line')\n",
    "plt.legend()\n",
    "plt.show()"
   ]
  },
  {
   "cell_type": "code",
   "execution_count": null,
   "id": "277fcc45-ed68-4ff9-95a8-b9c7d57c4994",
   "metadata": {},
   "outputs": [],
   "source": []
  },
  {
   "cell_type": "code",
   "execution_count": null,
   "id": "fae7f497-72ff-4cd1-9aa8-6930dd3f0980",
   "metadata": {},
   "outputs": [],
   "source": []
  },
  {
   "cell_type": "markdown",
   "id": "59c37338-7165-47f9-86fd-516b08f36e1a",
   "metadata": {},
   "source": [
    "### Checkpoints\n",
    "Sometimes, during training, we need to stop and resart where we left of. In order to do this, we save the state of the model, the state of the optimizer, the epochs, and loss in a checkpoint dictionary. Then load those, and resume the training. \n",
    "  \n",
    "In order to do so, use the following code:  \n"
   ]
  },
  {
   "cell_type": "code",
   "execution_count": 28,
   "id": "2f5e5b48-5009-45d2-aa13-42485f04ba01",
   "metadata": {},
   "outputs": [],
   "source": [
    "## Import required tools\n",
    "from torch import nn\n",
    "from torch.utils.data import Dataset, DataLoader\n",
    "from torch import optim"
   ]
  },
  {
   "cell_type": "code",
   "execution_count": 29,
   "id": "5497b458-a8de-41ce-a721-dd2db0e786d0",
   "metadata": {},
   "outputs": [
    {
     "data": {
      "image/png": "[encoded data removed]",
      "text/plain": [
       "<Figure size 640x480 with 1 Axes>"
      ]
     },
     "metadata": {},
     "output_type": "display_data"
    }
   ],
   "source": [
    "## Create Dataset object\n",
    "\n",
    "# Create Dataset subclass\n",
    "class Data(Dataset):\n",
    "    \n",
    "    # Constructor\n",
    "    def __init__(self, train = True):\n",
    "        if train == True:\n",
    "            self.x = torch.arange(-3, 3, 0.1).view(-1, 1)\n",
    "            self.f = -3 * self.x + 1\n",
    "            self.y = self.f + 0.1 * torch.randn(self.x.size())\n",
    "            self.len = self.x.shape[0]\n",
    "\n",
    "            \n",
    "    # Getter\n",
    "    def __getitem__(self, index):    \n",
    "        return self.x[index], self.y[index]\n",
    "    \n",
    "    # Get Length\n",
    "    def __len__(self):\n",
    "        return self.len\n",
    "\n",
    "# Create Dataset object with training data\n",
    "train_data = Data()\n",
    "\n",
    "# Plot data\n",
    "plt.plot(train_data.x.numpy(), train_data.y.numpy(), 'xr', label = 'training data')\n",
    "plt.plot(train_data.x.numpy(), train_data.f.numpy(), label = '$f(x) = y$')\n",
    "plt.xlabel('x')\n",
    "plt.ylabel('y')\n",
    "plt.legend()\n",
    "plt.show()"
   ]
  },
  {
   "cell_type": "code",
   "execution_count": 30,
   "id": "66850841-421a-40be-a35e-c753ce0e676a",
   "metadata": {},
   "outputs": [],
   "source": [
    "## Create a criterion from nn.module\n",
    "criterion = nn.MSELoss()"
   ]
  },
  {
   "cell_type": "code",
   "execution_count": 31,
   "id": "b4c89a1f-b3d0-4920-bc8f-3b89b900d0d7",
   "metadata": {},
   "outputs": [],
   "source": [
    "## Create a model as an instanciated object of a nn.module class\n",
    "\n",
    "# Create a custom model subclass\n",
    "class linear_regression(nn.Module):\n",
    "    \n",
    "    # Constructor\n",
    "    def __init__(self, input_size, output_size):\n",
    "        super(linear_regression, self).__init__()\n",
    "        self.linear = nn.Linear(input_size, output_size)\n",
    "    \n",
    "    # Predition\n",
    "    def forward(self, x):\n",
    "        yhat = self.linear(x)\n",
    "        return yhat\n",
    "\n",
    "# Create model object\n",
    "model = linear_regression(1, 1)"
   ]
  },
  {
   "cell_type": "code",
   "execution_count": 32,
   "id": "b314387d-8c50-40f0-bc89-b7ad05ff904c",
   "metadata": {},
   "outputs": [],
   "source": [
    "## Crete a DataLoader object\n",
    "trainloader = DataLoader(dataset = train_data, batch_size = 1)\n",
    "# batch_size = 1 as we'll use SGD"
   ]
  },
  {
   "cell_type": "code",
   "execution_count": 33,
   "id": "04e14115-817f-4d8a-9819-f38da6d561a4",
   "metadata": {},
   "outputs": [],
   "source": [
    "## Create an optimizer object from optim\n",
    "optimizer = optim.SGD(model.parameters(), lr = 0.01)"
   ]
  },
  {
   "cell_type": "code",
   "execution_count": 34,
   "id": "49ef6b71-64e7-4efc-8990-52fbf9bb9d12",
   "metadata": {},
   "outputs": [],
   "source": [
    "# Set path to checkpoint\n",
    "checkpoint_path = 'checkpoints/checkpoint_model.pt'"
   ]
  },
  {
   "cell_type": "code",
   "execution_count": 35,
   "id": "0d80d910-be23-4f9e-9d7f-899476e9f020",
   "metadata": {},
   "outputs": [
    {
     "data": {
      "text/plain": [
       "{'epoch': None,\n",
       " 'model_state_dict': None,\n",
       " 'optimizer_state_dict': None,\n",
       " 'loss': None}"
      ]
     },
     "execution_count": 35,
     "metadata": {},
     "output_type": "execute_result"
    }
   ],
   "source": [
    "# Make initial checkpoint dictionary\n",
    "checkpoint = {'epoch' : None, \n",
    "              'model_state_dict' : None,\n",
    "              'optimizer_state_dict' : None,\n",
    "              'loss' : None}\n",
    "checkpoint"
   ]
  },
  {
   "cell_type": "code",
   "execution_count": 36,
   "id": "2bf4576a-1510-455c-9b95-9fe4fe722aba",
   "metadata": {},
   "outputs": [],
   "source": [
    "# Train the model\n",
    "epochs = 4\n",
    "LOSS_TRAIN = []\n",
    "\n",
    "for epoch in range(epochs):\n",
    "    for x, y in trainloader:\n",
    "        yhat = model(x)\n",
    "        loss = criterion(yhat, y)\n",
    "        optimizer.zero_grad()\n",
    "        loss.backward()\n",
    "        optimizer.step()\n",
    "        loss_train = criterion(model(train_data.x), train_data.y).item()\n",
    "\n",
    "        LOSS_TRAIN.append(loss_train)\n",
    "    \n",
    "    checkpoint['epoch'] = epoch\n",
    "    checkpoint['model_state_dict'] = model.state_dict()\n",
    "    checkpoint['optimizer_state_dict'] = optimizer.state_dict()\n",
    "    checkpoint['loss'] = loss \n",
    "    torch.save(checkpoint, checkpoint_path)"
   ]
  },
  {
   "cell_type": "code",
   "execution_count": 37,
   "id": "07365eb9-564f-49d2-a2d5-d382de87a6e1",
   "metadata": {},
   "outputs": [
    {
     "data": {
      "text/plain": [
       "{'epoch': 3,\n",
       " 'model_state_dict': OrderedDict([('linear.weight', tensor([[-3.0052]])),\n",
       "              ('linear.bias', tensor([0.9983]))]),\n",
       " 'optimizer_state_dict': {'state': {0: {'momentum_buffer': None},\n",
       "   1: {'momentum_buffer': None}},\n",
       "  'param_groups': [{'lr': 0.01,\n",
       "    'momentum': 0,\n",
       "    'dampening': 0,\n",
       "    'weight_decay': 0,\n",
       "    'nesterov': False,\n",
       "    'maximize': False,\n",
       "    'foreach': None,\n",
       "    'differentiable': False,\n",
       "    'params': [0, 1]}]},\n",
       " 'loss': tensor(0.0111, requires_grad=True)}"
      ]
     },
     "execution_count": 37,
     "metadata": {},
     "output_type": "execute_result"
    }
   ],
   "source": [
    "# Load checkpoint\n",
    "checkpoint = torch.load(checkpoint_path)\n",
    "checkpoint"
   ]
  },
  {
   "cell_type": "code",
   "execution_count": 38,
   "id": "c0433384-37c7-4e2b-b2a6-26ae8563a802",
   "metadata": {},
   "outputs": [
    {
     "data": {
      "text/plain": [
       "OrderedDict([('linear.weight', tensor([[-0.5577]])),\n",
       "             ('linear.bias', tensor([-0.3242]))])"
      ]
     },
     "execution_count": 38,
     "metadata": {},
     "output_type": "execute_result"
    }
   ],
   "source": [
    "# Initialice fresh model\n",
    "model_checkpoint = linear_regression(1,1)\n",
    "model_checkpoint.state_dict()"
   ]
  },
  {
   "cell_type": "code",
   "execution_count": 39,
   "id": "5349c81d-0365-4edb-ae07-0618107dbb39",
   "metadata": {},
   "outputs": [
    {
     "data": {
      "text/plain": [
       "OrderedDict([('linear.weight', tensor([[-3.0052]])),\n",
       "             ('linear.bias', tensor([0.9983]))])"
      ]
     },
     "execution_count": 39,
     "metadata": {},
     "output_type": "execute_result"
    }
   ],
   "source": [
    "# Update fresh model with the checkpoint\n",
    "model_checkpoint.load_state_dict(checkpoint['model_state_dict'])\n",
    "model_checkpoint.state_dict()"
   ]
  },
  {
   "cell_type": "code",
   "execution_count": 40,
   "id": "d2175b42-1343-4f20-8e59-ecc7c425b4fb",
   "metadata": {},
   "outputs": [
    {
     "data": {
      "text/plain": [
       "{'state': {},\n",
       " 'param_groups': [{'lr': 1,\n",
       "   'momentum': 0,\n",
       "   'dampening': 0,\n",
       "   'weight_decay': 0,\n",
       "   'nesterov': False,\n",
       "   'maximize': False,\n",
       "   'foreach': None,\n",
       "   'differentiable': False,\n",
       "   'params': [0, 1]}]}"
      ]
     },
     "execution_count": 40,
     "metadata": {},
     "output_type": "execute_result"
    }
   ],
   "source": [
    "# Initialice fresh optimizer\n",
    "optimizer = optim.SGD(model_checkpoint.parameters(), lr = 1)\n",
    "optimizer.state_dict()"
   ]
  },
  {
   "cell_type": "code",
   "execution_count": 41,
   "id": "2e009ea4-eaf5-46c0-8d86-f0a25fe746a1",
   "metadata": {},
   "outputs": [
    {
     "data": {
      "text/plain": [
       "{'state': {0: {'momentum_buffer': None}, 1: {'momentum_buffer': None}},\n",
       " 'param_groups': [{'lr': 0.01,\n",
       "   'momentum': 0,\n",
       "   'dampening': 0,\n",
       "   'weight_decay': 0,\n",
       "   'nesterov': False,\n",
       "   'maximize': False,\n",
       "   'foreach': None,\n",
       "   'differentiable': False,\n",
       "   'params': [0, 1]}]}"
      ]
     },
     "execution_count": 41,
     "metadata": {},
     "output_type": "execute_result"
    }
   ],
   "source": [
    "# Update fresh optimizer with the checkpoint\n",
    "optimizer.load_state_dict(checkpoint['optimizer_state_dict'])\n",
    "optimizer.state_dict()"
   ]
  },
  {
   "cell_type": "code",
   "execution_count": 42,
   "id": "7f1e3f06-74b3-4f9d-8539-67ef952517ac",
   "metadata": {},
   "outputs": [
    {
     "name": "stdout",
     "output_type": "stream",
     "text": [
      "loss: tensor(0.0111, requires_grad=True)\n"
     ]
    }
   ],
   "source": [
    "# Load the loss\n",
    "loss = checkpoint['loss']\n",
    "print('loss:',loss)"
   ]
  },
  {
   "cell_type": "code",
   "execution_count": 43,
   "id": "c95de6e3-4f75-4e9a-a6b2-a1cf316754ac",
   "metadata": {},
   "outputs": [],
   "source": [
    "# Resume training\n",
    "for epoch in range(checkpoint['epoch'], epochs):\n",
    "    for x, y in trainloader:\n",
    "        yhat = model_checkpoint(x)\n",
    "        loss = criterion(yhat, y)\n",
    "        optimizer.zero_grad()\n",
    "        loss.backward()\n",
    "        optimizer.step()\n",
    "        loss_train = criterion(model_checkpoint(train_data.x), train_data.y).item()\n",
    "\n",
    "        LOSS_TRAIN.append(loss_train)"
   ]
  },
  {
   "cell_type": "code",
   "execution_count": 44,
   "id": "a85df233-6d32-434a-a5fa-2cd73d3b974c",
   "metadata": {},
   "outputs": [
    {
     "data": {
      "image/png": "[encoded data removed]",
      "text/plain": [
       "<Figure size 640x480 with 1 Axes>"
      ]
     },
     "metadata": {},
     "output_type": "display_data"
    }
   ],
   "source": [
    "# Plot the loss\n",
    "plt.plot(LOSS_TRAIN, label = 'training loss')\n",
    "plt.xlabel(\"Iteration\")\n",
    "plt.ylabel(\"Loss\")\n",
    "plt.legend(loc = 'upper right')\n",
    "plt.show()"
   ]
  },
  {
   "cell_type": "code",
   "execution_count": null,
   "id": "0d412d76-982a-4b00-817e-c970985ccc99",
   "metadata": {},
   "outputs": [],
   "source": []
  },
  {
   "cell_type": "markdown",
   "id": "fef208a6-33a4-4950-8815-37ac32184d9f",
   "metadata": {},
   "source": [
    "# Pending"
   ]
  },
  {
   "cell_type": "markdown",
   "id": "cdc50299-b133-488d-88a1-d811792dfb89",
   "metadata": {},
   "source": [
    "* Do the plot of checkpoints and earlt stopping per epochs, not per batches. Compare with a more reaosonable example. I think it's getting fucked u becasise of the arbitrary outliers.\n",
    "* In checkpoints, check why there are 300 itertions. There are 4 epochs with 60 data trained by SGD, there should be 240 iterations. \n",
    "* Make sure every algorthm stores cost per epoch.\n",
    "* standard datasets classes\n",
    "* standrad transformations\n",
    "* torchvision tranformations\n",
    "* MAke better examples of validation data\n",
    "* illustrate the whole process of modeling in PyTorch"
   ]
  },
  {
   "cell_type": "code",
   "execution_count": null,
   "id": "c8b7c840-49ed-4869-a572-05ed007a4643",
   "metadata": {},
   "outputs": [],
   "source": []
  }
 ],
 "metadata": {
  "kernelspec": {
   "display_name": "Python 3 (ipykernel)",
   "language": "python",
   "name": "python3"
  },
  "language_info": {
   "codemirror_mode": {
    "name": "ipython",
    "version": 3
   },
   "file_extension": ".py",
   "mimetype": "text/x-python",
   "name": "python",
   "nbconvert_exporter": "python",
   "pygments_lexer": "ipython3",
   "version": "3.8.17"
  }
 },
 "nbformat": 4,
 "nbformat_minor": 5
}
