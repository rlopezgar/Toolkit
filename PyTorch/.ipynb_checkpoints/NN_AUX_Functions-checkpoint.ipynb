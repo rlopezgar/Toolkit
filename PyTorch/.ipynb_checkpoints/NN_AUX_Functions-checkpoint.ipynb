{
 "cells": [
  {
   "cell_type": "markdown",
   "id": "da2e86ff-b914-4cb9-af21-e6672396a349",
   "metadata": {},
   "source": [
    "# Auxiliar functions for training and testing"
   ]
  },
  {
   "cell_type": "markdown",
   "id": "5e374ad9-2103-43c8-9253-20cc7c9b59f8",
   "metadata": {},
   "source": [
    "## Content\n",
    "* Auxiliar functions for classification problems\n",
    "    * Tabular data\n",
    "    * Image data\n",
    "* Auxiliar functions for regression problems"
   ]
  },
  {
   "cell_type": "markdown",
   "id": "c5f7df61-9454-4ddf-ac01-d5a468fb2830",
   "metadata": {},
   "source": [
    "Required tools"
   ]
  },
  {
   "cell_type": "code",
   "execution_count": 1,
   "id": "3b52ff5f-ad36-4fca-8e06-6a0594256186",
   "metadata": {},
   "outputs": [],
   "source": [
    "import numpy as np\n",
    "import pandas as pd\n",
    "import torch\n",
    "import seaborn as sns\n",
    "import matplotlib.pyplot as plt\n",
    "%matplotlib inline "
   ]
  },
  {
   "cell_type": "markdown",
   "id": "def27b9a-eb7a-414c-aeac-9fbfaf04e5d7",
   "metadata": {},
   "source": [
    "Required config"
   ]
  },
  {
   "cell_type": "code",
   "execution_count": 2,
   "id": "084abdbf-2f2e-419a-8b82-6034e6fae9b8",
   "metadata": {},
   "outputs": [
    {
     "data": {
      "text/plain": [
       "<torch._C.Generator at 0x7f9be0682cb0>"
      ]
     },
     "execution_count": 2,
     "metadata": {},
     "output_type": "execute_result"
    }
   ],
   "source": [
    "torch.manual_seed(0)"
   ]
  }
 ],
 "metadata": {
  "kernelspec": {
   "display_name": "Python 3 (ipykernel)",
   "language": "python",
   "name": "python3"
  },
  "language_info": {
   "codemirror_mode": {
    "name": "ipython",
    "version": 3
   },
   "file_extension": ".py",
   "mimetype": "text/x-python",
   "name": "python",
   "nbconvert_exporter": "python",
   "pygments_lexer": "ipython3",
   "version": "3.8.17"
  }
 },
 "nbformat": 4,
 "nbformat_minor": 5
}
