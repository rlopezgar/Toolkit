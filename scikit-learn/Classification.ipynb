{
 "cells": [
  {
   "cell_type": "markdown",
   "id": "c81687c3-6bd5-42c8-b82c-63759ecf3a66",
   "metadata": {},
   "source": [
    "# Clasificación\n",
    "La clasificación es un conjunto de métodos de aprendizaje supervisado que intenta aprender la relación entre un conjunto de variables predictoras y una variable objetivo que toma valores discretos dentro de un conjunto de clases o etiquetas. "
   ]
  },
  {
   "cell_type": "markdown",
   "id": "fb0dfa38-152b-42e8-aed1-437a579621de",
   "metadata": {},
   "source": [
    "#### Contenido\n",
    "* KNN (K Neirest Neigbors)\n",
    "* Decision Trees\n",
    "* Logistic Regression\n",
    "* SVM (Support Vector Machines)"
   ]
  },
  {
   "cell_type": "markdown",
   "id": "afef0e35-0878-4e79-81b0-7d23299af4e0",
   "metadata": {},
   "source": [
    "Se utilizarán los siguientes paquetes."
   ]
  },
  {
   "cell_type": "code",
   "execution_count": 1,
   "id": "07ba41ca-68f4-4c91-9822-1abccb14ad68",
   "metadata": {},
   "outputs": [],
   "source": [
    "import numpy as np\n",
    "import scipy as sp\n",
    "import pandas as pd\n",
    "import seaborn as sns\n",
    "import sklearn \n",
    "import matplotlib.pyplot as plt\n",
    "%matplotlib inline "
   ]
  },
  {
   "cell_type": "markdown",
   "id": "eb52110a-35bb-43d3-944b-0d201383dfbb",
   "metadata": {},
   "source": [
    "## KNN (K Neirest Neighbors)\n",
    "Se trata de clasificar un elemento con base en la distancia con otros elementos. Todo esto ronda alrededor del supuesto de que casos similares con las mismas etiquetas de clase están cerca el uno del otro.\n",
    "  \n",
    "El algoritmo tiene el siguiente funcionamiento.  \n",
    "Considere $x_1,...,x_n \\in\\mathbb{R}^m$ donde cada $x_i$ pertenece a una clase dentro de un conjunto de clases. Defina $K\\in\\mathbb{N}$ y sea $x\\in\\mathbb{R}^m$. \n",
    "1. Defina $K$.\n",
    "2. Calcule $d(x,x_i)$ para $i\\in\\{1,2,...,n\\}$.\n",
    "3. Obtenga los $K$ puntos más cercanos a $x$ con sus respectivas clases y cuente las ocurrencias por clase. \n",
    "4. Elija la clase con más ocurrencias.\n",
    "  \n",
    "Para implementar el algortimo KNN con las columnas predictoras col_1,...,col_n y la variable objetivo col_obj dado el hiperparámetro $K$,  utilice el siguiente código.  \n",
    "1. Definir variables predictoras y variables a predecir.  \n",
    "`x_data = df[['col_1', 'col_2', 'col_n']]`   \n",
    "`y_data = df['col_obj']`  \n",
    "2. Convertir la tabla a un arreglo de NumPy.  \n",
    "`x_data = x_data.to_numpy(dtype = float)`  \n",
    "`y_data = y_data.to_numpy(dtype = float)`\n",
    "3. Estandarizar los datos usando Z-score o algún otro normalizador.  \n",
    "`from sklearn.preprocessing import StandardScaler`  \n",
    "`scaler = StandardScaler()`  \n",
    "`x_data = scaler.fit_transform(x_data)`  \n",
    "4. Dividir en datos de entrenamiento y datos de prueba.  \n",
    "`from sklearn.model_selection import train_test_split`  \n",
    "`x_train, x_test, y_train, y_test = train_test_split(x_data, y_data, test_size = 1-p)`\n",
    "5. Entrenar modelo.  \n",
    "`from sklearn.neighbors import KNeighborsClassifier`  \n",
    "`k = k`  \n",
    "`neigh = KNeighborsClassifier(n_neighbors = k)`  \n",
    "`neigh.fit(x_train,y_train)`\n",
    "6. Hacer una predicción.  \n",
    "`yhat = neigh.predict(x_test)`\n",
    "  \n",
    "Para encontrar la mejor $k$ desde $k=1$ hasta $k=$`k_max` según accuracy tomado sobre el conjunto de prueba use el siguiente código:  \n",
    "`from sklearn import metrics`  \n",
    "`def knn_k(k_max, x_train, x_test, y_train, y_test):`  \n",
    "`    acc = np.zeros(k_max)`  \n",
    "`    for n in range(1, k_max):`  \n",
    "`        neigh = KNeighborsClassifier(n_neighbors = n)`  \n",
    "`        neigh = neigh.fit(x_train,y_train)`  \n",
    "`        yhat = neigh.predict(x_test)`  \n",
    "`        acc[n-1] = metrics.accuracy_score(y_test, yhat)`  \n",
    "`    sns.lineplot(acc)`  \n",
    "`    plt.ylabel('Score')`  \n",
    "`    plt.xlabel('Number of neighbors')`  \n",
    "`    plt.title('Accuracy')`  \n",
    "`    return acc`  \n",
    "`knn_k(k_max, x_train, x_test, y_train, y_test)`  \n",
    "  \n",
    "Notas:\n",
    "* Baja precisión"
   ]
  },
  {
   "cell_type": "markdown",
   "id": "9edbba2e-380d-452d-a3e3-2e1632d3456b",
   "metadata": {},
   "source": [
    "Para realizar el desarrollo del modelo se utilizará el siguiente conjunto de datos. Éste se encuentra preprocesado -no está normalizado- y se le ha aplicado un EDA que concluye que las variables que podrían ser buenos predictores de la variable objetivo custcat son region, tenure, age, marital, address, income, ed, employ, retire, gender y reside. Dadas las caracterísitcas de un elemento de la muestra -un cliente- se busca ver qué categoría de cliente  darle dentro de las opciones 1,2,3 o 4. "
   ]
  },
  {
   "cell_type": "code",
   "execution_count": 2,
   "id": "c1c9c052-d9d9-4d7c-a2f9-3d51a4805df9",
   "metadata": {},
   "outputs": [
    {
     "data": {
      "text/html": [
       "<div>\n",
       "<style scoped>\n",
       "    .dataframe tbody tr th:only-of-type {\n",
       "        vertical-align: middle;\n",
       "    }\n",
       "\n",
       "    .dataframe tbody tr th {\n",
       "        vertical-align: top;\n",
       "    }\n",
       "\n",
       "    .dataframe thead th {\n",
       "        text-align: right;\n",
       "    }\n",
       "</style>\n",
       "<table border=\"1\" class=\"dataframe\">\n",
       "  <thead>\n",
       "    <tr style=\"text-align: right;\">\n",
       "      <th></th>\n",
       "      <th>region</th>\n",
       "      <th>tenure</th>\n",
       "      <th>age</th>\n",
       "      <th>marital</th>\n",
       "      <th>address</th>\n",
       "      <th>income</th>\n",
       "      <th>ed</th>\n",
       "      <th>employ</th>\n",
       "      <th>retire</th>\n",
       "      <th>gender</th>\n",
       "      <th>reside</th>\n",
       "      <th>custcat</th>\n",
       "    </tr>\n",
       "  </thead>\n",
       "  <tbody>\n",
       "    <tr>\n",
       "      <th>0</th>\n",
       "      <td>2</td>\n",
       "      <td>13</td>\n",
       "      <td>44</td>\n",
       "      <td>1</td>\n",
       "      <td>9</td>\n",
       "      <td>64</td>\n",
       "      <td>4</td>\n",
       "      <td>5</td>\n",
       "      <td>0</td>\n",
       "      <td>0</td>\n",
       "      <td>2</td>\n",
       "      <td>1</td>\n",
       "    </tr>\n",
       "    <tr>\n",
       "      <th>1</th>\n",
       "      <td>3</td>\n",
       "      <td>11</td>\n",
       "      <td>33</td>\n",
       "      <td>1</td>\n",
       "      <td>7</td>\n",
       "      <td>136</td>\n",
       "      <td>5</td>\n",
       "      <td>5</td>\n",
       "      <td>0</td>\n",
       "      <td>0</td>\n",
       "      <td>6</td>\n",
       "      <td>4</td>\n",
       "    </tr>\n",
       "    <tr>\n",
       "      <th>2</th>\n",
       "      <td>3</td>\n",
       "      <td>68</td>\n",
       "      <td>52</td>\n",
       "      <td>1</td>\n",
       "      <td>24</td>\n",
       "      <td>116</td>\n",
       "      <td>1</td>\n",
       "      <td>29</td>\n",
       "      <td>0</td>\n",
       "      <td>1</td>\n",
       "      <td>2</td>\n",
       "      <td>3</td>\n",
       "    </tr>\n",
       "    <tr>\n",
       "      <th>3</th>\n",
       "      <td>2</td>\n",
       "      <td>33</td>\n",
       "      <td>33</td>\n",
       "      <td>0</td>\n",
       "      <td>12</td>\n",
       "      <td>33</td>\n",
       "      <td>2</td>\n",
       "      <td>0</td>\n",
       "      <td>0</td>\n",
       "      <td>1</td>\n",
       "      <td>1</td>\n",
       "      <td>1</td>\n",
       "    </tr>\n",
       "    <tr>\n",
       "      <th>4</th>\n",
       "      <td>2</td>\n",
       "      <td>23</td>\n",
       "      <td>30</td>\n",
       "      <td>1</td>\n",
       "      <td>9</td>\n",
       "      <td>30</td>\n",
       "      <td>1</td>\n",
       "      <td>2</td>\n",
       "      <td>0</td>\n",
       "      <td>0</td>\n",
       "      <td>4</td>\n",
       "      <td>3</td>\n",
       "    </tr>\n",
       "  </tbody>\n",
       "</table>\n",
       "</div>"
      ],
      "text/plain": [
       "   region  tenure  age  marital  address  income  ed  employ  retire  gender  \\\n",
       "0       2      13   44        1        9      64   4       5       0       0   \n",
       "1       3      11   33        1        7     136   5       5       0       0   \n",
       "2       3      68   52        1       24     116   1      29       0       1   \n",
       "3       2      33   33        0       12      33   2       0       0       1   \n",
       "4       2      23   30        1        9      30   1       2       0       0   \n",
       "\n",
       "   reside  custcat  \n",
       "0       2        1  \n",
       "1       6        4  \n",
       "2       2        3  \n",
       "3       1        1  \n",
       "4       4        3  "
      ]
     },
     "execution_count": 2,
     "metadata": {},
     "output_type": "execute_result"
    }
   ],
   "source": [
    "path = '/Users/RamsesLg/Desktop/Espacio_de_trabajo/Guía_DS/Python/Data/df_KNN.csv'\n",
    "df = pd.read_csv(path)\n",
    "df.head()"
   ]
  },
  {
   "cell_type": "code",
   "execution_count": 3,
   "id": "4856f87f-7a06-44ab-8211-8cad59e1b53b",
   "metadata": {},
   "outputs": [],
   "source": [
    "# Definir variables predictoras y variables a predecir\n",
    "x_data = df[['region', 'tenure', 'age', 'marital', 'income', 'ed', 'employ', 'retire', 'gender', 'reside']]\n",
    "y_data = df['custcat']"
   ]
  },
  {
   "cell_type": "code",
   "execution_count": 4,
   "id": "b9e0aa9e-dd63-49a5-9b0d-5095267d8ca1",
   "metadata": {},
   "outputs": [],
   "source": [
    "# Convertir la tabla a un arreglo de NumPy\n",
    "x_data = x_data.to_numpy(dtype = float)\n",
    "y_data = y_data.to_numpy(dtype = float)"
   ]
  },
  {
   "cell_type": "code",
   "execution_count": 5,
   "id": "1d8d454b-8512-48c5-979f-2ea8d0cf8f94",
   "metadata": {},
   "outputs": [
    {
     "data": {
      "text/plain": [
       "array([[-0.02696767, -1.055125  ,  0.18450456, ..., -0.22207644,\n",
       "        -1.03459817, -0.23065004],\n",
       "       [ 1.19883553, -1.14880563, -0.69181243, ..., -0.22207644,\n",
       "        -1.03459817,  2.55666158],\n",
       "       [ 1.19883553,  1.52109247,  0.82182601, ..., -0.22207644,\n",
       "         0.96655883, -0.23065004],\n",
       "       ...,\n",
       "       [ 1.19883553,  1.47425216,  1.37948227, ..., -0.22207644,\n",
       "         0.96655883, -0.92747794],\n",
       "       [ 1.19883553,  1.61477311,  0.58283046, ..., -0.22207644,\n",
       "         0.96655883, -0.92747794],\n",
       "       [ 1.19883553,  0.67796676, -0.45281689, ..., -0.22207644,\n",
       "         0.96655883,  0.46617787]])"
      ]
     },
     "execution_count": 5,
     "metadata": {},
     "output_type": "execute_result"
    }
   ],
   "source": [
    "# Estandarizar los datos usando Z-score\n",
    "from sklearn.preprocessing import StandardScaler  \n",
    "scaler = StandardScaler()\n",
    "x_data = scaler.fit_transform(x_data)\n",
    "x_data "
   ]
  },
  {
   "cell_type": "code",
   "execution_count": 6,
   "id": "9b2399b5-d239-4da1-b7fb-dfdb4dd7609f",
   "metadata": {},
   "outputs": [],
   "source": [
    "# Dividir en datos de entrenamiento y datos de prueba\n",
    "from sklearn.model_selection import train_test_split\n",
    "x_train, x_test, y_train, y_test = train_test_split(x_data, y_data, test_size=0.2)"
   ]
  },
  {
   "cell_type": "code",
   "execution_count": 7,
   "id": "b2913464-6527-4228-9afd-a393ba0e0ead",
   "metadata": {},
   "outputs": [
    {
     "data": {
      "text/html": [
       "<style>#sk-container-id-1 {color: black;}#sk-container-id-1 pre{padding: 0;}#sk-container-id-1 div.sk-toggleable {background-color: white;}#sk-container-id-1 label.sk-toggleable__label {cursor: pointer;display: block;width: 100%;margin-bottom: 0;padding: 0.3em;box-sizing: border-box;text-align: center;}#sk-container-id-1 label.sk-toggleable__label-arrow:before {content: \"▸\";float: left;margin-right: 0.25em;color: #696969;}#sk-container-id-1 label.sk-toggleable__label-arrow:hover:before {color: black;}#sk-container-id-1 div.sk-estimator:hover label.sk-toggleable__label-arrow:before {color: black;}#sk-container-id-1 div.sk-toggleable__content {max-height: 0;max-width: 0;overflow: hidden;text-align: left;background-color: #f0f8ff;}#sk-container-id-1 div.sk-toggleable__content pre {margin: 0.2em;color: black;border-radius: 0.25em;background-color: #f0f8ff;}#sk-container-id-1 input.sk-toggleable__control:checked~div.sk-toggleable__content {max-height: 200px;max-width: 100%;overflow: auto;}#sk-container-id-1 input.sk-toggleable__control:checked~label.sk-toggleable__label-arrow:before {content: \"▾\";}#sk-container-id-1 div.sk-estimator input.sk-toggleable__control:checked~label.sk-toggleable__label {background-color: #d4ebff;}#sk-container-id-1 div.sk-label input.sk-toggleable__control:checked~label.sk-toggleable__label {background-color: #d4ebff;}#sk-container-id-1 input.sk-hidden--visually {border: 0;clip: rect(1px 1px 1px 1px);clip: rect(1px, 1px, 1px, 1px);height: 1px;margin: -1px;overflow: hidden;padding: 0;position: absolute;width: 1px;}#sk-container-id-1 div.sk-estimator {font-family: monospace;background-color: #f0f8ff;border: 1px dotted black;border-radius: 0.25em;box-sizing: border-box;margin-bottom: 0.5em;}#sk-container-id-1 div.sk-estimator:hover {background-color: #d4ebff;}#sk-container-id-1 div.sk-parallel-item::after {content: \"\";width: 100%;border-bottom: 1px solid gray;flex-grow: 1;}#sk-container-id-1 div.sk-label:hover label.sk-toggleable__label {background-color: #d4ebff;}#sk-container-id-1 div.sk-serial::before {content: \"\";position: absolute;border-left: 1px solid gray;box-sizing: border-box;top: 0;bottom: 0;left: 50%;z-index: 0;}#sk-container-id-1 div.sk-serial {display: flex;flex-direction: column;align-items: center;background-color: white;padding-right: 0.2em;padding-left: 0.2em;position: relative;}#sk-container-id-1 div.sk-item {position: relative;z-index: 1;}#sk-container-id-1 div.sk-parallel {display: flex;align-items: stretch;justify-content: center;background-color: white;position: relative;}#sk-container-id-1 div.sk-item::before, #sk-container-id-1 div.sk-parallel-item::before {content: \"\";position: absolute;border-left: 1px solid gray;box-sizing: border-box;top: 0;bottom: 0;left: 50%;z-index: -1;}#sk-container-id-1 div.sk-parallel-item {display: flex;flex-direction: column;z-index: 1;position: relative;background-color: white;}#sk-container-id-1 div.sk-parallel-item:first-child::after {align-self: flex-end;width: 50%;}#sk-container-id-1 div.sk-parallel-item:last-child::after {align-self: flex-start;width: 50%;}#sk-container-id-1 div.sk-parallel-item:only-child::after {width: 0;}#sk-container-id-1 div.sk-dashed-wrapped {border: 1px dashed gray;margin: 0 0.4em 0.5em 0.4em;box-sizing: border-box;padding-bottom: 0.4em;background-color: white;}#sk-container-id-1 div.sk-label label {font-family: monospace;font-weight: bold;display: inline-block;line-height: 1.2em;}#sk-container-id-1 div.sk-label-container {text-align: center;}#sk-container-id-1 div.sk-container {/* jupyter's `normalize.less` sets `[hidden] { display: none; }` but bootstrap.min.css set `[hidden] { display: none !important; }` so we also need the `!important` here to be able to override the default hidden behavior on the sphinx rendered scikit-learn.org. See: https://github.com/scikit-learn/scikit-learn/issues/21755 */display: inline-block !important;position: relative;}#sk-container-id-1 div.sk-text-repr-fallback {display: none;}</style><div id=\"sk-container-id-1\" class=\"sk-top-container\"><div class=\"sk-text-repr-fallback\"><pre>KNeighborsClassifier(n_neighbors=4)</pre><b>In a Jupyter environment, please rerun this cell to show the HTML representation or trust the notebook. <br />On GitHub, the HTML representation is unable to render, please try loading this page with nbviewer.org.</b></div><div class=\"sk-container\" hidden><div class=\"sk-item\"><div class=\"sk-estimator sk-toggleable\"><input class=\"sk-toggleable__control sk-hidden--visually\" id=\"sk-estimator-id-1\" type=\"checkbox\" checked><label for=\"sk-estimator-id-1\" class=\"sk-toggleable__label sk-toggleable__label-arrow\">KNeighborsClassifier</label><div class=\"sk-toggleable__content\"><pre>KNeighborsClassifier(n_neighbors=4)</pre></div></div></div></div></div>"
      ],
      "text/plain": [
       "KNeighborsClassifier(n_neighbors=4)"
      ]
     },
     "execution_count": 7,
     "metadata": {},
     "output_type": "execute_result"
    }
   ],
   "source": [
    "# Entrenar modelo\n",
    "from sklearn.neighbors import KNeighborsClassifier\n",
    "k = 4\n",
    "neigh = KNeighborsClassifier(n_neighbors = k)\n",
    "neigh.fit(x_train,y_train)"
   ]
  },
  {
   "cell_type": "code",
   "execution_count": 8,
   "id": "d3a25aa3-b4bf-4289-ae3a-ecf5d5ec1736",
   "metadata": {},
   "outputs": [],
   "source": [
    "# Hacer una predicción\n",
    "yhat = neigh.predict(x_test)"
   ]
  },
  {
   "cell_type": "code",
   "execution_count": 9,
   "id": "fad922d9-1865-41cb-8b21-b4e5135c02a7",
   "metadata": {},
   "outputs": [
    {
     "data": {
      "text/plain": [
       "array([0.24 , 0.275, 0.315, 0.295, 0.345, 0.34 , 0.355, 0.375, 0.32 ,\n",
       "       0.   ])"
      ]
     },
     "execution_count": 9,
     "metadata": {},
     "output_type": "execute_result"
    },
    {
     "data": {
      "image/png": "[encoded data removed]",
      "text/plain": [
       "<Figure size 640x480 with 1 Axes>"
      ]
     },
     "metadata": {},
     "output_type": "display_data"
    }
   ],
   "source": [
    "# Obtener el mejor valor de k según accuracy\n",
    "from sklearn import metrics\n",
    "def knn_k(k_max, x_train, x_test, y_train, y_test):\n",
    "    acc = np.zeros(k_max)\n",
    "    for n in range(1, k_max):\n",
    "        neigh = KNeighborsClassifier(n_neighbors = n)\n",
    "        neigh = neigh.fit(x_train,y_train)\n",
    "        yhat = neigh.predict(x_test)\n",
    "        acc[n-1] = metrics.accuracy_score(y_test, yhat)\n",
    "    sns.lineplot(acc)\n",
    "    plt.ylabel('Score')\n",
    "    plt.xlabel('Number of neighbors')\n",
    "    plt.title('Accuracy')\n",
    "    return acc\n",
    "knn_k(10, x_train, x_test, y_train, y_test)"
   ]
  },
  {
   "cell_type": "markdown",
   "id": "37a14f11-86d3-42ba-b760-514070e2336e",
   "metadata": {},
   "source": [
    "## Decision Tree\n",
    "Un árbol de decisión es un algortimo de aprendizaje supervisado que funge como clasificador. La intución básica de un árbol de decisión es mapear todos los posibles caminos de decisión como un árbol. Los árboles de decisión se crean tomando una variable como nodo y marcando diferentes caminos correspondientes a cada valor que podría tomar la variable como ramas  que su vez llevan a otras variables como nodos  hasta que toda una ruta lleva a una decisión al haber llegado a un límite de profundidad prestablecido o hasta que las decisiones sean claras. Así pues, se trata aquí sobre todo de elegir con qué variables empezar. Esto se hace tratando de maximizar la ganancia de infromación en cada nodo. \n",
    "\n",
    "Se llama **entropía** a la cantidad de aleatroiedad en los datos. Suponga que está en un nodo $N$ compuesto por una variable que toma un número finitio de valores y cuyos $n$ elementos de la muestra $x_1,x_2,...,x_n$ están etiquetados en un conjunto de $m$ etiquetas $e_1,e_2,...,e_m$. Sea $E_j$ el conjunto de los elementos de la muestra que están etiquetados con $e_j$ $(1\\leq j \\leq m)$ de modo que la probabilidad frecuentista de que un elemento $x_i$ $(1\\leq i \\leq n)$ de la muestra esté etiquetado con la etiqueta $e_j$ $(1\\leq j \\leq m)$ es $p_j = \\frac{|E_j|}{n}$. La entropía $E(N)$ del nodo $N$ en cuestión es:\n",
    "$$E(N) = -\\sum_{j=1}^m p_jlog_2(p_j)$$\n",
    "Entre más baja es la entropía menos uniforme es la distribución de los elementos de la muestra respecto a las etiquetas con que están marcados. Si para el nodo en cuestión todos los elementos de la muestra tienen la misma etiqueta, entonces la entropía es 0; si para el nodo en cuestión todos los elementos de la muestra se distribuyen en partes iguales para cada etiqueta, entonces la entropía es 1. \n",
    "\n",
    "La entropía se calcula para cada nodo y se busca aquél que tenga la mínima entropía en sus nodos porque entre más baja sea la entropía se tiene más ganancia de infromación. Así pues, para maximizar la ganancia de infromación en cada nodo tomaremos aquellos con menor entropía para construir el árbol de decisión. \n",
    "\n",
    "Para implementar el algortimo de árboles de decisión con las columnas predictoras col_1,...,col_n y la variable objetivo col_obj,  utilice el siguiente código.   \n",
    "  \n",
    "1. Definir variables predictoras y variables a predecir.  \n",
    "`x_data = df[['col_1', 'col_2',..., 'col_n']]`  \n",
    "`y_data = df['col_obj']`  \n",
    "2. Convertir la tabla a un arreglo de NumPy.  \n",
    "`x_data = x_data.to_numpy()`  \n",
    "`y_data = y_data.to_numpy()`  \n",
    "3. Convertir las etiquetas de str a int en caso de ser necesario. Suponga que la columna col_i toma los valores str 'v_1','v_2',...,'v_k'. Para transformar estos a los vaores 1,2,...,k respectivamente use el siguiente código.  \n",
    "`from sklearn import preprocessing`  \n",
    "`le_col_i = preprocessing.LabelEncoder()`  \n",
    "`le_col_i.fit(['v_1','v_2',...,'v_k'])`  \n",
    "`x_data[:,i] = le_col_i.transform(x_data[:,i])`\n",
    "4. Dividir conjunto de datos en conjunto de entrenamiento y conjunto de prueba.  \n",
    "`from sklearn.model_selection import train_test_split` \n",
    "`x_train, x_test, y_train, y_test = train_test_split(x_data, y_data, test_size= 1-p)`  \n",
    "5. Hacer un objeto árbol de decisión por entropía con máximo de profundidad m.  \n",
    "`from sklearn import tree`  \n",
    "`dt = tree.DecisionTreeClassifier(criterion = \"entropy\", max_depth = m)`  \n",
    "6. Entrenar al modelo.  \n",
    "`dt.fit(x_train, y_train)`  \n",
    "8. Graficar el árbol.  \n",
    "`tree.plot_tree(dt)`  \n",
    "9. Hacer una predicción.  \n",
    "`yhat = dt.predict(x_test)`  \n",
    "\n",
    "Notas:\n",
    "* Úsese para variables predictoras que tomen una cantidad finita de valores. Podría también usar variables continuas discretizadas por bining.\n",
    "* Alta precisión. "
   ]
  },
  {
   "cell_type": "markdown",
   "id": "2d3afb2b-3ef9-4826-b8be-0c3de76ec3b3",
   "metadata": {},
   "source": [
    "Para realizar el desarrollo del modelo se utilizará el siguiente conjunto de datos. Éste se encuentra preprocesado -no está normalizado- y se le ha aplicado un EDA que concluye que las variables que podrían ser buenos predictores de la variable objetivo Drug son Age, Sex, BP, Cholesterol, Na_to_K. Dadas las caracterísitcas de un elemento de la muestra -un paciente- se busca ver qué droga darle dentro de las opciones drugA, drugB, drugC, drugX o drugY."
   ]
  },
  {
   "cell_type": "code",
   "execution_count": 2,
   "id": "a692f4ea-994b-4b76-95d1-1f69806e1884",
   "metadata": {},
   "outputs": [
    {
     "data": {
      "text/html": [
       "<div>\n",
       "<style scoped>\n",
       "    .dataframe tbody tr th:only-of-type {\n",
       "        vertical-align: middle;\n",
       "    }\n",
       "\n",
       "    .dataframe tbody tr th {\n",
       "        vertical-align: top;\n",
       "    }\n",
       "\n",
       "    .dataframe thead th {\n",
       "        text-align: right;\n",
       "    }\n",
       "</style>\n",
       "<table border=\"1\" class=\"dataframe\">\n",
       "  <thead>\n",
       "    <tr style=\"text-align: right;\">\n",
       "      <th></th>\n",
       "      <th>Age</th>\n",
       "      <th>Sex</th>\n",
       "      <th>BP</th>\n",
       "      <th>Cholesterol</th>\n",
       "      <th>Na_to_K</th>\n",
       "      <th>Drug</th>\n",
       "    </tr>\n",
       "  </thead>\n",
       "  <tbody>\n",
       "    <tr>\n",
       "      <th>0</th>\n",
       "      <td>23</td>\n",
       "      <td>F</td>\n",
       "      <td>HIGH</td>\n",
       "      <td>HIGH</td>\n",
       "      <td>25.355</td>\n",
       "      <td>drugY</td>\n",
       "    </tr>\n",
       "    <tr>\n",
       "      <th>1</th>\n",
       "      <td>47</td>\n",
       "      <td>M</td>\n",
       "      <td>LOW</td>\n",
       "      <td>HIGH</td>\n",
       "      <td>13.093</td>\n",
       "      <td>drugC</td>\n",
       "    </tr>\n",
       "    <tr>\n",
       "      <th>2</th>\n",
       "      <td>47</td>\n",
       "      <td>M</td>\n",
       "      <td>LOW</td>\n",
       "      <td>HIGH</td>\n",
       "      <td>10.114</td>\n",
       "      <td>drugC</td>\n",
       "    </tr>\n",
       "    <tr>\n",
       "      <th>3</th>\n",
       "      <td>28</td>\n",
       "      <td>F</td>\n",
       "      <td>NORMAL</td>\n",
       "      <td>HIGH</td>\n",
       "      <td>7.798</td>\n",
       "      <td>drugX</td>\n",
       "    </tr>\n",
       "    <tr>\n",
       "      <th>4</th>\n",
       "      <td>61</td>\n",
       "      <td>F</td>\n",
       "      <td>LOW</td>\n",
       "      <td>HIGH</td>\n",
       "      <td>18.043</td>\n",
       "      <td>drugY</td>\n",
       "    </tr>\n",
       "  </tbody>\n",
       "</table>\n",
       "</div>"
      ],
      "text/plain": [
       "   Age Sex      BP Cholesterol  Na_to_K   Drug\n",
       "0   23   F    HIGH        HIGH   25.355  drugY\n",
       "1   47   M     LOW        HIGH   13.093  drugC\n",
       "2   47   M     LOW        HIGH   10.114  drugC\n",
       "3   28   F  NORMAL        HIGH    7.798  drugX\n",
       "4   61   F     LOW        HIGH   18.043  drugY"
      ]
     },
     "execution_count": 2,
     "metadata": {},
     "output_type": "execute_result"
    }
   ],
   "source": [
    "path = '/Users/RamsesLg/Desktop/Espacio_de_trabajo/Guía_DS/Python/Data/df_DT.csv'\n",
    "df = pd.read_csv(path)\n",
    "df.head()"
   ]
  },
  {
   "cell_type": "code",
   "execution_count": 18,
   "id": "355cc49e-252b-4aa8-af7b-c293e13dc56f",
   "metadata": {},
   "outputs": [],
   "source": [
    "# Definir variables predictoras y variables a predecir\n",
    "x_data = df[['Age', 'Sex', 'BP', 'Cholesterol', 'Na_to_K']]\n",
    "y_data = df['Drug']"
   ]
  },
  {
   "cell_type": "code",
   "execution_count": 19,
   "id": "98f7d270-0e11-4b60-a35c-966206542bc0",
   "metadata": {},
   "outputs": [],
   "source": [
    "# Convertir la tabla a un arreglo de NumPy\n",
    "x_data = x_data.to_numpy()\n",
    "y_data = y_data.to_numpy()"
   ]
  },
  {
   "cell_type": "code",
   "execution_count": 20,
   "id": "f77a868f-45ef-4efc-91f8-d19c58f30c81",
   "metadata": {},
   "outputs": [
    {
     "data": {
      "text/plain": [
       "array([[47, 1, 1, 0, 13.093],\n",
       "       [47, 1, 1, 0, 10.114],\n",
       "       [28, 0, 2, 0, 7.798],\n",
       "       [61, 0, 1, 0, 18.043]], dtype=object)"
      ]
     },
     "execution_count": 20,
     "metadata": {},
     "output_type": "execute_result"
    }
   ],
   "source": [
    "# Convertir las etiquetas de str a int\n",
    "from sklearn import preprocessing\n",
    "le_sex = preprocessing.LabelEncoder()\n",
    "le_sex.fit(['F','M'])\n",
    "x_data[:,1] = le_sex.transform(x_data[:,1]) \n",
    "\n",
    "le_BP = preprocessing.LabelEncoder()\n",
    "le_BP.fit([ 'LOW', 'NORMAL', 'HIGH'])\n",
    "x_data[:,2] = le_BP.transform(x_data[:,2])\n",
    "\n",
    "le_Chol = preprocessing.LabelEncoder()\n",
    "le_Chol.fit([ 'NORMAL', 'HIGH'])\n",
    "x_data[:,3] = le_Chol.transform(x_data[:,3]) "
   ]
  },
  {
   "cell_type": "code",
   "execution_count": 26,
   "id": "357bc4bb-e864-4d42-a2f4-e4802c5c4606",
   "metadata": {},
   "outputs": [],
   "source": [
    "# Dividir conjunto de datos en conjunto de entrenamiento y conjunto de prueba \n",
    "from sklearn.model_selection import train_test_split\n",
    "x_train, x_test, y_train, y_test = train_test_split(x_data, y_data, test_size=0.3)"
   ]
  },
  {
   "cell_type": "code",
   "execution_count": 39,
   "id": "4d502071-f33c-465c-976e-0b782f349db1",
   "metadata": {},
   "outputs": [
    {
     "data": {
      "text/html": [
       "<style>#sk-container-id-7 {color: black;}#sk-container-id-7 pre{padding: 0;}#sk-container-id-7 div.sk-toggleable {background-color: white;}#sk-container-id-7 label.sk-toggleable__label {cursor: pointer;display: block;width: 100%;margin-bottom: 0;padding: 0.3em;box-sizing: border-box;text-align: center;}#sk-container-id-7 label.sk-toggleable__label-arrow:before {content: \"▸\";float: left;margin-right: 0.25em;color: #696969;}#sk-container-id-7 label.sk-toggleable__label-arrow:hover:before {color: black;}#sk-container-id-7 div.sk-estimator:hover label.sk-toggleable__label-arrow:before {color: black;}#sk-container-id-7 div.sk-toggleable__content {max-height: 0;max-width: 0;overflow: hidden;text-align: left;background-color: #f0f8ff;}#sk-container-id-7 div.sk-toggleable__content pre {margin: 0.2em;color: black;border-radius: 0.25em;background-color: #f0f8ff;}#sk-container-id-7 input.sk-toggleable__control:checked~div.sk-toggleable__content {max-height: 200px;max-width: 100%;overflow: auto;}#sk-container-id-7 input.sk-toggleable__control:checked~label.sk-toggleable__label-arrow:before {content: \"▾\";}#sk-container-id-7 div.sk-estimator input.sk-toggleable__control:checked~label.sk-toggleable__label {background-color: #d4ebff;}#sk-container-id-7 div.sk-label input.sk-toggleable__control:checked~label.sk-toggleable__label {background-color: #d4ebff;}#sk-container-id-7 input.sk-hidden--visually {border: 0;clip: rect(1px 1px 1px 1px);clip: rect(1px, 1px, 1px, 1px);height: 1px;margin: -1px;overflow: hidden;padding: 0;position: absolute;width: 1px;}#sk-container-id-7 div.sk-estimator {font-family: monospace;background-color: #f0f8ff;border: 1px dotted black;border-radius: 0.25em;box-sizing: border-box;margin-bottom: 0.5em;}#sk-container-id-7 div.sk-estimator:hover {background-color: #d4ebff;}#sk-container-id-7 div.sk-parallel-item::after {content: \"\";width: 100%;border-bottom: 1px solid gray;flex-grow: 1;}#sk-container-id-7 div.sk-label:hover label.sk-toggleable__label {background-color: #d4ebff;}#sk-container-id-7 div.sk-serial::before {content: \"\";position: absolute;border-left: 1px solid gray;box-sizing: border-box;top: 0;bottom: 0;left: 50%;z-index: 0;}#sk-container-id-7 div.sk-serial {display: flex;flex-direction: column;align-items: center;background-color: white;padding-right: 0.2em;padding-left: 0.2em;position: relative;}#sk-container-id-7 div.sk-item {position: relative;z-index: 1;}#sk-container-id-7 div.sk-parallel {display: flex;align-items: stretch;justify-content: center;background-color: white;position: relative;}#sk-container-id-7 div.sk-item::before, #sk-container-id-7 div.sk-parallel-item::before {content: \"\";position: absolute;border-left: 1px solid gray;box-sizing: border-box;top: 0;bottom: 0;left: 50%;z-index: -1;}#sk-container-id-7 div.sk-parallel-item {display: flex;flex-direction: column;z-index: 1;position: relative;background-color: white;}#sk-container-id-7 div.sk-parallel-item:first-child::after {align-self: flex-end;width: 50%;}#sk-container-id-7 div.sk-parallel-item:last-child::after {align-self: flex-start;width: 50%;}#sk-container-id-7 div.sk-parallel-item:only-child::after {width: 0;}#sk-container-id-7 div.sk-dashed-wrapped {border: 1px dashed gray;margin: 0 0.4em 0.5em 0.4em;box-sizing: border-box;padding-bottom: 0.4em;background-color: white;}#sk-container-id-7 div.sk-label label {font-family: monospace;font-weight: bold;display: inline-block;line-height: 1.2em;}#sk-container-id-7 div.sk-label-container {text-align: center;}#sk-container-id-7 div.sk-container {/* jupyter's `normalize.less` sets `[hidden] { display: none; }` but bootstrap.min.css set `[hidden] { display: none !important; }` so we also need the `!important` here to be able to override the default hidden behavior on the sphinx rendered scikit-learn.org. See: https://github.com/scikit-learn/scikit-learn/issues/21755 */display: inline-block !important;position: relative;}#sk-container-id-7 div.sk-text-repr-fallback {display: none;}</style><div id=\"sk-container-id-7\" class=\"sk-top-container\"><div class=\"sk-text-repr-fallback\"><pre>DecisionTreeClassifier(criterion=&#x27;entropy&#x27;, max_depth=4)</pre><b>In a Jupyter environment, please rerun this cell to show the HTML representation or trust the notebook. <br />On GitHub, the HTML representation is unable to render, please try loading this page with nbviewer.org.</b></div><div class=\"sk-container\" hidden><div class=\"sk-item\"><div class=\"sk-estimator sk-toggleable\"><input class=\"sk-toggleable__control sk-hidden--visually\" id=\"sk-estimator-id-7\" type=\"checkbox\" checked><label for=\"sk-estimator-id-7\" class=\"sk-toggleable__label sk-toggleable__label-arrow\">DecisionTreeClassifier</label><div class=\"sk-toggleable__content\"><pre>DecisionTreeClassifier(criterion=&#x27;entropy&#x27;, max_depth=4)</pre></div></div></div></div></div>"
      ],
      "text/plain": [
       "DecisionTreeClassifier(criterion='entropy', max_depth=4)"
      ]
     },
     "execution_count": 39,
     "metadata": {},
     "output_type": "execute_result"
    }
   ],
   "source": [
    "# Importar herramientas requeridas\n",
    "from sklearn import tree\n",
    "# Hacer un objeto árbol de decisión cpor entropía\n",
    "dt = tree.DecisionTreeClassifier(criterion = \"entropy\", max_depth = 4)\n",
    "# Entrenar al modelo\n",
    "dt.fit(x_train, y_train)"
   ]
  },
  {
   "cell_type": "code",
   "execution_count": 40,
   "id": "9f82ac9d-a978-4ee8-a9d6-4cd0f9ca9202",
   "metadata": {},
   "outputs": [],
   "source": [
    "# Hacer una predicción\n",
    "yhat = dt.predict(x_test)"
   ]
  },
  {
   "cell_type": "code",
   "execution_count": 42,
   "id": "089d8e7c-d58b-4327-9886-5f32f3bab1fd",
   "metadata": {},
   "outputs": [
    {
     "data": {
      "text/plain": [
       "[Text(0.625, 0.9, 'x[4] <= 14.839\\nentropy = 1.953\\nsamples = 140\\nvalue = [15, 11, 12, 36, 66]'),\n",
       " Text(0.5, 0.7, 'x[2] <= 0.5\\nentropy = 1.807\\nsamples = 74\\nvalue = [15, 11, 12, 36, 0]'),\n",
       " Text(0.25, 0.5, 'x[0] <= 50.5\\nentropy = 0.983\\nsamples = 26\\nvalue = [15, 11, 0, 0, 0]'),\n",
       " Text(0.125, 0.3, 'entropy = 0.0\\nsamples = 15\\nvalue = [15, 0, 0, 0, 0]'),\n",
       " Text(0.375, 0.3, 'entropy = 0.0\\nsamples = 11\\nvalue = [0, 11, 0, 0, 0]'),\n",
       " Text(0.75, 0.5, 'x[2] <= 1.5\\nentropy = 0.811\\nsamples = 48\\nvalue = [0, 0, 12, 36, 0]'),\n",
       " Text(0.625, 0.3, 'x[3] <= 0.5\\nentropy = 0.999\\nsamples = 23\\nvalue = [0, 0, 12, 11, 0]'),\n",
       " Text(0.5, 0.1, 'entropy = 0.0\\nsamples = 12\\nvalue = [0, 0, 12, 0, 0]'),\n",
       " Text(0.75, 0.1, 'entropy = 0.0\\nsamples = 11\\nvalue = [0, 0, 0, 11, 0]'),\n",
       " Text(0.875, 0.3, 'entropy = 0.0\\nsamples = 25\\nvalue = [0, 0, 0, 25, 0]'),\n",
       " Text(0.75, 0.7, 'entropy = 0.0\\nsamples = 66\\nvalue = [0, 0, 0, 0, 66]')]"
      ]
     },
     "execution_count": 42,
     "metadata": {},
     "output_type": "execute_result"
    },
    {
     "data": {
      "image/png": "[encoded data removed]",
      "text/plain": [
       "<Figure size 640x480 with 1 Axes>"
      ]
     },
     "metadata": {},
     "output_type": "display_data"
    }
   ],
   "source": [
    "tree.plot_tree(dt)"
   ]
  },
  {
   "cell_type": "markdown",
   "id": "154986e2-8104-4f91-9512-491a731c3bae",
   "metadata": {},
   "source": [
    "## Regresión logística\n",
    "La regresión logística es un método para hacer clasificaciones binarias de elementos de un conjunto de datos en función de los valores de los campos de entrada. Más aún, la regresión logística nos dará una probabilidad de pertenecer a la clase asignada para cada elemento clasificado. \n",
    "  \n",
    "Dada una muestra de $n$ elementos con $m$ características donde cada uno de ellos tiene una etiqueta $y_i$ $(1\\leq i \\leq n)$ binaria 0,1; La idea básica de la regresión logística es usar el mecanismo de regresión lineal con el objetivo de explicar la probabilidad de que el i-ésimo elemento de la muestra $(1\\leq i \\leq n)$ sea clasificado con $y_i=1$  bajo la siguiente relación:  \n",
    "$$ln(\\frac{\\hat{p}_i}{1-\\hat{p}_i}) = e^{\\beta_0 + \\beta_1x{1,i} + ... + \\beta_1x{m,i}}$$\n",
    "  \n",
    "de modo que la probabilidad de que el i-ésimo elemento sea clasificada como 1 es:  \n",
    "$$\\hat{p}_i = \\frac{e^{\\beta_0 + \\beta_1x{1,i} + ... + \\beta_1x{m,i}}}{1-e^{\\beta_0 + \\beta_1x{1,i} + ... + \\beta_1x{m,i}}}$$\n",
    "  \n",
    "Así pues, tendremos la siguiente regla de decisión:\n",
    "$$\n",
    "cost(y_i, \\hat{y}_i)= \n",
    "\\begin{cases}\n",
    "    0 , & \\hat{p}_i < 0.5 \\\\\n",
    "    1 , & \\hat{p}_i \\geq 0.5\n",
    "\\end{cases}\n",
    "$$\n",
    "\n",
    "  \n",
    "Ahora bien, los parámetros tienen que ser estimados mediante algún método de oprimización iterativa que busque minimizar una función de costo total donde cada costo es el error obtenido de la estimación puesto de la siguiente forma:  \n",
    "$$cost(y_i,\\hat{y}_i) = (\\hat{p}_i-y_i)^2$$\n",
    "  \n",
    "La función a minimizar está dada por:  \n",
    "$$J(\\beta) = \\frac{1}{m}\\sum_{i=1}^m cost(y_i,\\hat{y}_i)$$\n",
    "  \n",
    "Sin emabargo, en orden de simplificar la optimización, se suele optar por tomar el costo de la siguiente manera:\n",
    "$$\n",
    "\\hat{y_i}= \n",
    "\\begin{cases}\n",
    "    -ln(\\hat{p}_i) , &  < y = 1 \\\\\n",
    "    -ln(1-\\hat{p}_i) , & y = 0 \\geq 0.5\n",
    "\\end{cases}\n",
    "$$\n",
    "  \n",
    "La función a minimizar está dada por:  \n",
    "$$J(\\beta) = -\\frac{1}{m}\\sum_{i=1}^m y_i ln(\\hat{p}_i) + (1-y_i) ln(1-\\hat{p}_i)$$\n",
    "  \n",
    "Para implementar el algortimo KNN con las columnas predictoras col_1,...,col_n y la variable objetivo col_obj utilice el siguiente código.  \n",
    "1. Definir variables predictoras y variables a predecir.  \n",
    "`x_data = df[['col_1', 'col_2', 'col_n']]`   \n",
    "`y_data = df['col_obj']`  \n",
    "2. Convertir la tabla a un arreglo de NumPy.  \n",
    "`x_data = x_data.to_numpy(dtype = float)`  \n",
    "`y_data = y_data.to_numpy(dtype = float)`\n",
    "3. Estandarizar los datos usando Z-score o algún otro normalizador.  \n",
    "`from sklearn.preprocessing import StandardScaler`  \n",
    "`scaler = StandardScaler()`  \n",
    "`x_data = scaler.fit_transform(x_data)`  \n",
    "4. Dividir en datos de entrenamiento y datos de prueba.  \n",
    "`from sklearn.model_selection import train_test_split`  \n",
    "`x_train, x_test, y_train, y_test = train_test_split(x_data, y_data, test_size = 1-p)`\n",
    "5. Entrenar modelo. Para esto, puede elegirse alguno de los siguientes métodos de optimización que se tiene que especificar en el parámetro `solver`:  \n",
    "* ‘newton-cg’\n",
    "* ‘lbfgs’\n",
    "* ‘liblinear’\n",
    "* ‘sag’\n",
    "* ‘saga’  \n",
    "`from sklearn.linear_model import LogisticRegression` \n",
    "`lr = LogisticRegression(solver='liblinear')`  \n",
    "`lr.fit(x_train, y_train)`  \n",
    "7. Hacer una predicción y obtener las probabilidades respectivas.  \n",
    "`yhat = lr.predict(x_test)`  \n",
    "`yhat_prob = lr.predict_prob(x_test)`\n",
    "\n",
    "\n",
    "Notas:\n",
    "* Úsese para clasificaciones binarias con datos linealmente separables. Sin embargo, podría usarse un estilo polinomial para trazar la frontera de decisión, lo que aquí no se discute aún. \n",
    "* Úsese cuando requiera la probabilidad de pertenencia a la clase para cada elelemnto clasificado.\n",
    "* Úsese cuando queira evaluar el impacto en la variable dependiente al ajustar los valores de las variables independientes (caeteris paribus).\n",
    "* Úsese cuando tenga pocos datos."
   ]
  },
  {
   "cell_type": "markdown",
   "id": "e72d17a3-e1d4-4aff-b6f8-49a9cbb163f3",
   "metadata": {},
   "source": [
    "Para realizar el desarrollo del modelo se utilizará el siguiente conjunto de datos. Éste se encuentra preprocesado -no está normalizado- y se le ha aplicado un EDA que concluye que las variables que podrían ser buenos predictores de la variable objetivo churn son tenure, age, address, income, ed, employ, equip, callcard y wireless. Dadas las caracterísitcas de un elemento de la muestra -un cliente- se busca entender las características de un cliente que se cambia de compañía (y = 0) o se mantiene (y = 1). "
   ]
  },
  {
   "cell_type": "code",
   "execution_count": 44,
   "id": "1f42097b-bb4e-4f79-b00b-23f5a3ebcc02",
   "metadata": {},
   "outputs": [
    {
     "data": {
      "text/html": [
       "<div>\n",
       "<style scoped>\n",
       "    .dataframe tbody tr th:only-of-type {\n",
       "        vertical-align: middle;\n",
       "    }\n",
       "\n",
       "    .dataframe tbody tr th {\n",
       "        vertical-align: top;\n",
       "    }\n",
       "\n",
       "    .dataframe thead th {\n",
       "        text-align: right;\n",
       "    }\n",
       "</style>\n",
       "<table border=\"1\" class=\"dataframe\">\n",
       "  <thead>\n",
       "    <tr style=\"text-align: right;\">\n",
       "      <th></th>\n",
       "      <th>tenure</th>\n",
       "      <th>age</th>\n",
       "      <th>address</th>\n",
       "      <th>income</th>\n",
       "      <th>ed</th>\n",
       "      <th>employ</th>\n",
       "      <th>equip</th>\n",
       "      <th>callcard</th>\n",
       "      <th>wireless</th>\n",
       "      <th>churn</th>\n",
       "    </tr>\n",
       "  </thead>\n",
       "  <tbody>\n",
       "    <tr>\n",
       "      <th>0</th>\n",
       "      <td>11</td>\n",
       "      <td>33</td>\n",
       "      <td>7</td>\n",
       "      <td>136</td>\n",
       "      <td>5</td>\n",
       "      <td>5</td>\n",
       "      <td>0</td>\n",
       "      <td>1</td>\n",
       "      <td>1</td>\n",
       "      <td>1</td>\n",
       "    </tr>\n",
       "    <tr>\n",
       "      <th>1</th>\n",
       "      <td>33</td>\n",
       "      <td>33</td>\n",
       "      <td>12</td>\n",
       "      <td>33</td>\n",
       "      <td>2</td>\n",
       "      <td>0</td>\n",
       "      <td>0</td>\n",
       "      <td>0</td>\n",
       "      <td>0</td>\n",
       "      <td>1</td>\n",
       "    </tr>\n",
       "    <tr>\n",
       "      <th>2</th>\n",
       "      <td>23</td>\n",
       "      <td>30</td>\n",
       "      <td>9</td>\n",
       "      <td>30</td>\n",
       "      <td>1</td>\n",
       "      <td>2</td>\n",
       "      <td>0</td>\n",
       "      <td>0</td>\n",
       "      <td>0</td>\n",
       "      <td>0</td>\n",
       "    </tr>\n",
       "    <tr>\n",
       "      <th>3</th>\n",
       "      <td>38</td>\n",
       "      <td>35</td>\n",
       "      <td>5</td>\n",
       "      <td>76</td>\n",
       "      <td>2</td>\n",
       "      <td>10</td>\n",
       "      <td>1</td>\n",
       "      <td>1</td>\n",
       "      <td>1</td>\n",
       "      <td>0</td>\n",
       "    </tr>\n",
       "    <tr>\n",
       "      <th>4</th>\n",
       "      <td>7</td>\n",
       "      <td>35</td>\n",
       "      <td>14</td>\n",
       "      <td>80</td>\n",
       "      <td>2</td>\n",
       "      <td>15</td>\n",
       "      <td>0</td>\n",
       "      <td>1</td>\n",
       "      <td>0</td>\n",
       "      <td>0</td>\n",
       "    </tr>\n",
       "  </tbody>\n",
       "</table>\n",
       "</div>"
      ],
      "text/plain": [
       "   tenure  age  address  income  ed  employ  equip  callcard  wireless  churn\n",
       "0      11   33        7     136   5       5      0         1         1      1\n",
       "1      33   33       12      33   2       0      0         0         0      1\n",
       "2      23   30        9      30   1       2      0         0         0      0\n",
       "3      38   35        5      76   2      10      1         1         1      0\n",
       "4       7   35       14      80   2      15      0         1         0      0"
      ]
     },
     "execution_count": 44,
     "metadata": {},
     "output_type": "execute_result"
    }
   ],
   "source": [
    "path = '/Users/RamsesLg/Desktop/Espacio_de_trabajo/Guía_DS/Python/Data/df_logistic_regression.csv'\n",
    "df = pd.read_csv(path)\n",
    "df = df[['tenure', 'age', 'address', 'income', 'ed', 'employ', 'equip',   'callcard', 'wireless','churn']]\n",
    "df.head()"
   ]
  },
  {
   "cell_type": "code",
   "execution_count": 48,
   "id": "5b9a6f18-4888-4e3c-ac8e-e5ca36544b75",
   "metadata": {},
   "outputs": [],
   "source": [
    "# Definir variables predictoras y variables a predecir\n",
    "x_data = df[['tenure', 'age', 'address', 'income', 'ed', 'employ', 'equip',   'callcard', 'wireless']]\n",
    "y_data = df['churn']"
   ]
  },
  {
   "cell_type": "code",
   "execution_count": 49,
   "id": "71ed54a3-0615-4940-a5a5-d2fff5c9c96c",
   "metadata": {},
   "outputs": [],
   "source": [
    "# Convertir la tabla a un arreglo de NumPy\n",
    "x_data = x_data.to_numpy(dtype = float)\n",
    "y_data = y_data.to_numpy(dtype = float)"
   ]
  },
  {
   "cell_type": "code",
   "execution_count": 50,
   "id": "da41898d-5a1c-42d3-a633-32fcef638e88",
   "metadata": {},
   "outputs": [],
   "source": [
    "# Estandarizar variables\n",
    "from sklearn.preprocessing import StandardScaler \n",
    "scaler = StandardScaler()\n",
    "x_data = scaler.fit_transform(x_data)"
   ]
  },
  {
   "cell_type": "code",
   "execution_count": 51,
   "id": "171ac51e-4820-4b4f-885f-7dfe4fd972d8",
   "metadata": {},
   "outputs": [],
   "source": [
    "# Dividir en datos de entrenamiento y datos de prueba\n",
    "from sklearn.model_selection import train_test_split\n",
    "x_train, x_test, y_train, y_test = train_test_split(x_data, y_data, test_size=0.2)"
   ]
  },
  {
   "cell_type": "code",
   "execution_count": 61,
   "id": "f3d68639-c0a2-4499-a7db-a6e14c31d131",
   "metadata": {},
   "outputs": [
    {
     "data": {
      "text/html": [
       "<style>#sk-container-id-10 {color: black;}#sk-container-id-10 pre{padding: 0;}#sk-container-id-10 div.sk-toggleable {background-color: white;}#sk-container-id-10 label.sk-toggleable__label {cursor: pointer;display: block;width: 100%;margin-bottom: 0;padding: 0.3em;box-sizing: border-box;text-align: center;}#sk-container-id-10 label.sk-toggleable__label-arrow:before {content: \"▸\";float: left;margin-right: 0.25em;color: #696969;}#sk-container-id-10 label.sk-toggleable__label-arrow:hover:before {color: black;}#sk-container-id-10 div.sk-estimator:hover label.sk-toggleable__label-arrow:before {color: black;}#sk-container-id-10 div.sk-toggleable__content {max-height: 0;max-width: 0;overflow: hidden;text-align: left;background-color: #f0f8ff;}#sk-container-id-10 div.sk-toggleable__content pre {margin: 0.2em;color: black;border-radius: 0.25em;background-color: #f0f8ff;}#sk-container-id-10 input.sk-toggleable__control:checked~div.sk-toggleable__content {max-height: 200px;max-width: 100%;overflow: auto;}#sk-container-id-10 input.sk-toggleable__control:checked~label.sk-toggleable__label-arrow:before {content: \"▾\";}#sk-container-id-10 div.sk-estimator input.sk-toggleable__control:checked~label.sk-toggleable__label {background-color: #d4ebff;}#sk-container-id-10 div.sk-label input.sk-toggleable__control:checked~label.sk-toggleable__label {background-color: #d4ebff;}#sk-container-id-10 input.sk-hidden--visually {border: 0;clip: rect(1px 1px 1px 1px);clip: rect(1px, 1px, 1px, 1px);height: 1px;margin: -1px;overflow: hidden;padding: 0;position: absolute;width: 1px;}#sk-container-id-10 div.sk-estimator {font-family: monospace;background-color: #f0f8ff;border: 1px dotted black;border-radius: 0.25em;box-sizing: border-box;margin-bottom: 0.5em;}#sk-container-id-10 div.sk-estimator:hover {background-color: #d4ebff;}#sk-container-id-10 div.sk-parallel-item::after {content: \"\";width: 100%;border-bottom: 1px solid gray;flex-grow: 1;}#sk-container-id-10 div.sk-label:hover label.sk-toggleable__label {background-color: #d4ebff;}#sk-container-id-10 div.sk-serial::before {content: \"\";position: absolute;border-left: 1px solid gray;box-sizing: border-box;top: 0;bottom: 0;left: 50%;z-index: 0;}#sk-container-id-10 div.sk-serial {display: flex;flex-direction: column;align-items: center;background-color: white;padding-right: 0.2em;padding-left: 0.2em;position: relative;}#sk-container-id-10 div.sk-item {position: relative;z-index: 1;}#sk-container-id-10 div.sk-parallel {display: flex;align-items: stretch;justify-content: center;background-color: white;position: relative;}#sk-container-id-10 div.sk-item::before, #sk-container-id-10 div.sk-parallel-item::before {content: \"\";position: absolute;border-left: 1px solid gray;box-sizing: border-box;top: 0;bottom: 0;left: 50%;z-index: -1;}#sk-container-id-10 div.sk-parallel-item {display: flex;flex-direction: column;z-index: 1;position: relative;background-color: white;}#sk-container-id-10 div.sk-parallel-item:first-child::after {align-self: flex-end;width: 50%;}#sk-container-id-10 div.sk-parallel-item:last-child::after {align-self: flex-start;width: 50%;}#sk-container-id-10 div.sk-parallel-item:only-child::after {width: 0;}#sk-container-id-10 div.sk-dashed-wrapped {border: 1px dashed gray;margin: 0 0.4em 0.5em 0.4em;box-sizing: border-box;padding-bottom: 0.4em;background-color: white;}#sk-container-id-10 div.sk-label label {font-family: monospace;font-weight: bold;display: inline-block;line-height: 1.2em;}#sk-container-id-10 div.sk-label-container {text-align: center;}#sk-container-id-10 div.sk-container {/* jupyter's `normalize.less` sets `[hidden] { display: none; }` but bootstrap.min.css set `[hidden] { display: none !important; }` so we also need the `!important` here to be able to override the default hidden behavior on the sphinx rendered scikit-learn.org. See: https://github.com/scikit-learn/scikit-learn/issues/21755 */display: inline-block !important;position: relative;}#sk-container-id-10 div.sk-text-repr-fallback {display: none;}</style><div id=\"sk-container-id-10\" class=\"sk-top-container\"><div class=\"sk-text-repr-fallback\"><pre>LogisticRegression(solver=&#x27;liblinear&#x27;)</pre><b>In a Jupyter environment, please rerun this cell to show the HTML representation or trust the notebook. <br />On GitHub, the HTML representation is unable to render, please try loading this page with nbviewer.org.</b></div><div class=\"sk-container\" hidden><div class=\"sk-item\"><div class=\"sk-estimator sk-toggleable\"><input class=\"sk-toggleable__control sk-hidden--visually\" id=\"sk-estimator-id-10\" type=\"checkbox\" checked><label for=\"sk-estimator-id-10\" class=\"sk-toggleable__label sk-toggleable__label-arrow\">LogisticRegression</label><div class=\"sk-toggleable__content\"><pre>LogisticRegression(solver=&#x27;liblinear&#x27;)</pre></div></div></div></div></div>"
      ],
      "text/plain": [
       "LogisticRegression(solver='liblinear')"
      ]
     },
     "execution_count": 61,
     "metadata": {},
     "output_type": "execute_result"
    }
   ],
   "source": [
    "# Importar herramientas requeridas\n",
    "from sklearn.linear_model import LogisticRegression\n",
    "# Crear objeto de regresión logística\n",
    "lr = LogisticRegression(solver = 'liblinear')\n",
    "# Entrenar modelo\n",
    "lr.fit(x_train, y_train)"
   ]
  },
  {
   "cell_type": "code",
   "execution_count": 58,
   "id": "744e9d56-ad72-43b8-869c-ebb7a46d2ac0",
   "metadata": {},
   "outputs": [
    {
     "data": {
      "text/plain": [
       "array([1., 0., 0., 0.])"
      ]
     },
     "execution_count": 58,
     "metadata": {},
     "output_type": "execute_result"
    }
   ],
   "source": [
    "yhat = lr.predict(x_test)\n",
    "yhat[1:5]"
   ]
  },
  {
   "cell_type": "code",
   "execution_count": 57,
   "id": "b91b0b86-b830-4060-a561-e89b267badd3",
   "metadata": {},
   "outputs": [
    {
     "data": {
      "text/plain": [
       "array([[0.40112496, 0.59887504],\n",
       "       [0.80235306, 0.19764694],\n",
       "       [0.85363905, 0.14636095],\n",
       "       [0.91947978, 0.08052022]])"
      ]
     },
     "execution_count": 57,
     "metadata": {},
     "output_type": "execute_result"
    }
   ],
   "source": [
    "# La primera columna es 1-p y la segunda es p\n",
    "yhat_proba = lr.predict_proba(x_test)\n",
    "yhat_proba[1:5]"
   ]
  },
  {
   "cell_type": "markdown",
   "id": "7e36761f-44bd-4447-939d-e8e0ab6cff13",
   "metadata": {},
   "source": [
    "## SVM (Support Vector Machine)\n",
    "Una SVM es un algoritmo de aprendizaje supervisado que puede clasificar casos bnarios mediante la búsqueda de un separador lienal en la forma de hiperplano óptimo. Esto es, que si se tienen elementos de una muestra con $n$ variables, hallar un hiperplano de dimensión $n-1$ que los separe en el sentido de que la distancia entre los elementos de clases diferentes más cercanos al hiperplano y el hiperplano sea máxima. A la distancia mínima de los puntos de clases diferentes al hiperplano le denominamos **margen** y a los puntos de clases diferentes  más cercanos de  al hiperplano les llamamos **vectores de soporte**. Así pues, el objetivo es encontrar el hiperplano de margen máximo, mismo que depende únicamente de los vectores de soporte.\n",
    "  \n",
    "Ahora bien, puede que el conjunto de datos no sea linealmente separable y habría que mapearlos a una dimensión más alta de modo que sí lo sean. El proceso de mapear los datos a una dimensión más alta se denomina **kernelling** y a la función con que esto realiza se denomina **kernel** y suele ser de los siguientes tipos:\n",
    "* Función lineal\n",
    "* Función polinómica\n",
    "* Función radial\n",
    "* Función sigmoide  \n",
    "Para elegir la óptima bien puede intentar con todas y elegir la que arroje mejores resultados. \n",
    "  \n",
    "Una vez mapeados los datos a una dimensión más alta en donde sean linealmente separables se procede a hallar el hiperplano óptimo.\n",
    "  \n",
    "Para implementar el algortimo SVM con las columnas predictoras col_1,...,col_n y la variable objetivo col_obj utilice el siguiente código.  \n",
    "1. Definir variables predictoras y variables a predecir.  \n",
    "`x_data = df[['col_1', 'col_2', 'col_n']]`   \n",
    "`y_data = df['col_obj']`  \n",
    "2. Convertir los datos a un arreglo de NumPy.  \n",
    "`x_data = x_data.to_numpy(dtype = float)`  \n",
    "`y_data = y_data.to_numpy(dtype = float)`\n",
    "3. Estandarizar los datos usando Z-score o algún otro normalizador.  \n",
    "`from sklearn.preprocessing import StandardScaler`  \n",
    "`scaler = StandardScaler()`  \n",
    "`x_data = scaler.fit_transform(x_data)`  \n",
    "4. Dividir en datos de entrenamiento y datos de prueba.  \n",
    "`from sklearn.model_selection import train_test_split`  \n",
    "`x_train, x_test, y_train, y_test = train_test_split(x_data, y_data, test_size = 1-p)`\n",
    "5. Definir el modelo con su respectivo kernel y entrenarlo. Los kernel integrados son como sigue:\n",
    "* kernel = 'linear' para función  lineal \n",
    "* kernel = 'poly' para función polinómica\n",
    "* kernel = 'rbf' para función radial\n",
    "* kernel = 'sigmoid' para función sigmoide  \n",
    "`# Importar herramientas requeridas`  \n",
    "`from sklearn import svm`  \n",
    "`# Definir el modelo con su respectivo kernel`  \n",
    "`svm_model = svm.SVC(kernel = 'rbf')`  \n",
    "`# Entrenar el modelo`   \n",
    "`svm_model.fit(x_train, y_train)`  \n",
    "6. Hacer una predicción\n",
    "`svm_model.predict(x_test)`  \n",
    "  \n",
    "Para encontrar el kernel que obtenga el mejor kernel según accuracy tomado sobre el conjunto de prueba use el siguiente código:  \n",
    "`from sklearn import metrics`  \n",
    "`def svm_kernel(x_train, x_test, y_train, y_test):`  \n",
    "`    acc = np.zeros(4)`  \n",
    "`    kernels = ['linear', 'poly', 'rbf', 'sigmoid']`  \n",
    "`    for k in range(0,4):`  \n",
    "`        svm_model = svm.SVC(kernel = kernels[k])`  \n",
    "`        svm_model = svm_model.fit(x_train,y_train)`  \n",
    "`        yhat = svm_model.predict(x_test)`  \n",
    "`        acc[k] = metrics.accuracy_score(y_test, yhat)`  \n",
    "`    res = dict(zip(kernels, acc))`  \n",
    "`    return res`  \n",
    "`svm_kernel(x_train, x_test, y_train, y_test)`  \n",
    "  \n",
    "Notas:\n",
    "* Úsese para problemas de clasificación binarios.\n",
    "* Útil para espacios dimensionales altos siempre y cuando se tengan los sufiecientes datos. De otra manera puede haber sobreajuste. Sin embargo, el método es computacionalmente caro. "
   ]
  },
  {
   "cell_type": "markdown",
   "id": "afe56451-ead8-4f6d-a97a-b9413fa2a661",
   "metadata": {},
   "source": [
    "Para realizar el desarrollo del modelo se utilizará el siguiente conjunto de datos. Éste se encuentra preprocesado, normalziado y se le ha aplicado un EDA que concluye que las variables que podrían ser buenos predictores de la variable objetivo Class son Clump, UnifSize, UnifShape, MargAdh, SingEpiSize, BareNuc, BlandChrom, NormNucl, Mit. Dadas las caracterísitcas de un elemento de la muestra -un paciente- se busca ver qué categoría de celula anómala darle dentro de las opciones 2 (benigno) o 4 (maligno). "
   ]
  },
  {
   "cell_type": "code",
   "execution_count": 10,
   "id": "ee34cc02-f9b3-4867-94af-f209489c6b64",
   "metadata": {},
   "outputs": [
    {
     "data": {
      "text/html": [
       "<div>\n",
       "<style scoped>\n",
       "    .dataframe tbody tr th:only-of-type {\n",
       "        vertical-align: middle;\n",
       "    }\n",
       "\n",
       "    .dataframe tbody tr th {\n",
       "        vertical-align: top;\n",
       "    }\n",
       "\n",
       "    .dataframe thead th {\n",
       "        text-align: right;\n",
       "    }\n",
       "</style>\n",
       "<table border=\"1\" class=\"dataframe\">\n",
       "  <thead>\n",
       "    <tr style=\"text-align: right;\">\n",
       "      <th></th>\n",
       "      <th>Clump</th>\n",
       "      <th>UnifSize</th>\n",
       "      <th>UnifShape</th>\n",
       "      <th>MargAdh</th>\n",
       "      <th>SingEpiSize</th>\n",
       "      <th>BareNuc</th>\n",
       "      <th>BlandChrom</th>\n",
       "      <th>NormNucl</th>\n",
       "      <th>Mit</th>\n",
       "      <th>Class</th>\n",
       "    </tr>\n",
       "  </thead>\n",
       "  <tbody>\n",
       "    <tr>\n",
       "      <th>0</th>\n",
       "      <td>5</td>\n",
       "      <td>1</td>\n",
       "      <td>1</td>\n",
       "      <td>1</td>\n",
       "      <td>2</td>\n",
       "      <td>1</td>\n",
       "      <td>3</td>\n",
       "      <td>1</td>\n",
       "      <td>1</td>\n",
       "      <td>2</td>\n",
       "    </tr>\n",
       "    <tr>\n",
       "      <th>1</th>\n",
       "      <td>5</td>\n",
       "      <td>4</td>\n",
       "      <td>4</td>\n",
       "      <td>5</td>\n",
       "      <td>7</td>\n",
       "      <td>10</td>\n",
       "      <td>3</td>\n",
       "      <td>2</td>\n",
       "      <td>1</td>\n",
       "      <td>2</td>\n",
       "    </tr>\n",
       "    <tr>\n",
       "      <th>2</th>\n",
       "      <td>3</td>\n",
       "      <td>1</td>\n",
       "      <td>1</td>\n",
       "      <td>1</td>\n",
       "      <td>2</td>\n",
       "      <td>2</td>\n",
       "      <td>3</td>\n",
       "      <td>1</td>\n",
       "      <td>1</td>\n",
       "      <td>2</td>\n",
       "    </tr>\n",
       "    <tr>\n",
       "      <th>3</th>\n",
       "      <td>6</td>\n",
       "      <td>8</td>\n",
       "      <td>8</td>\n",
       "      <td>1</td>\n",
       "      <td>3</td>\n",
       "      <td>4</td>\n",
       "      <td>3</td>\n",
       "      <td>7</td>\n",
       "      <td>1</td>\n",
       "      <td>2</td>\n",
       "    </tr>\n",
       "    <tr>\n",
       "      <th>4</th>\n",
       "      <td>4</td>\n",
       "      <td>1</td>\n",
       "      <td>1</td>\n",
       "      <td>3</td>\n",
       "      <td>2</td>\n",
       "      <td>1</td>\n",
       "      <td>3</td>\n",
       "      <td>1</td>\n",
       "      <td>1</td>\n",
       "      <td>2</td>\n",
       "    </tr>\n",
       "  </tbody>\n",
       "</table>\n",
       "</div>"
      ],
      "text/plain": [
       "   Clump  UnifSize  UnifShape  MargAdh  SingEpiSize  BareNuc  BlandChrom  \\\n",
       "0      5         1          1        1            2        1           3   \n",
       "1      5         4          4        5            7       10           3   \n",
       "2      3         1          1        1            2        2           3   \n",
       "3      6         8          8        1            3        4           3   \n",
       "4      4         1          1        3            2        1           3   \n",
       "\n",
       "   NormNucl  Mit  Class  \n",
       "0         1    1      2  \n",
       "1         2    1      2  \n",
       "2         1    1      2  \n",
       "3         7    1      2  \n",
       "4         1    1      2  "
      ]
     },
     "execution_count": 10,
     "metadata": {},
     "output_type": "execute_result"
    }
   ],
   "source": [
    "path = '/Users/RamsesLg/Desktop/Espacio_de_trabajo/Guía_DS/Python/Data/df_SVM.csv'\n",
    "df = pd.read_csv(path)\n",
    "df = df[['Clump', 'UnifSize', 'UnifShape', 'MargAdh', 'SingEpiSize', 'BareNuc', 'BlandChrom', 'NormNucl', 'Mit', 'Class']]\n",
    "df.head()"
   ]
  },
  {
   "cell_type": "code",
   "execution_count": 11,
   "id": "bcfb172e-1c65-4b28-b15a-6cd7770cdf56",
   "metadata": {},
   "outputs": [],
   "source": [
    "# Definir variables predictoras y variables a predecir\n",
    "x_data = df[['Clump', 'UnifSize', 'UnifShape', 'MargAdh', 'SingEpiSize', 'BareNuc', 'BlandChrom', 'NormNucl', 'Mit']]\n",
    "y_data = df['Class']"
   ]
  },
  {
   "cell_type": "code",
   "execution_count": 12,
   "id": "b2500d01-589f-4bbe-a8b4-cf1b50f6facf",
   "metadata": {},
   "outputs": [],
   "source": [
    "# Convertir los datos a un arreglo de numpy \n",
    "x_data = x_data.to_numpy(dtype = float)\n",
    "y_data = y_data.to_numpy(dtype = float)"
   ]
  },
  {
   "cell_type": "code",
   "execution_count": 13,
   "id": "502291cc-a737-4d8e-afae-55b338296414",
   "metadata": {},
   "outputs": [],
   "source": [
    "# Dividir en datos de entrenamiento y datos de prueba.  \n",
    "from sklearn.model_selection import train_test_split\n",
    "x_train, x_test, y_train, y_test = train_test_split(x_data, y_data, test_size = 0.2)"
   ]
  },
  {
   "cell_type": "code",
   "execution_count": 15,
   "id": "5bdcbc52-88a0-48b0-8ac0-193ca37ee3c5",
   "metadata": {},
   "outputs": [
    {
     "data": {
      "text/html": [
       "<style>#sk-container-id-2 {color: black;}#sk-container-id-2 pre{padding: 0;}#sk-container-id-2 div.sk-toggleable {background-color: white;}#sk-container-id-2 label.sk-toggleable__label {cursor: pointer;display: block;width: 100%;margin-bottom: 0;padding: 0.3em;box-sizing: border-box;text-align: center;}#sk-container-id-2 label.sk-toggleable__label-arrow:before {content: \"▸\";float: left;margin-right: 0.25em;color: #696969;}#sk-container-id-2 label.sk-toggleable__label-arrow:hover:before {color: black;}#sk-container-id-2 div.sk-estimator:hover label.sk-toggleable__label-arrow:before {color: black;}#sk-container-id-2 div.sk-toggleable__content {max-height: 0;max-width: 0;overflow: hidden;text-align: left;background-color: #f0f8ff;}#sk-container-id-2 div.sk-toggleable__content pre {margin: 0.2em;color: black;border-radius: 0.25em;background-color: #f0f8ff;}#sk-container-id-2 input.sk-toggleable__control:checked~div.sk-toggleable__content {max-height: 200px;max-width: 100%;overflow: auto;}#sk-container-id-2 input.sk-toggleable__control:checked~label.sk-toggleable__label-arrow:before {content: \"▾\";}#sk-container-id-2 div.sk-estimator input.sk-toggleable__control:checked~label.sk-toggleable__label {background-color: #d4ebff;}#sk-container-id-2 div.sk-label input.sk-toggleable__control:checked~label.sk-toggleable__label {background-color: #d4ebff;}#sk-container-id-2 input.sk-hidden--visually {border: 0;clip: rect(1px 1px 1px 1px);clip: rect(1px, 1px, 1px, 1px);height: 1px;margin: -1px;overflow: hidden;padding: 0;position: absolute;width: 1px;}#sk-container-id-2 div.sk-estimator {font-family: monospace;background-color: #f0f8ff;border: 1px dotted black;border-radius: 0.25em;box-sizing: border-box;margin-bottom: 0.5em;}#sk-container-id-2 div.sk-estimator:hover {background-color: #d4ebff;}#sk-container-id-2 div.sk-parallel-item::after {content: \"\";width: 100%;border-bottom: 1px solid gray;flex-grow: 1;}#sk-container-id-2 div.sk-label:hover label.sk-toggleable__label {background-color: #d4ebff;}#sk-container-id-2 div.sk-serial::before {content: \"\";position: absolute;border-left: 1px solid gray;box-sizing: border-box;top: 0;bottom: 0;left: 50%;z-index: 0;}#sk-container-id-2 div.sk-serial {display: flex;flex-direction: column;align-items: center;background-color: white;padding-right: 0.2em;padding-left: 0.2em;position: relative;}#sk-container-id-2 div.sk-item {position: relative;z-index: 1;}#sk-container-id-2 div.sk-parallel {display: flex;align-items: stretch;justify-content: center;background-color: white;position: relative;}#sk-container-id-2 div.sk-item::before, #sk-container-id-2 div.sk-parallel-item::before {content: \"\";position: absolute;border-left: 1px solid gray;box-sizing: border-box;top: 0;bottom: 0;left: 50%;z-index: -1;}#sk-container-id-2 div.sk-parallel-item {display: flex;flex-direction: column;z-index: 1;position: relative;background-color: white;}#sk-container-id-2 div.sk-parallel-item:first-child::after {align-self: flex-end;width: 50%;}#sk-container-id-2 div.sk-parallel-item:last-child::after {align-self: flex-start;width: 50%;}#sk-container-id-2 div.sk-parallel-item:only-child::after {width: 0;}#sk-container-id-2 div.sk-dashed-wrapped {border: 1px dashed gray;margin: 0 0.4em 0.5em 0.4em;box-sizing: border-box;padding-bottom: 0.4em;background-color: white;}#sk-container-id-2 div.sk-label label {font-family: monospace;font-weight: bold;display: inline-block;line-height: 1.2em;}#sk-container-id-2 div.sk-label-container {text-align: center;}#sk-container-id-2 div.sk-container {/* jupyter's `normalize.less` sets `[hidden] { display: none; }` but bootstrap.min.css set `[hidden] { display: none !important; }` so we also need the `!important` here to be able to override the default hidden behavior on the sphinx rendered scikit-learn.org. See: https://github.com/scikit-learn/scikit-learn/issues/21755 */display: inline-block !important;position: relative;}#sk-container-id-2 div.sk-text-repr-fallback {display: none;}</style><div id=\"sk-container-id-2\" class=\"sk-top-container\"><div class=\"sk-text-repr-fallback\"><pre>SVC()</pre><b>In a Jupyter environment, please rerun this cell to show the HTML representation or trust the notebook. <br />On GitHub, the HTML representation is unable to render, please try loading this page with nbviewer.org.</b></div><div class=\"sk-container\" hidden><div class=\"sk-item\"><div class=\"sk-estimator sk-toggleable\"><input class=\"sk-toggleable__control sk-hidden--visually\" id=\"sk-estimator-id-2\" type=\"checkbox\" checked><label for=\"sk-estimator-id-2\" class=\"sk-toggleable__label sk-toggleable__label-arrow\">SVC</label><div class=\"sk-toggleable__content\"><pre>SVC()</pre></div></div></div></div></div>"
      ],
      "text/plain": [
       "SVC()"
      ]
     },
     "execution_count": 15,
     "metadata": {},
     "output_type": "execute_result"
    }
   ],
   "source": [
    "# Importar herramientas requeridas\n",
    "from sklearn import svm\n",
    "# Definir el modelo con su respectivo kernel\n",
    "svm_model = svm.SVC(kernel = 'rbf')\n",
    "# Entrenar el modelo\n",
    "svm_model.fit(x_train, y_train)"
   ]
  },
  {
   "cell_type": "code",
   "execution_count": 17,
   "id": "01e54ec2-b84c-4855-8edb-95a639e5989b",
   "metadata": {},
   "outputs": [],
   "source": [
    "# Hacer un pronóstico\n",
    "yhat = svm_model.predict(x_test)"
   ]
  },
  {
   "cell_type": "code",
   "execution_count": 22,
   "id": "e6bb5052-cc16-4296-9ffd-f0a8a191d8ea",
   "metadata": {},
   "outputs": [
    {
     "data": {
      "text/plain": [
       "{'linear': 0.9562043795620438,\n",
       " 'poly': 0.9562043795620438,\n",
       " 'rbf': 0.9635036496350365,\n",
       " 'sigmoid': 0.4306569343065693}"
      ]
     },
     "execution_count": 22,
     "metadata": {},
     "output_type": "execute_result"
    }
   ],
   "source": [
    "# Obtener el mejor kernel según accuracy\n",
    "from sklearn import metrics\n",
    "def svm_kernel(x_train, x_test, y_train, y_test):\n",
    "    acc = np.zeros(4)\n",
    "    kernels = ['linear', 'poly', 'rbf', 'sigmoid']\n",
    "    for k in range(0,4):\n",
    "        svm_model = svm.SVC(kernel = kernels[k])\n",
    "        svm_model = svm_model.fit(x_train,y_train)\n",
    "        yhat = svm_model.predict(x_test)\n",
    "        acc[k] = metrics.accuracy_score(y_test, yhat)\n",
    "    res = dict(zip(kernels, acc))\n",
    "    return res\n",
    "svm_kernel(x_train, x_test, y_train, y_test)"
   ]
  },
  {
   "cell_type": "code",
   "execution_count": null,
   "id": "c7b66763-1743-44b0-bbf5-bffbf537f0f3",
   "metadata": {},
   "outputs": [],
   "source": []
  },
  {
   "cell_type": "code",
   "execution_count": 12,
   "id": "7e66dc96-8726-4c63-853c-98efa262a483",
   "metadata": {},
   "outputs": [
    {
     "name": "stdin",
     "output_type": "stream",
     "text": [
      "Once deleted, variables cannot be recovered. Proceed (y/[n])?  y\n"
     ]
    }
   ],
   "source": [
    "%reset"
   ]
  }
 ],
 "metadata": {
  "kernelspec": {
   "display_name": "Python 3 (ipykernel)",
   "language": "python",
   "name": "python3"
  },
  "language_info": {
   "codemirror_mode": {
    "name": "ipython",
    "version": 3
   },
   "file_extension": ".py",
   "mimetype": "text/x-python",
   "name": "python",
   "nbconvert_exporter": "python",
   "pygments_lexer": "ipython3",
   "version": "3.8.17"
  }
 },
 "nbformat": 4,
 "nbformat_minor": 5
}
