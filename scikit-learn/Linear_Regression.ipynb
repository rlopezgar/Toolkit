{
 "cells": [
  {
   "cell_type": "markdown",
   "id": "11324ec8-920c-4d9f-aa77-8d27de4361bc",
   "metadata": {},
   "source": [
    "# Regresión lienal\n",
    "La regresión lineal es la aproximación de un modelo lineal que se utiliza para describir la relación entre dos o más variables. Es importante notar que la linealidad está en los parámetros. Los objetivos principales son:\n",
    "\n",
    "* Identificar la fuerza del efecto que las variables independientes tienen en una variable dependiente.\n",
    "* Predecir el impacto de cambios en la variable dependiente cuando cambiamos las variables independientes. Cabe notar que esto último se hace cambiano una variable independiente a la vez y dejando las otras variables independientes constantes.\n",
    "* Predecir valores continuos."
   ]
  },
  {
   "cell_type": "markdown",
   "id": "1e75bc15-6653-4137-998d-ccea22ae0537",
   "metadata": {},
   "source": [
    "#### Contenido\n",
    "* Regresión lineal\n",
    "    * Regresión lineal simple\n",
    "    * Regresión lineal múltiple\n",
    "    * Pronóstico en regresión lineal\n",
    "* Regresión polinómica\n",
    "    * Regresión polinómica simple\n",
    "    * Regresión polinómica múltiple\n",
    "    * Regresión polinómica con diferentes grados\n",
    "    * Pronóstico en regresión polinómica\n",
    "* Métodos de regularización (pendiente)\n",
    "    * Ridge \n",
    "    * Lasso "
   ]
  },
  {
   "cell_type": "markdown",
   "id": "a3b18314-3ae1-49cc-84d6-d3bcd5f22ed5",
   "metadata": {},
   "source": [
    "Se ocuparán las siguientes librerías."
   ]
  },
  {
   "cell_type": "code",
   "execution_count": 2,
   "id": "0fd6b71a-66af-4bf4-85f7-4fbfc20021ff",
   "metadata": {},
   "outputs": [],
   "source": [
    "import numpy as np\n",
    "import scipy as sc\n",
    "import pandas as pd\n",
    "import sklearn\n",
    "import seaborn as sns\n",
    "import matplotlib.pyplot as plt\n",
    "%matplotlib inline "
   ]
  },
  {
   "cell_type": "markdown",
   "id": "c216f002-7506-4e09-bd1b-b51c1a4a019d",
   "metadata": {},
   "source": [
    "Para realizar el desarrollo del modelo se utilizará el siguiente conjunto de datos. Éste se encuentra preprocesado -no está normalizado- y se le ha aplicado un EDA que concluye que las variables que podrían ser buenos predictores de la variable objetivo price son width, curb_weight, engine_size, horsepower, city_mpg, highway_mpg, wheel_base, bore y drive_wheels."
   ]
  },
  {
   "cell_type": "code",
   "execution_count": 3,
   "id": "1780260b-4508-48f3-bf9e-678866af6622",
   "metadata": {},
   "outputs": [
    {
     "data": {
      "text/html": [
       "<div>\n",
       "<style scoped>\n",
       "    .dataframe tbody tr th:only-of-type {\n",
       "        vertical-align: middle;\n",
       "    }\n",
       "\n",
       "    .dataframe tbody tr th {\n",
       "        vertical-align: top;\n",
       "    }\n",
       "\n",
       "    .dataframe thead th {\n",
       "        text-align: right;\n",
       "    }\n",
       "</style>\n",
       "<table border=\"1\" class=\"dataframe\">\n",
       "  <thead>\n",
       "    <tr style=\"text-align: right;\">\n",
       "      <th></th>\n",
       "      <th>symboling</th>\n",
       "      <th>normalized_losses</th>\n",
       "      <th>make</th>\n",
       "      <th>aspiration</th>\n",
       "      <th>num_of_doors</th>\n",
       "      <th>body_style</th>\n",
       "      <th>drive_wheels</th>\n",
       "      <th>engine_location</th>\n",
       "      <th>wheel_base</th>\n",
       "      <th>length</th>\n",
       "      <th>...</th>\n",
       "      <th>compression_ratio</th>\n",
       "      <th>horsepower</th>\n",
       "      <th>peak_rpm</th>\n",
       "      <th>city_mpg</th>\n",
       "      <th>highway_mpg</th>\n",
       "      <th>price</th>\n",
       "      <th>city_L/100km</th>\n",
       "      <th>horsepower_binned</th>\n",
       "      <th>diesel</th>\n",
       "      <th>gas</th>\n",
       "    </tr>\n",
       "  </thead>\n",
       "  <tbody>\n",
       "    <tr>\n",
       "      <th>0</th>\n",
       "      <td>3</td>\n",
       "      <td>122</td>\n",
       "      <td>alfa-romero</td>\n",
       "      <td>std</td>\n",
       "      <td>two</td>\n",
       "      <td>convertible</td>\n",
       "      <td>rwd</td>\n",
       "      <td>front</td>\n",
       "      <td>88.6</td>\n",
       "      <td>0.811148</td>\n",
       "      <td>...</td>\n",
       "      <td>9.0</td>\n",
       "      <td>111.0</td>\n",
       "      <td>5000.0</td>\n",
       "      <td>21</td>\n",
       "      <td>27</td>\n",
       "      <td>13495</td>\n",
       "      <td>11.190476</td>\n",
       "      <td>Medium</td>\n",
       "      <td>0</td>\n",
       "      <td>1</td>\n",
       "    </tr>\n",
       "    <tr>\n",
       "      <th>1</th>\n",
       "      <td>3</td>\n",
       "      <td>122</td>\n",
       "      <td>alfa-romero</td>\n",
       "      <td>std</td>\n",
       "      <td>two</td>\n",
       "      <td>convertible</td>\n",
       "      <td>rwd</td>\n",
       "      <td>front</td>\n",
       "      <td>88.6</td>\n",
       "      <td>0.811148</td>\n",
       "      <td>...</td>\n",
       "      <td>9.0</td>\n",
       "      <td>111.0</td>\n",
       "      <td>5000.0</td>\n",
       "      <td>21</td>\n",
       "      <td>27</td>\n",
       "      <td>16500</td>\n",
       "      <td>11.190476</td>\n",
       "      <td>Medium</td>\n",
       "      <td>0</td>\n",
       "      <td>1</td>\n",
       "    </tr>\n",
       "    <tr>\n",
       "      <th>2</th>\n",
       "      <td>1</td>\n",
       "      <td>122</td>\n",
       "      <td>alfa-romero</td>\n",
       "      <td>std</td>\n",
       "      <td>two</td>\n",
       "      <td>hatchback</td>\n",
       "      <td>rwd</td>\n",
       "      <td>front</td>\n",
       "      <td>94.5</td>\n",
       "      <td>0.822681</td>\n",
       "      <td>...</td>\n",
       "      <td>9.0</td>\n",
       "      <td>154.0</td>\n",
       "      <td>5000.0</td>\n",
       "      <td>19</td>\n",
       "      <td>26</td>\n",
       "      <td>16500</td>\n",
       "      <td>12.368421</td>\n",
       "      <td>Medium</td>\n",
       "      <td>0</td>\n",
       "      <td>1</td>\n",
       "    </tr>\n",
       "    <tr>\n",
       "      <th>3</th>\n",
       "      <td>2</td>\n",
       "      <td>164</td>\n",
       "      <td>audi</td>\n",
       "      <td>std</td>\n",
       "      <td>four</td>\n",
       "      <td>sedan</td>\n",
       "      <td>fwd</td>\n",
       "      <td>front</td>\n",
       "      <td>99.8</td>\n",
       "      <td>0.848630</td>\n",
       "      <td>...</td>\n",
       "      <td>10.0</td>\n",
       "      <td>102.0</td>\n",
       "      <td>5500.0</td>\n",
       "      <td>24</td>\n",
       "      <td>30</td>\n",
       "      <td>13950</td>\n",
       "      <td>9.791667</td>\n",
       "      <td>Medium</td>\n",
       "      <td>0</td>\n",
       "      <td>1</td>\n",
       "    </tr>\n",
       "    <tr>\n",
       "      <th>4</th>\n",
       "      <td>2</td>\n",
       "      <td>164</td>\n",
       "      <td>audi</td>\n",
       "      <td>std</td>\n",
       "      <td>four</td>\n",
       "      <td>sedan</td>\n",
       "      <td>4wd</td>\n",
       "      <td>front</td>\n",
       "      <td>99.4</td>\n",
       "      <td>0.848630</td>\n",
       "      <td>...</td>\n",
       "      <td>8.0</td>\n",
       "      <td>115.0</td>\n",
       "      <td>5500.0</td>\n",
       "      <td>18</td>\n",
       "      <td>22</td>\n",
       "      <td>17450</td>\n",
       "      <td>13.055556</td>\n",
       "      <td>Medium</td>\n",
       "      <td>0</td>\n",
       "      <td>1</td>\n",
       "    </tr>\n",
       "  </tbody>\n",
       "</table>\n",
       "<p>5 rows × 29 columns</p>\n",
       "</div>"
      ],
      "text/plain": [
       "   symboling  normalized_losses         make aspiration num_of_doors  \\\n",
       "0          3                122  alfa-romero        std          two   \n",
       "1          3                122  alfa-romero        std          two   \n",
       "2          1                122  alfa-romero        std          two   \n",
       "3          2                164         audi        std         four   \n",
       "4          2                164         audi        std         four   \n",
       "\n",
       "    body_style drive_wheels engine_location  wheel_base    length  ...  \\\n",
       "0  convertible          rwd           front        88.6  0.811148  ...   \n",
       "1  convertible          rwd           front        88.6  0.811148  ...   \n",
       "2    hatchback          rwd           front        94.5  0.822681  ...   \n",
       "3        sedan          fwd           front        99.8  0.848630  ...   \n",
       "4        sedan          4wd           front        99.4  0.848630  ...   \n",
       "\n",
       "   compression_ratio  horsepower  peak_rpm city_mpg highway_mpg  price  \\\n",
       "0                9.0       111.0    5000.0       21          27  13495   \n",
       "1                9.0       111.0    5000.0       21          27  16500   \n",
       "2                9.0       154.0    5000.0       19          26  16500   \n",
       "3               10.0       102.0    5500.0       24          30  13950   \n",
       "4                8.0       115.0    5500.0       18          22  17450   \n",
       "\n",
       "  city_L/100km  horsepower_binned  diesel  gas  \n",
       "0    11.190476             Medium       0    1  \n",
       "1    11.190476             Medium       0    1  \n",
       "2    12.368421             Medium       0    1  \n",
       "3     9.791667             Medium       0    1  \n",
       "4    13.055556             Medium       0    1  \n",
       "\n",
       "[5 rows x 29 columns]"
      ]
     },
     "execution_count": 3,
     "metadata": {},
     "output_type": "execute_result"
    }
   ],
   "source": [
    "path = '/Users/RamsesLg/Desktop/Espacio_de_trabajo/Guía_DS/Python/Data/df_linear_regression.csv'\n",
    "df = pd.read_csv(path)\n",
    "df.head()"
   ]
  },
  {
   "cell_type": "markdown",
   "id": "1d7a7998-f817-489c-8337-b7ce72d12051",
   "metadata": {},
   "source": [
    "## Regresión lineal\n",
    "Se trata de modelos que son lineales en parámetros."
   ]
  },
  {
   "cell_type": "markdown",
   "id": "012f3992-783d-4b70-9557-717baaa66364",
   "metadata": {},
   "source": [
    "### Regresión lineal simple\n",
    "La regresión lineal simple es un método que nos ayuda a entender la relación lineal entre la variable independiente predictora $x$ y la variable dependiente objetivo $y$ con la relación lineal dada por:  \n",
    "$y = \\beta_1x + \\beta_0 + \\epsilon $  \n",
    "donde $\\epsilon$ es un proceso de ruido blanco.\n",
    "\n",
    "Esto es:\n",
    "$\\hat{y} = \\beta_1x + \\beta_0$  \n",
    "donde $\\hat{y}$ es un estimado del verdadero valor de $y$.\n",
    "  \n",
    "Para entrenar un modelo de regresión lineal simple entre la variable predictora col y la variable objetivo col_obj:  \n",
    "1. Importar el modelo de sckit-learn.  \n",
    "`from sklearn.linear_model import LinearRegression`  \n",
    "2. Crear un objeto de regresión lineal.  \n",
    "`lm = LinearRegression()`  \n",
    "3. Definir la variable predictora y la variable objetivo.  \n",
    "`X = df['col']`  \n",
    "`Y = df['col_obj']`  \n",
    "4. Estimar los parámetros.  \n",
    "`lm.fit(X,Y)`  \n",
    "\n",
    "Esto es:  \n",
    "`from sklearn.linear_model import LinearRegression`  \n",
    "`lm = LinearRegression()`  \n",
    "`X = df['col']`  \n",
    "`Y = df['col_obj']`  \n",
    "`lm.fit(X,Y)`"
   ]
  },
  {
   "cell_type": "code",
   "execution_count": 5,
   "id": "1f21dbfd-8663-4e43-91df-33c4380c5189",
   "metadata": {},
   "outputs": [
    {
     "data": {
      "text/html": [
       "<style>#sk-container-id-1 {color: black;}#sk-container-id-1 pre{padding: 0;}#sk-container-id-1 div.sk-toggleable {background-color: white;}#sk-container-id-1 label.sk-toggleable__label {cursor: pointer;display: block;width: 100%;margin-bottom: 0;padding: 0.3em;box-sizing: border-box;text-align: center;}#sk-container-id-1 label.sk-toggleable__label-arrow:before {content: \"▸\";float: left;margin-right: 0.25em;color: #696969;}#sk-container-id-1 label.sk-toggleable__label-arrow:hover:before {color: black;}#sk-container-id-1 div.sk-estimator:hover label.sk-toggleable__label-arrow:before {color: black;}#sk-container-id-1 div.sk-toggleable__content {max-height: 0;max-width: 0;overflow: hidden;text-align: left;background-color: #f0f8ff;}#sk-container-id-1 div.sk-toggleable__content pre {margin: 0.2em;color: black;border-radius: 0.25em;background-color: #f0f8ff;}#sk-container-id-1 input.sk-toggleable__control:checked~div.sk-toggleable__content {max-height: 200px;max-width: 100%;overflow: auto;}#sk-container-id-1 input.sk-toggleable__control:checked~label.sk-toggleable__label-arrow:before {content: \"▾\";}#sk-container-id-1 div.sk-estimator input.sk-toggleable__control:checked~label.sk-toggleable__label {background-color: #d4ebff;}#sk-container-id-1 div.sk-label input.sk-toggleable__control:checked~label.sk-toggleable__label {background-color: #d4ebff;}#sk-container-id-1 input.sk-hidden--visually {border: 0;clip: rect(1px 1px 1px 1px);clip: rect(1px, 1px, 1px, 1px);height: 1px;margin: -1px;overflow: hidden;padding: 0;position: absolute;width: 1px;}#sk-container-id-1 div.sk-estimator {font-family: monospace;background-color: #f0f8ff;border: 1px dotted black;border-radius: 0.25em;box-sizing: border-box;margin-bottom: 0.5em;}#sk-container-id-1 div.sk-estimator:hover {background-color: #d4ebff;}#sk-container-id-1 div.sk-parallel-item::after {content: \"\";width: 100%;border-bottom: 1px solid gray;flex-grow: 1;}#sk-container-id-1 div.sk-label:hover label.sk-toggleable__label {background-color: #d4ebff;}#sk-container-id-1 div.sk-serial::before {content: \"\";position: absolute;border-left: 1px solid gray;box-sizing: border-box;top: 0;bottom: 0;left: 50%;z-index: 0;}#sk-container-id-1 div.sk-serial {display: flex;flex-direction: column;align-items: center;background-color: white;padding-right: 0.2em;padding-left: 0.2em;position: relative;}#sk-container-id-1 div.sk-item {position: relative;z-index: 1;}#sk-container-id-1 div.sk-parallel {display: flex;align-items: stretch;justify-content: center;background-color: white;position: relative;}#sk-container-id-1 div.sk-item::before, #sk-container-id-1 div.sk-parallel-item::before {content: \"\";position: absolute;border-left: 1px solid gray;box-sizing: border-box;top: 0;bottom: 0;left: 50%;z-index: -1;}#sk-container-id-1 div.sk-parallel-item {display: flex;flex-direction: column;z-index: 1;position: relative;background-color: white;}#sk-container-id-1 div.sk-parallel-item:first-child::after {align-self: flex-end;width: 50%;}#sk-container-id-1 div.sk-parallel-item:last-child::after {align-self: flex-start;width: 50%;}#sk-container-id-1 div.sk-parallel-item:only-child::after {width: 0;}#sk-container-id-1 div.sk-dashed-wrapped {border: 1px dashed gray;margin: 0 0.4em 0.5em 0.4em;box-sizing: border-box;padding-bottom: 0.4em;background-color: white;}#sk-container-id-1 div.sk-label label {font-family: monospace;font-weight: bold;display: inline-block;line-height: 1.2em;}#sk-container-id-1 div.sk-label-container {text-align: center;}#sk-container-id-1 div.sk-container {/* jupyter's `normalize.less` sets `[hidden] { display: none; }` but bootstrap.min.css set `[hidden] { display: none !important; }` so we also need the `!important` here to be able to override the default hidden behavior on the sphinx rendered scikit-learn.org. See: https://github.com/scikit-learn/scikit-learn/issues/21755 */display: inline-block !important;position: relative;}#sk-container-id-1 div.sk-text-repr-fallback {display: none;}</style><div id=\"sk-container-id-1\" class=\"sk-top-container\"><div class=\"sk-text-repr-fallback\"><pre>LinearRegression()</pre><b>In a Jupyter environment, please rerun this cell to show the HTML representation or trust the notebook. <br />On GitHub, the HTML representation is unable to render, please try loading this page with nbviewer.org.</b></div><div class=\"sk-container\" hidden><div class=\"sk-item\"><div class=\"sk-estimator sk-toggleable\"><input class=\"sk-toggleable__control sk-hidden--visually\" id=\"sk-estimator-id-1\" type=\"checkbox\" checked><label for=\"sk-estimator-id-1\" class=\"sk-toggleable__label sk-toggleable__label-arrow\">LinearRegression</label><div class=\"sk-toggleable__content\"><pre>LinearRegression()</pre></div></div></div></div></div>"
      ],
      "text/plain": [
       "LinearRegression()"
      ]
     },
     "execution_count": 5,
     "metadata": {},
     "output_type": "execute_result"
    }
   ],
   "source": [
    "# Regresión lineal simple\n",
    "from sklearn.linear_model import LinearRegression\n",
    "lm = LinearRegression()\n",
    "x = df[['highway_mpg']]\n",
    "y = df['price']\n",
    "lm.fit(x,y)"
   ]
  },
  {
   "cell_type": "code",
   "execution_count": 6,
   "id": "947cfd3c-5249-4081-a575-cb0b540ff9cb",
   "metadata": {},
   "outputs": [
    {
     "data": {
      "text/plain": [
       "array([-821.73337832])"
      ]
     },
     "execution_count": 6,
     "metadata": {},
     "output_type": "execute_result"
    }
   ],
   "source": [
    "# Para obtener el valor de b_1\n",
    "lm.coef_"
   ]
  },
  {
   "cell_type": "code",
   "execution_count": 7,
   "id": "bdfb5c94-4f89-4193-9bd3-0eab3cde0114",
   "metadata": {},
   "outputs": [
    {
     "data": {
      "text/plain": [
       "38423.3058581574"
      ]
     },
     "execution_count": 7,
     "metadata": {},
     "output_type": "execute_result"
    }
   ],
   "source": [
    "# Para obtener el valor de b_0\n",
    "lm.intercept_"
   ]
  },
  {
   "cell_type": "code",
   "execution_count": 8,
   "id": "06a475ec-42da-44da-949f-5be631449dee",
   "metadata": {},
   "outputs": [
    {
     "data": {
      "text/plain": [
       "array([16236.50464347, 16236.50464347, 17058.23802179, 13771.3045085 ,\n",
       "       20345.17153508])"
      ]
     },
     "execution_count": 8,
     "metadata": {},
     "output_type": "execute_result"
    }
   ],
   "source": [
    "# Para hacer una predicción respecto a x\n",
    "yhat = lm.predict(x)\n",
    "yhat[0:5]"
   ]
  },
  {
   "cell_type": "markdown",
   "id": "f735e748-29c7-4c9b-b3a3-9c29ddb209a0",
   "metadata": {},
   "source": [
    "### Regresión lineal múltiple\n",
    "La regresión lineal simple es un método que nos ayuda a entender la relación lineal entre las variables independientes predictoras $x_1,...,x_n$ y la variable dependiente objetivo $y$ con la relación lineal dada por:  \n",
    "$y = \\beta_nx_n + ... + \\beta_1x_n +  \\beta_0 + \\epsilon $  \n",
    "donde $\\epsilon$ es un proceso de ruido blanco.\n",
    "\n",
    "Esto es:\n",
    "$\\hat{y} = \\beta_nx_n + ... + \\beta_1x_n +  \\beta_0$  \n",
    "donde $\\hat{y}$ es un estimado del verdadero valor de $y$.\n",
    "  \n",
    "Para entrenar un modelo de regresión lineal simple entre las variables predictoras col_1, ..., col_n y la variable objetivo col_obj:  \n",
    "1. Importar el modelo de sckit-learn.  \n",
    "`from sklearn.linear_model import LinearRegression`  \n",
    "2. Crear un objeto de regresión lineal.  \n",
    "`lm = LinearRegression()`  \n",
    "3. Definir la variable predictora y la variable objetivo.  \n",
    "`Y = df['col_obj']`  \n",
    "`X = df[['col_1',...,'col__n']]`  \n",
    "4. Estimar los parámetros.  \n",
    "`lm.fit(X,Y)`  \n",
    "\n",
    "Esto es:  \n",
    "`from sklearn.linear_model import LinearRegression`  \n",
    "`lm = LinearRegression()`  \n",
    "`Y = df['col_obj']`  \n",
    "`X = df[['col_1',...,'col__n']]`  \n",
    "`lm.fit(X,Y)`"
   ]
  },
  {
   "cell_type": "code",
   "execution_count": 11,
   "id": "eac4b98f-27fd-4fa1-a3cb-6f869040e665",
   "metadata": {},
   "outputs": [
    {
     "data": {
      "text/html": [
       "<style>#sk-container-id-3 {color: black;}#sk-container-id-3 pre{padding: 0;}#sk-container-id-3 div.sk-toggleable {background-color: white;}#sk-container-id-3 label.sk-toggleable__label {cursor: pointer;display: block;width: 100%;margin-bottom: 0;padding: 0.3em;box-sizing: border-box;text-align: center;}#sk-container-id-3 label.sk-toggleable__label-arrow:before {content: \"▸\";float: left;margin-right: 0.25em;color: #696969;}#sk-container-id-3 label.sk-toggleable__label-arrow:hover:before {color: black;}#sk-container-id-3 div.sk-estimator:hover label.sk-toggleable__label-arrow:before {color: black;}#sk-container-id-3 div.sk-toggleable__content {max-height: 0;max-width: 0;overflow: hidden;text-align: left;background-color: #f0f8ff;}#sk-container-id-3 div.sk-toggleable__content pre {margin: 0.2em;color: black;border-radius: 0.25em;background-color: #f0f8ff;}#sk-container-id-3 input.sk-toggleable__control:checked~div.sk-toggleable__content {max-height: 200px;max-width: 100%;overflow: auto;}#sk-container-id-3 input.sk-toggleable__control:checked~label.sk-toggleable__label-arrow:before {content: \"▾\";}#sk-container-id-3 div.sk-estimator input.sk-toggleable__control:checked~label.sk-toggleable__label {background-color: #d4ebff;}#sk-container-id-3 div.sk-label input.sk-toggleable__control:checked~label.sk-toggleable__label {background-color: #d4ebff;}#sk-container-id-3 input.sk-hidden--visually {border: 0;clip: rect(1px 1px 1px 1px);clip: rect(1px, 1px, 1px, 1px);height: 1px;margin: -1px;overflow: hidden;padding: 0;position: absolute;width: 1px;}#sk-container-id-3 div.sk-estimator {font-family: monospace;background-color: #f0f8ff;border: 1px dotted black;border-radius: 0.25em;box-sizing: border-box;margin-bottom: 0.5em;}#sk-container-id-3 div.sk-estimator:hover {background-color: #d4ebff;}#sk-container-id-3 div.sk-parallel-item::after {content: \"\";width: 100%;border-bottom: 1px solid gray;flex-grow: 1;}#sk-container-id-3 div.sk-label:hover label.sk-toggleable__label {background-color: #d4ebff;}#sk-container-id-3 div.sk-serial::before {content: \"\";position: absolute;border-left: 1px solid gray;box-sizing: border-box;top: 0;bottom: 0;left: 50%;z-index: 0;}#sk-container-id-3 div.sk-serial {display: flex;flex-direction: column;align-items: center;background-color: white;padding-right: 0.2em;padding-left: 0.2em;position: relative;}#sk-container-id-3 div.sk-item {position: relative;z-index: 1;}#sk-container-id-3 div.sk-parallel {display: flex;align-items: stretch;justify-content: center;background-color: white;position: relative;}#sk-container-id-3 div.sk-item::before, #sk-container-id-3 div.sk-parallel-item::before {content: \"\";position: absolute;border-left: 1px solid gray;box-sizing: border-box;top: 0;bottom: 0;left: 50%;z-index: -1;}#sk-container-id-3 div.sk-parallel-item {display: flex;flex-direction: column;z-index: 1;position: relative;background-color: white;}#sk-container-id-3 div.sk-parallel-item:first-child::after {align-self: flex-end;width: 50%;}#sk-container-id-3 div.sk-parallel-item:last-child::after {align-self: flex-start;width: 50%;}#sk-container-id-3 div.sk-parallel-item:only-child::after {width: 0;}#sk-container-id-3 div.sk-dashed-wrapped {border: 1px dashed gray;margin: 0 0.4em 0.5em 0.4em;box-sizing: border-box;padding-bottom: 0.4em;background-color: white;}#sk-container-id-3 div.sk-label label {font-family: monospace;font-weight: bold;display: inline-block;line-height: 1.2em;}#sk-container-id-3 div.sk-label-container {text-align: center;}#sk-container-id-3 div.sk-container {/* jupyter's `normalize.less` sets `[hidden] { display: none; }` but bootstrap.min.css set `[hidden] { display: none !important; }` so we also need the `!important` here to be able to override the default hidden behavior on the sphinx rendered scikit-learn.org. See: https://github.com/scikit-learn/scikit-learn/issues/21755 */display: inline-block !important;position: relative;}#sk-container-id-3 div.sk-text-repr-fallback {display: none;}</style><div id=\"sk-container-id-3\" class=\"sk-top-container\"><div class=\"sk-text-repr-fallback\"><pre>LinearRegression()</pre><b>In a Jupyter environment, please rerun this cell to show the HTML representation or trust the notebook. <br />On GitHub, the HTML representation is unable to render, please try loading this page with nbviewer.org.</b></div><div class=\"sk-container\" hidden><div class=\"sk-item\"><div class=\"sk-estimator sk-toggleable\"><input class=\"sk-toggleable__control sk-hidden--visually\" id=\"sk-estimator-id-3\" type=\"checkbox\" checked><label for=\"sk-estimator-id-3\" class=\"sk-toggleable__label sk-toggleable__label-arrow\">LinearRegression</label><div class=\"sk-toggleable__content\"><pre>LinearRegression()</pre></div></div></div></div></div>"
      ],
      "text/plain": [
       "LinearRegression()"
      ]
     },
     "execution_count": 11,
     "metadata": {},
     "output_type": "execute_result"
    }
   ],
   "source": [
    "# Regresión lineal múltiple\n",
    "from sklearn.linear_model import LinearRegression\n",
    "lm = LinearRegression()\n",
    "x = df[['horsepower', 'curb_weight', 'engine_size', 'highway_mpg']]\n",
    "y = df[['price']]\n",
    "lm.fit(x, y)"
   ]
  },
  {
   "cell_type": "code",
   "execution_count": 12,
   "id": "40094922-9b11-4a8c-8c64-2738539ce7c5",
   "metadata": {},
   "outputs": [
    {
     "data": {
      "text/plain": [
       "array([[53.49574423,  4.70770099, 81.53026382, 36.05748883]])"
      ]
     },
     "execution_count": 12,
     "metadata": {},
     "output_type": "execute_result"
    }
   ],
   "source": [
    "# Para obtener el valor de b_1,...,b_n\n",
    "lm.coef_"
   ]
  },
  {
   "cell_type": "code",
   "execution_count": 13,
   "id": "41aed826-b753-4e1a-a806-ba5965618296",
   "metadata": {},
   "outputs": [
    {
     "data": {
      "text/plain": [
       "array([-15806.62462706])"
      ]
     },
     "execution_count": 13,
     "metadata": {},
     "output_type": "execute_result"
    }
   ],
   "source": [
    "# Para obtener el valor de b_0\n",
    "lm.intercept_"
   ]
  },
  {
   "cell_type": "code",
   "execution_count": 14,
   "id": "7b9e6ae6-3819-45bf-8694-a56af8a717e4",
   "metadata": {},
   "outputs": [
    {
     "data": {
      "text/plain": [
       "array([[20443.81104297]])"
      ]
     },
     "execution_count": 14,
     "metadata": {},
     "output_type": "execute_result"
    }
   ],
   "source": [
    "# Para hacer una predicción respecto a x\n",
    "yhat = lm.predict(pd.DataFrame([[200, 2600, 150, 30]], columns = ['horsepower', 'curb_weight', 'engine_size', 'highway_mpg']))\n",
    "yhat"
   ]
  },
  {
   "cell_type": "markdown",
   "id": "0fc624b7-700d-4709-a82c-05265bb64dbd",
   "metadata": {},
   "source": [
    "### Pronóstico en regresión lineal \n",
    "Cabe notar que si se desea obtener un pronóstico de un nuevo elemento a un modelo que fue entrenado con un conjunto de datos normalizado se tendrá así mismo que aplicar operaciones de normalización al elemento en cuestión. \n",
    "  \n",
    "Se trata aquí de apresurar los pasos de normalización  y regresión lineal en orden de obrener una predicción rápida mediante el uso de `Pipe`. \n",
    "  \n",
    "Para llegar rápidamente a hacer el pronóstico respecto a un modelo polinómica de orden n dada una tabla df con columnas predictoras col_1,col_2,...,col_n y variable a predecir col_obj, siga los siguientes pasos\n",
    "1. Importar las librerías requeridas  \n",
    "`from sklearn.linear_model import LinearRegression`  \n",
    "`from sklearn.preprocessing import StandardScaler`  \n",
    "`from sklearn.pipeline import Pipeline`  \n",
    "3. Crear una lista de tres tuplas de dos elementos de la siguiente manera:  \n",
    "`input = [('scale', StandardScaler()), ('mode', Linear_Regression())]`\n",
    "4. Crear un objeto Pipe sobre el input dado.  \n",
    "`pipe = Pipeline(input)`  \n",
    "5. Definir la variable predictora y la variable objetivo.  \n",
    "`X = df[['col_1', 'col_2', ..., 'col_n']]`  \n",
    "`y = df[col_obj]`  \n",
    "6. Entrenar el modelo  \n",
    "`pm = pipe.fit(X, y)`  \n",
    "7. Obtener una predicción  \n",
    "`yhat = pipe.predict([['col_1', 'col_2',...,'col_n']])`\n",
    "\n",
    "Esto es:  \n",
    "`from sklearn.linear_model import LinearRegression`  \n",
    "`from sklearn.preprocessing import StandardScaler`  \n",
    "`from sklearn.pipeline import Pipeline`  \n",
    "`input = [('scale', StandardScaler()), ('mode', Linear_Regression())]`  \n",
    "`pipe = Pipeline(input)`  \n",
    "`X = df[['col_1', 'col_2', ..., 'col_n']]`  \n",
    "`y = df[col_obj]`  \n",
    "`pm = pipe.fit(X, y)`  \n",
    "`yhat = pipe.predict([['col_1', 'col_2',...,'col_n']])`  "
   ]
  },
  {
   "cell_type": "code",
   "execution_count": 15,
   "id": "fd79aa04-38ab-4626-a50a-e3433901b3ce",
   "metadata": {},
   "outputs": [
    {
     "data": {
      "text/plain": [
       "array([[20443.81104297]])"
      ]
     },
     "execution_count": 15,
     "metadata": {},
     "output_type": "execute_result"
    }
   ],
   "source": [
    "# Obtener pronóstico de dato nuevo medinate un pipe\n",
    "from sklearn.linear_model import LinearRegression\n",
    "from sklearn.preprocessing import StandardScaler\n",
    "from sklearn.pipeline import Pipeline\n",
    "input = [('scale', StandardScaler()), ('mode', LinearRegression())]\n",
    "pipe = Pipeline(input)\n",
    "X = df[['horsepower', 'curb_weight', 'engine_size', 'highway_mpg']]\n",
    "y = df[['price']]\n",
    "pm = pipe.fit(X,y)\n",
    "yhat = pipe.predict(pd.DataFrame([[200, 2600, 150, 30]], columns = ['horsepower', 'curb_weight', 'engine_size', 'highway_mpg']))\n",
    "yhat"
   ]
  },
  {
   "cell_type": "markdown",
   "id": "665d0886-5293-4049-9fdd-e9cc199d26ac",
   "metadata": {},
   "source": [
    "## Regresión polinómica\n",
    "La regresión polinómica es un método que nos ayuda a entender la relación entre las variables independientes predictoras $x_1,...,x_n$ y la variable dependiente objetivo $y$.  Se trata de tomar un modelo de regresión líneal y elevarar las variables predictoras a potencias enteras. \n",
    "  \n",
    "Cabe notar que esto es un caso especial de regresión lineal, pues el modelo es lineal en parámetros. \n"
   ]
  },
  {
   "cell_type": "markdown",
   "id": "ce6cc90e-4a26-4e7f-8e75-6de79b3d8194",
   "metadata": {},
   "source": [
    "### Regresión polinómica simple\n",
    "En este caso, la relación tenemos la variable dependiente $y$ que se busca predecir mediante alguna de las siguientes relaciones:\n",
    "* Modelo polinómico simple de orden 1\n",
    "* $y = \\beta_0 + \\beta_1x + \\epsilon$\n",
    "* Modelo polinómico simple de orden 2  \n",
    "$y = \\beta_0 + \\beta_1x + \\beta_2x^2 + \\epsilon$  \n",
    ".  \n",
    ".  \n",
    ".  \n",
    "* Modelo polinómico simple de orden $n$  \n",
    "$y = \\beta_0 + \\beta_1x + \\beta_2x^2 + ... + \\beta_nx^n + \\epsilon$\n",
    "  \n",
    "    donde $\\epsilon$ es un proceso de ruido blanco.\n",
    "\n",
    "Esto es:  \n",
    "$\\hat{y} = \\beta_0 + \\beta_1x + \\beta_2x^2 + ... + \\beta_nx^n$  \n",
    "donde $\\hat{y}$ es un estimado del verdadero valor de $y$.  \n",
    "\n",
    "Para entrenar un modelo polinómico simple de orden $n$ entre la variable predictora col y la variable objetivo col_obj:  \n",
    "1. Importar numpy.  \n",
    "`import numpy as np`\n",
    "2. Definir la variable predictora y la variable objetivo.  \n",
    "`x = df['col']`  \n",
    "`y = df['col_obj']`    \n",
    "4. Crear un objeto de regresión polinómica y especificar la variable predictora y la variable objetivo .  \n",
    "`pm = np.polyfit(x,y,n)`  \n",
    "5. Imprimir el modelo  \n",
    "`p = np.polyd(pm)`  \n",
    "`print(p)`  \n",
    "  \n",
    "Esto es:  \n",
    "`import numpy as np`  \n",
    "`pm = np.polyfit(df['col'], df['col_obj'] ,n)`  \n",
    "`p = np.poly1d(pm)`  \n",
    "`print(p)`  \n",
    "\n",
    "Para graficar una regresión polinómica simple use la siguiente función:  \n",
    "`def PlotPolly(model, independent_variable, dependent_variabble, xlabel, ylabel, title):` \n",
    "`    x_new = np.linspace(min(independent_variable), max(independent_variable), 1000)`  \n",
    "`    y_new = model(x_new)`  \n",
    "`    plt.plot(independent_variable, dependent_variabble, '.', x_new, y_new, '-')`  \n",
    "`    plt.title('Polynomial Fit')`  \n",
    "`    ax = plt.gca()`  \n",
    "`    fig = plt.gcf()`  \n",
    "`    plt.xlabel(ylabel)`  \n",
    "`    plt.ylabel(xlabel)`  \n",
    "`    plt.title(title)`  \n",
    "`    plt.show()`  \n",
    "`    plt.close()`  \n",
    "`PlotPolly(model = p, independent_variable = df['col'], dependent_variable = df['col_obj'], xlabel = 'col_name', ylabel ='col_obj_name', title = 'col_obj_name vs. col_name' )`"
   ]
  },
  {
   "cell_type": "code",
   "execution_count": 16,
   "id": "5f740717-3e63-46ec-b804-eb706c5edbde",
   "metadata": {},
   "outputs": [
    {
     "name": "stdout",
     "output_type": "stream",
     "text": [
      "        3         2\n",
      "-1.557 x + 204.8 x - 8965 x + 1.379e+05\n"
     ]
    }
   ],
   "source": [
    "# Regresión polinómica simple\n",
    "import numpy as np\n",
    "x = df['highway_mpg']\n",
    "y = df['price']\n",
    "pm = np.polyfit(x, y, 3)\n",
    "p = np.poly1d(pm)\n",
    "print(p)"
   ]
  },
  {
   "cell_type": "code",
   "execution_count": 17,
   "id": "964d4959-5678-4711-8ddb-8ddc2db34bea",
   "metadata": {},
   "outputs": [
    {
     "data": {
      "image/png": "[encoded data removed]",
      "text/plain": [
       "<Figure size 640x480 with 1 Axes>"
      ]
     },
     "metadata": {},
     "output_type": "display_data"
    }
   ],
   "source": [
    "# Función para graficar regresión polinómica simple\n",
    "def PlotPolly(model, independent_variable, dependent_variable, xlabel, ylabel, title):\n",
    "    x_new = np.linspace(min(independent_variable), max(independent_variable), 1000)\n",
    "    y_new = model(x_new)\n",
    "    plt.plot(independent_variable, dependent_variable, '.', x_new, y_new, '-')\n",
    "    ax = plt.gca()  \n",
    "    fig = plt.gcf()\n",
    "    plt.xlabel(ylabel)  \n",
    "    plt.ylabel(xlabel)  \n",
    "    plt.title(title) \n",
    "    plt.show()\n",
    "    plt.close() \n",
    "PlotPolly(model = p, independent_variable = df['highway_mpg'], dependent_variable = df['price'], xlabel = 'price', ylabel ='highway_mpg', title = 'price vs. highway_mpg' )"
   ]
  },
  {
   "cell_type": "code",
   "execution_count": 18,
   "id": "98a81d07-26c0-41d5-86aa-b1052394b814",
   "metadata": {},
   "outputs": [
    {
     "data": {
      "text/plain": [
       "array([14483.47732606, 15876.76908652, 11210.24198667, 23210.06482402])"
      ]
     },
     "execution_count": 18,
     "metadata": {},
     "output_type": "execute_result"
    }
   ],
   "source": [
    "# Para hacer una predicción respecto a x\n",
    "yhat = np.polyval(p, x)\n",
    "yhat[1:5]"
   ]
  },
  {
   "cell_type": "markdown",
   "id": "b329be14-67a5-441d-afdd-56e9894b3c1f",
   "metadata": {},
   "source": [
    "### Regresión polinómica múltiple\n",
    "En este caso, la relación tenemos la variable dependiente $y$ que se busca predecir mediante la siguiente relación con $\\frac{n(n+1)}{2}$ parámetros $\\beta_{i,j}$, $n$ parámetros $\\beta_k$ y un parámetro $\\beta_0$ a estimar:  \n",
    "$y = \\beta_0 + \\sum_{k=1}^{n}x_k\\beta_{k} +  \\sum_{j=1}^{n}\\sum_{i\\geq j}x_jx_i\\beta_{i,j} + \\epsilon$  \n",
    "$ = \\beta_0 + \\sum_{k=1}^{n}x_k\\beta_{k} + \\sum_{i=1}^n x_1x_i\\beta_{i,j} + \\sum_{i=2}^n x_2x_i\\beta_{i,j} + ... + \\sum_{i=n-1}^n x_{n-1}x_i\\beta_{i,j} + \\sum_{i=n}^n x_nx_i\\beta_{i,j}  \\epsilon$  \n",
    "$ = \\beta_0$  \n",
    "$+ (x_1\\beta_1 + ... + x_n\\beta_n)$  \n",
    "$+ (x_1x_1\\beta_{1,1} + x_1x_2\\beta_{1,2} + ... x_1x_{n-1}\\beta_{1,n-1} + x_1x_n\\beta_{1,n})$  \n",
    "$ +(x_2x_2\\beta_{2,2} + ... + x_2x_{n-1}\\beta_{2,n-1} + x_2x_n\\beta_{2,n}) + $  \n",
    "$.$  \n",
    "$.$  \n",
    "$.$  \n",
    "$+ (x_{n-1}x_{n-1}\\beta_{n-1,n-1} + x_{n-1}x_{n}\\beta_{n-1,n})$  \n",
    "$+ (x_nx_n\\beta_{n,n})$  \n",
    "$ + \\epsilon$  \n",
    "donde $\\epsilon$ es un proceso de ruido blanco.  \n",
    "\n",
    "Esto es:  \n",
    "$\\hat{y} = \\beta_0 + \\sum_{k=1}^{n}x_k\\beta_{k} +  \\sum_{j=1}^{n}\\sum_{i\\geq j}x_jx_i\\beta_{i,j} + \\epsilon$ \n",
    "donde $\\hat{y}$ es un estimado del verdadero valor de $y$.  \n",
    "  \n",
    "Por ejemplo, si se tarta de un modelo polinómico múltiple de orden dos con dos variables predictoras entonces el modelo tomaría la siguiente forma:  \n",
    "$y = \\beta_0 + x_1\\beta_1 + x_2\\beta_2 + x_1^2\\beta{1,1} + x_1x_2\\beta_{1,2} + x_2^2\\beta_{2,2} + \\epsilon$  \n",
    "  \n",
    "\n",
    "  \n",
    "Para entrenar un modelo de polinómico múltiple de órden $n$ entre las variables predictoras col_1, ..., col_n y la variable objetivo col_obj:  \n",
    "1. Importar el transformador polinómico de sckit-learn.  \n",
    "`from sklearn.preprocessing import PolynomialFeatures`  \n",
    "2. Importar el modelo de regresión lineal de scikit-learn.  \n",
    "`from sklearn.linear_model import LinearRegression`  \n",
    "3. Definir la variable predictora y la variable objetivo.  \n",
    "`X = df[['col_1', 'col_2', ..., 'col_n']]`  \n",
    "`y = df[col_obj]`  \n",
    "4. Crear un objeto de caacterística polinómica.  \n",
    "`pf = PolynomialFeatures(degree = n)`  \n",
    "5. Hacer la transformación polinómica.  \n",
    "`X_pf = pf.fit_transform(X)`  \n",
    "6. Crear un objeto de regresión lineal.  \n",
    "`pm = LinearRegression()`  \n",
    "7. Estimar los parámetros.  \n",
    "`pm.fit(X_pf, y)`\n",
    "  \n",
    "Esto es:  \n",
    "`from sklearn.preprocessing import PolynomialFeatures`  \n",
    "`from sklearn.linear_model import LinearRegression`  \n",
    "`X = df[['col_1', 'col_2', ..., 'col_n']]`  \n",
    "`y = df[col_obj]`    \n",
    "`pf = PolynomialFeatures(degree = n)`  \n",
    "`X_pf = pf.fit_transform(X)`  \n",
    "`pm = LinearRegression()`  \n",
    "`pm.fit(X_pf, y)`  "
   ]
  },
  {
   "cell_type": "code",
   "execution_count": 20,
   "id": "370110e4-368a-4a2d-95a8-d1729e3893b3",
   "metadata": {},
   "outputs": [
    {
     "data": {
      "text/html": [
       "<style>#sk-container-id-4 {color: black;}#sk-container-id-4 pre{padding: 0;}#sk-container-id-4 div.sk-toggleable {background-color: white;}#sk-container-id-4 label.sk-toggleable__label {cursor: pointer;display: block;width: 100%;margin-bottom: 0;padding: 0.3em;box-sizing: border-box;text-align: center;}#sk-container-id-4 label.sk-toggleable__label-arrow:before {content: \"▸\";float: left;margin-right: 0.25em;color: #696969;}#sk-container-id-4 label.sk-toggleable__label-arrow:hover:before {color: black;}#sk-container-id-4 div.sk-estimator:hover label.sk-toggleable__label-arrow:before {color: black;}#sk-container-id-4 div.sk-toggleable__content {max-height: 0;max-width: 0;overflow: hidden;text-align: left;background-color: #f0f8ff;}#sk-container-id-4 div.sk-toggleable__content pre {margin: 0.2em;color: black;border-radius: 0.25em;background-color: #f0f8ff;}#sk-container-id-4 input.sk-toggleable__control:checked~div.sk-toggleable__content {max-height: 200px;max-width: 100%;overflow: auto;}#sk-container-id-4 input.sk-toggleable__control:checked~label.sk-toggleable__label-arrow:before {content: \"▾\";}#sk-container-id-4 div.sk-estimator input.sk-toggleable__control:checked~label.sk-toggleable__label {background-color: #d4ebff;}#sk-container-id-4 div.sk-label input.sk-toggleable__control:checked~label.sk-toggleable__label {background-color: #d4ebff;}#sk-container-id-4 input.sk-hidden--visually {border: 0;clip: rect(1px 1px 1px 1px);clip: rect(1px, 1px, 1px, 1px);height: 1px;margin: -1px;overflow: hidden;padding: 0;position: absolute;width: 1px;}#sk-container-id-4 div.sk-estimator {font-family: monospace;background-color: #f0f8ff;border: 1px dotted black;border-radius: 0.25em;box-sizing: border-box;margin-bottom: 0.5em;}#sk-container-id-4 div.sk-estimator:hover {background-color: #d4ebff;}#sk-container-id-4 div.sk-parallel-item::after {content: \"\";width: 100%;border-bottom: 1px solid gray;flex-grow: 1;}#sk-container-id-4 div.sk-label:hover label.sk-toggleable__label {background-color: #d4ebff;}#sk-container-id-4 div.sk-serial::before {content: \"\";position: absolute;border-left: 1px solid gray;box-sizing: border-box;top: 0;bottom: 0;left: 50%;z-index: 0;}#sk-container-id-4 div.sk-serial {display: flex;flex-direction: column;align-items: center;background-color: white;padding-right: 0.2em;padding-left: 0.2em;position: relative;}#sk-container-id-4 div.sk-item {position: relative;z-index: 1;}#sk-container-id-4 div.sk-parallel {display: flex;align-items: stretch;justify-content: center;background-color: white;position: relative;}#sk-container-id-4 div.sk-item::before, #sk-container-id-4 div.sk-parallel-item::before {content: \"\";position: absolute;border-left: 1px solid gray;box-sizing: border-box;top: 0;bottom: 0;left: 50%;z-index: -1;}#sk-container-id-4 div.sk-parallel-item {display: flex;flex-direction: column;z-index: 1;position: relative;background-color: white;}#sk-container-id-4 div.sk-parallel-item:first-child::after {align-self: flex-end;width: 50%;}#sk-container-id-4 div.sk-parallel-item:last-child::after {align-self: flex-start;width: 50%;}#sk-container-id-4 div.sk-parallel-item:only-child::after {width: 0;}#sk-container-id-4 div.sk-dashed-wrapped {border: 1px dashed gray;margin: 0 0.4em 0.5em 0.4em;box-sizing: border-box;padding-bottom: 0.4em;background-color: white;}#sk-container-id-4 div.sk-label label {font-family: monospace;font-weight: bold;display: inline-block;line-height: 1.2em;}#sk-container-id-4 div.sk-label-container {text-align: center;}#sk-container-id-4 div.sk-container {/* jupyter's `normalize.less` sets `[hidden] { display: none; }` but bootstrap.min.css set `[hidden] { display: none !important; }` so we also need the `!important` here to be able to override the default hidden behavior on the sphinx rendered scikit-learn.org. See: https://github.com/scikit-learn/scikit-learn/issues/21755 */display: inline-block !important;position: relative;}#sk-container-id-4 div.sk-text-repr-fallback {display: none;}</style><div id=\"sk-container-id-4\" class=\"sk-top-container\"><div class=\"sk-text-repr-fallback\"><pre>LinearRegression()</pre><b>In a Jupyter environment, please rerun this cell to show the HTML representation or trust the notebook. <br />On GitHub, the HTML representation is unable to render, please try loading this page with nbviewer.org.</b></div><div class=\"sk-container\" hidden><div class=\"sk-item\"><div class=\"sk-estimator sk-toggleable\"><input class=\"sk-toggleable__control sk-hidden--visually\" id=\"sk-estimator-id-4\" type=\"checkbox\" checked><label for=\"sk-estimator-id-4\" class=\"sk-toggleable__label sk-toggleable__label-arrow\">LinearRegression</label><div class=\"sk-toggleable__content\"><pre>LinearRegression()</pre></div></div></div></div></div>"
      ],
      "text/plain": [
       "LinearRegression()"
      ]
     },
     "execution_count": 20,
     "metadata": {},
     "output_type": "execute_result"
    }
   ],
   "source": [
    "# Regresión polinómica múltiple\n",
    "from sklearn.preprocessing import PolynomialFeatures\n",
    "from sklearn.linear_model import LinearRegression\n",
    "X = df[['horsepower', 'curb_weight', 'engine_size', 'highway_mpg']]\n",
    "y = df[['price']]\n",
    "pf = PolynomialFeatures(degree=2)\n",
    "X_pf = pf.fit_transform(X)\n",
    "pm = LinearRegression()\n",
    "pm.fit(X_pf, y)"
   ]
  },
  {
   "cell_type": "code",
   "execution_count": 22,
   "id": "422299e0-ecc0-4659-8e5d-953aebaa5885",
   "metadata": {},
   "outputs": [
    {
     "data": {
      "text/plain": [
       "array([[ 0.00000000e+00,  3.79990747e+02,  9.53081616e+00,\n",
       "        -1.06265103e+02,  1.82168928e+02,  1.69423474e+00,\n",
       "        -1.86864385e-01, -1.29043091e+00, -2.14860064e+00,\n",
       "         7.57100955e-04,  1.11910005e-01, -1.92007463e-01,\n",
       "         8.95252693e-02,  4.23869256e-02,  4.66019878e+00]])"
      ]
     },
     "execution_count": 22,
     "metadata": {},
     "output_type": "execute_result"
    }
   ],
   "source": [
    "# Para ver los coeficientes\n",
    "pm.coef_"
   ]
  },
  {
   "cell_type": "code",
   "execution_count": 23,
   "id": "4d4f83ea-17c5-49e0-a92a-0944135973e8",
   "metadata": {},
   "outputs": [
    {
     "data": {
      "text/plain": [
       "array([-21262.84827496])"
      ]
     },
     "execution_count": 23,
     "metadata": {},
     "output_type": "execute_result"
    }
   ],
   "source": [
    "# Para ver el intercepto\n",
    "pm.intercept_"
   ]
  },
  {
   "cell_type": "code",
   "execution_count": 25,
   "id": "8e429f5c-94ad-4c6d-afa4-4ea903464298",
   "metadata": {},
   "outputs": [
    {
     "data": {
      "text/plain": [
       "array([[13102.74784206],\n",
       "       [18225.5457221 ],\n",
       "       [10390.29636576],\n",
       "       [16136.29619147]])"
      ]
     },
     "execution_count": 25,
     "metadata": {},
     "output_type": "execute_result"
    }
   ],
   "source": [
    "# Para hacer una predicción.\n",
    "# Cabe notar\n",
    "yhat = pm.predict(X_pf)\n",
    "yhat[1:5]"
   ]
  },
  {
   "cell_type": "markdown",
   "id": "9d03308f-2e3b-4328-94b5-598d4acdf040",
   "metadata": {},
   "source": [
    "### Regresión polinómica con diferentes grados"
   ]
  },
  {
   "cell_type": "markdown",
   "id": "f53ffd05-46ce-4a08-9138-ece6816850d3",
   "metadata": {},
   "source": [
    "Se trata de realizar una regresión polinómica teniendo en cuanta cuál es el mejor grado del polinomio a utilizar. \n",
    "* Si se usa un grado polinómico demasiado bajo, puede que exista un subajuste (underfitting). Esto es que el modelo no es lo suficientemente complejo como para ajustarse a la función que describen los datos. De esto resulta que el modelo tenga un alto error de entrenamiento y un alto error de prueba. Esto es, malo tanto para  datos conocidos como para datos nuevos.\n",
    "* Si se usa un grado polinómico demasiado alto, puede que exista un sobreajuste (overfitting). Esto es que el modelo es demasiado complejo de modo que se ajusta al ruido en vez de a la función que describen los datos. Si bien esto puede conducir a tener bajos errores de entrenamiento, esto provocará que hayan alto errores de prueba. Esto es, bueno para datos conocidos pero malo para datos nuevos.\n",
    "  \n",
    "Así pues, se busca un grado equilibrado en el que el modelo se ajuste sanamente a la función que decriben los datos. Para esto, calcularemos medidas de error de prueba para cada grado del polinomio y elegiremos aquél que lo minimice; además, calcularemos medidas de bondad de ajuste y elegiremos aquél que los maximice. Esto en el contexto de validación cruzada. \n",
    "  \n",
    "A pesar de elegir el mejor grado posible, aún habría error, pero  hay que entender que esto puede ser irreducible dado el componente aleatorio o el ruido en los datos. Pueden haber otras fuentes de error, sobre todo que simplemente que los datos pueden ser modelados con un polinomio. \n",
    "  \n",
    "1. Importar herramientas requeridas de scikit-learn.  \n",
    "`from sklearn.preprocessing import PolynomialFeatures`    \n",
    "`from sklearn.linear_model import LinearRegression`  \n",
    "`from sklearn.model_selection import cross_val_score`  \n",
    "2. Definir variables predictoras y variable a predecir.  \n",
    "`x = df[['col_1', ..., 'col_n']]`  \n",
    "`y = df[['col_obj']]`  \n",
    "3. Establecer una lista de ordenes polinomiales de interés.  \n",
    "`order = [1,2,...,n]`  \n",
    "4. Hacer una lista vacía para agregar scores de $R^2$.  \n",
    "`R2_test = []`  \n",
    "5. Hacer una lista vacía para agregar scores de $\\sqrt{MSE}$.  \n",
    "`MSE_test = []`  \n",
    "6. Para cada orden, calcular el promedio de los socres $R^2$ y $\\sqrt{MSE}$ como resultado de validación cruzada.  \n",
    "`for n in order:`    \n",
    "`    pf = PolynomialFeatures(degree = n)`  \n",
    "`    x_pf = pf.fit_transform(x)`  \n",
    "`    pm = LinearRegression()`  \n",
    "`    R2_test.append(np.mean(cross_val_score(pm, x_pf, y, scoring='r2')))`  \n",
    "`    MSE_test.append(-np.mean(cross_val_score(pm, x_pf, y, scoring='neg_root_mean_squared_error')))`\n",
    "7. Imprimir los resultados.\n",
    "`print(R2_test)`  \n",
    "`print(MSE_test)`\n",
    "8. Elegir el orden polinomial con mejor score. \n",
    "\n",
    "Esto es:  \n",
    "`from sklearn.preprocessing import PolynomialFeatures`  \n",
    "`from sklearn.linear_model import LinearRegression`  \n",
    "`from sklearn.model_selection import cross_val_score`  \n",
    "`x = df[['col_1',...,'col_n']]`  \n",
    "`y = df[['col_obj']]`  \n",
    "`order = [1,2,3,4]`  \n",
    "`R2_test = []`  \n",
    "`MSE_test = []`   \n",
    "`for n in order:`    \n",
    "`    pf = PolynomialFeatures(degree = n)`  \n",
    "`    x_pf = pf.fit_transform(x)`  \n",
    "`    pm = LinearRegression()`  \n",
    "`    R2_test.append(np.mean(cross_val_score(pm, x_pf, y, scoring='r2')))`  \n",
    "`    MSE_test.append(-np.mean(cross_val_score(pm, x_pf, y, scoring='neg_root_mean_squared_error')))`  \n",
    "`print(R2_test)`  \n",
    "`print(MSE_test)`   "
   ]
  },
  {
   "cell_type": "code",
   "execution_count": 26,
   "id": "d632d340-731b-4e73-aa87-683283f6752a",
   "metadata": {},
   "outputs": [
    {
     "name": "stdout",
     "output_type": "stream",
     "text": [
      "[0.31495896271421725, 0.4400858750704377, 0.49399743333231505, 0.4664571642067493]\n",
      "[5684.390290796094, 4898.49674554002, 4624.847889057891, 4820.321451082009]\n"
     ]
    }
   ],
   "source": [
    "from sklearn.preprocessing import PolynomialFeatures  \n",
    "from sklearn.linear_model import LinearRegression\n",
    "from sklearn.model_selection import cross_val_score\n",
    "x = df[['highway_mpg']]\n",
    "y = df[['price']]\n",
    "order = [1,2,3,4]\n",
    "R2_test = []\n",
    "MSE_test = []  \n",
    "for n in order:  \n",
    "    pf = PolynomialFeatures(degree = n)\n",
    "    x_pf = pf.fit_transform(x)\n",
    "    pm = LinearRegression()\n",
    "    R2_test.append(np.mean(cross_val_score(pm, x_pf, y, scoring='r2'))) \n",
    "    MSE_test.append(-np.mean(cross_val_score(pm, x_pf, y, scoring='neg_root_mean_squared_error')))\n",
    "print(R2_test)\n",
    "print(MSE_test)  "
   ]
  },
  {
   "cell_type": "code",
   "execution_count": 27,
   "id": "176e1ef9-d310-42d8-a311-5eb03c2067e3",
   "metadata": {},
   "outputs": [
    {
     "data": {
      "image/png": "[encoded data removed]",
      "text/plain": [
       "<Figure size 640x480 with 1 Axes>"
      ]
     },
     "metadata": {},
     "output_type": "display_data"
    }
   ],
   "source": [
    "# Ver el comportamiento de R^2 respecto a el orden polinómico. Elegir el orden que aporte el  mayor R^2.\n",
    "plt.plot(order, R2_test)\n",
    "plt.xlabel('order')  \n",
    "plt.ylabel('R^2')  \n",
    "plt.title('$R^2$ vs. polinomial order') \n",
    "plt.show()\n",
    "plt.close() "
   ]
  },
  {
   "cell_type": "code",
   "execution_count": 28,
   "id": "f6f8bdaa-72cd-4ffa-96f5-445db9f20773",
   "metadata": {},
   "outputs": [
    {
     "data": {
      "image/png": "[encoded data removed]",
      "text/plain": [
       "<Figure size 640x480 with 1 Axes>"
      ]
     },
     "metadata": {},
     "output_type": "display_data"
    }
   ],
   "source": [
    "# Ver el comportamiento de sqrt{MSE} respecto a el orden polinómico. Elegir el orden que aporte menor sqrt{MSE}. \n",
    "plt.plot(order, MSE_test)\n",
    "plt.xlabel('order')  \n",
    "plt.ylabel('$\\sqrt{MSE}$')  \n",
    "plt.title('$\\sqrt{MSE}$ vs. polinomial order') \n",
    "plt.show()\n",
    "plt.close() "
   ]
  },
  {
   "cell_type": "markdown",
   "id": "d2e231c4-25e0-4698-aeaa-9b59b10481a6",
   "metadata": {},
   "source": [
    "### Pronóstico en regresión polinómica \n",
    "Cabe notar que si se desea obtener un pronóstico de un nuevo elemento a un modelo que fue entrenad con un conjunto de datos normalizado y transformado se tendrá así mismo que aplicar operaciones de normalización y transfromación al elemento en cuestión. \n",
    "  \n",
    "Se trata aquí de apresurar los pasos de normalización, transformación polinómica y regresión lineal en orden de obrener una predicción rápida mediante el uso de `Pipe`. \n",
    "  \n",
    "Para llegar rápidamente a hacer el pronóstico respecto a un modelo polinómica de orden n dada una tabla df con columnas predictoras col_1,col_2,...,col_n y variable a predecir col_obj, siga los siguientes pasos\n",
    "1. Importar las librerías requeridas  \n",
    "`from sklearn.preprocessing import PolynomialFeatures`  \n",
    "`from sklearn.linear_model import LinearRegression`  \n",
    "`from sklearn.preprocessing import StandardScaler`  \n",
    "`from sklearn.pipeline import Pipeline`  \n",
    "3. Crear una lista de tres tuplas de dos elementos de la siguiente manera:  \n",
    "`input = [('scale', StandardScaler()), ('polynomial', PolynomialFeatures(degree = n, include_bias = False)), ('mode', Linear_Regression())]`\n",
    "4. Crear un objeto Pipe sobre el input dado.  \n",
    "`pipe = Pipeline(input)`  \n",
    "5. Definir la variable predictora y la variable objetivo.  \n",
    "`X = df[['col_1', 'col_2', ..., 'col_n']]`  \n",
    "`y = df[col_obj]`  \n",
    "6. Entrenar el modelo  \n",
    "`pm = pipe.fit(X, y)`  \n",
    "7. Obtener una predicción  \n",
    "`yhat = pipe.predict([['col_1', 'col_2',...,'col_n']])`\n",
    "\n",
    "Esto es:  \n",
    "`from sklearn.preprocessing import PolynomialFeatures`  \n",
    "`from sklearn.linear_model import LinearRegression`  \n",
    "`from sklearn.preprocessing import StandardScaler`  \n",
    "`from sklearn.pipeline import Pipeline`  \n",
    "`input = [('scale', StandardScaler()), ('polynomial', PolynomialFeatures(degree = n, include_bias = False)), ('mode', Linear_Regression())]`  \n",
    "`pipe = Pipeline(input)`  \n",
    "`X = df[['col_1', 'col_2', ..., 'col_n']]`  \n",
    "`y = df[col_obj]`  \n",
    "`pm = pipe.fit(X, y)`  \n",
    "`yhat = pipe.predict([['col_1', 'col_2',...,'col_n']])`  "
   ]
  },
  {
   "cell_type": "code",
   "execution_count": 29,
   "id": "b29d67b0-ccaa-4102-9b27-aef03f0b0683",
   "metadata": {},
   "outputs": [
    {
     "data": {
      "text/plain": [
       "array([[28221.66460163]])"
      ]
     },
     "execution_count": 29,
     "metadata": {},
     "output_type": "execute_result"
    }
   ],
   "source": [
    "# Obtener pronóstico de dato nuevo medinate un pipe\n",
    "from sklearn.preprocessing import PolynomialFeatures\n",
    "from sklearn.linear_model import LinearRegression\n",
    "from sklearn.preprocessing import StandardScaler\n",
    "from sklearn.pipeline import Pipeline\n",
    "input = [('scale', StandardScaler()), ('polynomial', PolynomialFeatures(degree = 2)), ('mode', LinearRegression())]\n",
    "pipe = Pipeline(input)\n",
    "X = df[['horsepower', 'curb_weight', 'engine_size', 'highway_mpg']]\n",
    "y = df[['price']]\n",
    "pm = pipe.fit(X,y)\n",
    "yhat = pipe.predict(pd.DataFrame([[200, 2600, 150, 30]], columns = ['horsepower', 'curb_weight', 'engine_size', 'highway_mpg']))\n",
    "yhat"
   ]
  },
  {
   "cell_type": "markdown",
   "id": "c12476a7-b011-4804-b739-66646862bda3",
   "metadata": {},
   "source": [
    "## Métodos de regularización estadística"
   ]
  },
  {
   "cell_type": "markdown",
   "id": "0ad107d4-15bd-4014-aae3-49f18fc431fa",
   "metadata": {},
   "source": []
  },
  {
   "cell_type": "markdown",
   "id": "0d1780e0-76e3-4244-9aa7-4e1936636fc0",
   "metadata": {},
   "source": [
    "### Regresión ridge\n",
    "Se trata de un método de regularización que se utiliza para estimar los parámetros de una regresión lineal múltiple en la que las variables independinetes están altamente correlacionadas.\n",
    "  \n",
    "La regresión ridge previene el sobreajuste mediante el control de los coeficientes del polinomio estimado mediante un hiperparámetro $\\alpha$. Cuando aumenta el hiperparámetros $\\alpha$ resulta que los parámatros estimados decaen; sin embaego, para valores de $\\alpha$ muy grandes los parámetros podrían ser cero. En orden de obtener el valor adecuado de $\\alpha$ se usará validación cruzada. Pafra esto, entrenamos al modelo para diferentes valores de $\\alpha$ y calcularemos la medida de bondad de ajuste $R^2$ y el error de prueba $MSE$. Elegiremos el que maximice el ajuste y minimice el errror de prueba; `GridSearchCV` nos ayuda a este propósito. \n",
    "  \n",
    "  \n",
    "Para hacer una regesión ridge con las columnas predictoras col_1,col_2,...,col_n y la variable a predecir col_obj de la tabla df con hiperparámetro $\\alpha = a$ utilice el siguiente código. \n",
    "  \n",
    "1. Importar herramientas requeridas de scikit-learn.  \n",
    "`from sklearn.linear_model import Ridge`  \n",
    "`from sklearn.model_selection import GridSearchCV`  \n",
    "3. Definir un vector de hiperparámetros.  \n",
    "`hyperparameters = [{'alpha': [0.001, 0.1, 1, 10, 100, 1000, 10000, 100000] }]`  \n",
    "4. Crear un objeto de regresión ridge.  \n",
    "`rr = Ridge()`  \n",
    "5. Crear un objeto Grid.  \n",
    "`Grid = GridSearchCV(rr, hyperparameters)`  \n",
    "7. Definir la variable predictora y la variable objetivo.  \n",
    "`x = df[['col_1', 'col_2', ..., 'col_n']]`    \n",
    "`y = df[col_obj]`  \n",
    "8. Buscar el mejor hiperparámetro.  \n",
    "`Grid.fit(x,y)`  \n",
    "9. Imprimir el mejor hiperparámetro.  \n",
    "`Grid.best_estimator_`  \n",
    "10. Especificar el hiperparámetro del modelo.  \n",
    "`rr = Ridge(alpha = a)`  \n",
    "11. Entrenar el modelo.  \n",
    "`rr.fit(x,y)`\n",
    "\n",
    "Esto es:  \n",
    "`from sklearn.linear_model import Ridge`  \n",
    "`from sklearn.model_selection import GridSearchCV`  \n",
    "`hyperparameters = [{'alpha': [0.001, 0.1, 1, 10, 100, 1000, 10000, 100000] }]`  \n",
    "`rr = Ridge()`  \n",
    "`Grid = GridSearchCV(rr, hyperparameters)`  \n",
    "`x = df[['col_1', 'col_2', ..., 'col_n']]`    \n",
    "`y = df[col_obj]`  \n",
    "`Grid.fit(x,y)`  \n",
    "`Grid.best_estimator_`  \n",
    "`rr = Ridge(alpha = a)`  \n",
    "`rr.fit(x,y)`"
   ]
  },
  {
   "cell_type": "markdown",
   "id": "02fd052a-18aa-439c-9425-2813e6995347",
   "metadata": {},
   "source": [
    "### Regresión Lasso"
   ]
  },
  {
   "cell_type": "code",
   "execution_count": null,
   "id": "efbb97ac-0479-4b32-9a8e-becea0357c5b",
   "metadata": {},
   "outputs": [],
   "source": []
  },
  {
   "cell_type": "code",
   "execution_count": null,
   "id": "894f094c-7322-4b98-b5d2-47740df9f1d1",
   "metadata": {},
   "outputs": [],
   "source": []
  },
  {
   "cell_type": "code",
   "execution_count": null,
   "id": "59805f06-3fa7-4855-92a9-464ded0df21f",
   "metadata": {},
   "outputs": [],
   "source": []
  },
  {
   "cell_type": "code",
   "execution_count": 1,
   "id": "236b8eb4-4c4d-4341-ac1e-589d7c1a777e",
   "metadata": {},
   "outputs": [
    {
     "name": "stdin",
     "output_type": "stream",
     "text": [
      "Once deleted, variables cannot be recovered. Proceed (y/[n])?  y\n"
     ]
    }
   ],
   "source": [
    "%reset"
   ]
  }
 ],
 "metadata": {
  "kernelspec": {
   "display_name": "Python 3 (ipykernel)",
   "language": "python",
   "name": "python3"
  },
  "language_info": {
   "codemirror_mode": {
    "name": "ipython",
    "version": 3
   },
   "file_extension": ".py",
   "mimetype": "text/x-python",
   "name": "python",
   "nbconvert_exporter": "python",
   "pygments_lexer": "ipython3",
   "version": "3.8.17"
  }
 },
 "nbformat": 4,
 "nbformat_minor": 5
}
